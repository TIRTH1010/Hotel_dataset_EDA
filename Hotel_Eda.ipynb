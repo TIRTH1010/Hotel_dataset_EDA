{
 "cells": [
  {
   "cell_type": "code",
   "execution_count": 1,
   "metadata": {},
   "outputs": [],
   "source": [
    "import pandas as pd\n",
    "import numpy as np\n",
    "import seaborn as sns\n",
    "import matplotlib.pyplot as plt\n",
    "import os"
   ]
  },
  {
   "cell_type": "code",
   "execution_count": 4,
   "metadata": {},
   "outputs": [],
   "source": [
    "df=pd.read_csv(r\"E:\\Pandas EDA\\Hotel_bookings_EDA\\hotel_bookings.csv\")"
   ]
  },
  {
   "cell_type": "code",
   "execution_count": 5,
   "metadata": {},
   "outputs": [
    {
     "name": "stdout",
     "output_type": "stream",
     "text": [
      "<class 'pandas.core.frame.DataFrame'>\n",
      "RangeIndex: 119390 entries, 0 to 119389\n",
      "Data columns (total 32 columns):\n",
      " #   Column                          Non-Null Count   Dtype  \n",
      "---  ------                          --------------   -----  \n",
      " 0   hotel                           119390 non-null  object \n",
      " 1   is_canceled                     119390 non-null  int64  \n",
      " 2   lead_time                       119390 non-null  int64  \n",
      " 3   arrival_date_year               119390 non-null  int64  \n",
      " 4   arrival_date_month              119390 non-null  object \n",
      " 5   arrival_date_week_number        119390 non-null  int64  \n",
      " 6   arrival_date_day_of_month       119390 non-null  int64  \n",
      " 7   stays_in_weekend_nights         119390 non-null  int64  \n",
      " 8   stays_in_week_nights            119390 non-null  int64  \n",
      " 9   adults                          119390 non-null  int64  \n",
      " 10  children                        119386 non-null  float64\n",
      " 11  babies                          119390 non-null  int64  \n",
      " 12  meal                            119390 non-null  object \n",
      " 13  country                         118902 non-null  object \n",
      " 14  market_segment                  119390 non-null  object \n",
      " 15  distribution_channel            119390 non-null  object \n",
      " 16  is_repeated_guest               119390 non-null  int64  \n",
      " 17  previous_cancellations          119390 non-null  int64  \n",
      " 18  previous_bookings_not_canceled  119390 non-null  int64  \n",
      " 19  reserved_room_type              119390 non-null  object \n",
      " 20  assigned_room_type              119390 non-null  object \n",
      " 21  booking_changes                 119390 non-null  int64  \n",
      " 22  deposit_type                    119390 non-null  object \n",
      " 23  agent                           103050 non-null  float64\n",
      " 24  company                         6797 non-null    float64\n",
      " 25  days_in_waiting_list            119390 non-null  int64  \n",
      " 26  customer_type                   119390 non-null  object \n",
      " 27  adr                             119390 non-null  float64\n",
      " 28  required_car_parking_spaces     119390 non-null  int64  \n",
      " 29  total_of_special_requests       119390 non-null  int64  \n",
      " 30  reservation_status              119390 non-null  object \n",
      " 31  reservation_status_date         119390 non-null  object \n",
      "dtypes: float64(4), int64(16), object(12)\n",
      "memory usage: 29.1+ MB\n"
     ]
    }
   ],
   "source": [
    "df.info()"
   ]
  },
  {
   "cell_type": "code",
   "execution_count": 6,
   "metadata": {},
   "outputs": [
    {
     "data": {
      "text/plain": [
       "Index(['hotel', 'is_canceled', 'lead_time', 'arrival_date_year',\n",
       "       'arrival_date_month', 'arrival_date_week_number',\n",
       "       'arrival_date_day_of_month', 'stays_in_weekend_nights',\n",
       "       'stays_in_week_nights', 'adults', 'children', 'babies', 'meal',\n",
       "       'country', 'market_segment', 'distribution_channel',\n",
       "       'is_repeated_guest', 'previous_cancellations',\n",
       "       'previous_bookings_not_canceled', 'reserved_room_type',\n",
       "       'assigned_room_type', 'booking_changes', 'deposit_type', 'agent',\n",
       "       'company', 'days_in_waiting_list', 'customer_type', 'adr',\n",
       "       'required_car_parking_spaces', 'total_of_special_requests',\n",
       "       'reservation_status', 'reservation_status_date'],\n",
       "      dtype='object')"
      ]
     },
     "execution_count": 6,
     "metadata": {},
     "output_type": "execute_result"
    }
   ],
   "source": [
    "df.columns\n"
   ]
  },
  {
   "cell_type": "code",
   "execution_count": 7,
   "metadata": {},
   "outputs": [
    {
     "data": {
      "text/plain": [
       "hotel                              object\n",
       "is_canceled                         int64\n",
       "lead_time                           int64\n",
       "arrival_date_year                   int64\n",
       "arrival_date_month                 object\n",
       "arrival_date_week_number            int64\n",
       "arrival_date_day_of_month           int64\n",
       "stays_in_weekend_nights             int64\n",
       "stays_in_week_nights                int64\n",
       "adults                              int64\n",
       "children                          float64\n",
       "babies                              int64\n",
       "meal                               object\n",
       "country                            object\n",
       "market_segment                     object\n",
       "distribution_channel               object\n",
       "is_repeated_guest                   int64\n",
       "previous_cancellations              int64\n",
       "previous_bookings_not_canceled      int64\n",
       "reserved_room_type                 object\n",
       "assigned_room_type                 object\n",
       "booking_changes                     int64\n",
       "deposit_type                       object\n",
       "agent                             float64\n",
       "company                           float64\n",
       "days_in_waiting_list                int64\n",
       "customer_type                      object\n",
       "adr                               float64\n",
       "required_car_parking_spaces         int64\n",
       "total_of_special_requests           int64\n",
       "reservation_status                 object\n",
       "reservation_status_date            object\n",
       "dtype: object"
      ]
     },
     "execution_count": 7,
     "metadata": {},
     "output_type": "execute_result"
    }
   ],
   "source": [
    "df.dtypes"
   ]
  },
  {
   "cell_type": "code",
   "execution_count": 8,
   "metadata": {},
   "outputs": [
    {
     "data": {
      "text/plain": [
       "hotel                                  0\n",
       "is_canceled                            0\n",
       "lead_time                              0\n",
       "arrival_date_year                      0\n",
       "arrival_date_month                     0\n",
       "arrival_date_week_number               0\n",
       "arrival_date_day_of_month              0\n",
       "stays_in_weekend_nights                0\n",
       "stays_in_week_nights                   0\n",
       "adults                                 0\n",
       "children                               4\n",
       "babies                                 0\n",
       "meal                                   0\n",
       "country                              488\n",
       "market_segment                         0\n",
       "distribution_channel                   0\n",
       "is_repeated_guest                      0\n",
       "previous_cancellations                 0\n",
       "previous_bookings_not_canceled         0\n",
       "reserved_room_type                     0\n",
       "assigned_room_type                     0\n",
       "booking_changes                        0\n",
       "deposit_type                           0\n",
       "agent                              16340\n",
       "company                           112593\n",
       "days_in_waiting_list                   0\n",
       "customer_type                          0\n",
       "adr                                    0\n",
       "required_car_parking_spaces            0\n",
       "total_of_special_requests              0\n",
       "reservation_status                     0\n",
       "reservation_status_date                0\n",
       "dtype: int64"
      ]
     },
     "execution_count": 8,
     "metadata": {},
     "output_type": "execute_result"
    }
   ],
   "source": [
    "df.isnull().sum()"
   ]
  },
  {
   "cell_type": "markdown",
   "metadata": {},
   "source": [
    "__Data cleanning__"
   ]
  },
  {
   "cell_type": "code",
   "execution_count": 9,
   "metadata": {},
   "outputs": [
    {
     "data": {
      "text/html": [
       "<div>\n",
       "<style scoped>\n",
       "    .dataframe tbody tr th:only-of-type {\n",
       "        vertical-align: middle;\n",
       "    }\n",
       "\n",
       "    .dataframe tbody tr th {\n",
       "        vertical-align: top;\n",
       "    }\n",
       "\n",
       "    .dataframe thead th {\n",
       "        text-align: right;\n",
       "    }\n",
       "</style>\n",
       "<table border=\"1\" class=\"dataframe\">\n",
       "  <thead>\n",
       "    <tr style=\"text-align: right;\">\n",
       "      <th></th>\n",
       "      <th>hotel</th>\n",
       "      <th>is_canceled</th>\n",
       "      <th>lead_time</th>\n",
       "      <th>arrival_date_year</th>\n",
       "      <th>arrival_date_month</th>\n",
       "      <th>arrival_date_week_number</th>\n",
       "      <th>arrival_date_day_of_month</th>\n",
       "      <th>stays_in_weekend_nights</th>\n",
       "      <th>stays_in_week_nights</th>\n",
       "      <th>adults</th>\n",
       "      <th>...</th>\n",
       "      <th>deposit_type</th>\n",
       "      <th>agent</th>\n",
       "      <th>company</th>\n",
       "      <th>days_in_waiting_list</th>\n",
       "      <th>customer_type</th>\n",
       "      <th>adr</th>\n",
       "      <th>required_car_parking_spaces</th>\n",
       "      <th>total_of_special_requests</th>\n",
       "      <th>reservation_status</th>\n",
       "      <th>reservation_status_date</th>\n",
       "    </tr>\n",
       "  </thead>\n",
       "  <tbody>\n",
       "    <tr>\n",
       "      <th>0</th>\n",
       "      <td>Resort Hotel</td>\n",
       "      <td>0</td>\n",
       "      <td>342</td>\n",
       "      <td>2015</td>\n",
       "      <td>July</td>\n",
       "      <td>27</td>\n",
       "      <td>1</td>\n",
       "      <td>0</td>\n",
       "      <td>0</td>\n",
       "      <td>2</td>\n",
       "      <td>...</td>\n",
       "      <td>No Deposit</td>\n",
       "      <td>NaN</td>\n",
       "      <td>NaN</td>\n",
       "      <td>0</td>\n",
       "      <td>Transient</td>\n",
       "      <td>0.0</td>\n",
       "      <td>0</td>\n",
       "      <td>0</td>\n",
       "      <td>Check-Out</td>\n",
       "      <td>7/1/2015</td>\n",
       "    </tr>\n",
       "    <tr>\n",
       "      <th>1</th>\n",
       "      <td>Resort Hotel</td>\n",
       "      <td>0</td>\n",
       "      <td>737</td>\n",
       "      <td>2015</td>\n",
       "      <td>July</td>\n",
       "      <td>27</td>\n",
       "      <td>1</td>\n",
       "      <td>0</td>\n",
       "      <td>0</td>\n",
       "      <td>2</td>\n",
       "      <td>...</td>\n",
       "      <td>No Deposit</td>\n",
       "      <td>NaN</td>\n",
       "      <td>NaN</td>\n",
       "      <td>0</td>\n",
       "      <td>Transient</td>\n",
       "      <td>0.0</td>\n",
       "      <td>0</td>\n",
       "      <td>0</td>\n",
       "      <td>Check-Out</td>\n",
       "      <td>7/1/2015</td>\n",
       "    </tr>\n",
       "    <tr>\n",
       "      <th>2</th>\n",
       "      <td>Resort Hotel</td>\n",
       "      <td>0</td>\n",
       "      <td>7</td>\n",
       "      <td>2015</td>\n",
       "      <td>July</td>\n",
       "      <td>27</td>\n",
       "      <td>1</td>\n",
       "      <td>0</td>\n",
       "      <td>1</td>\n",
       "      <td>1</td>\n",
       "      <td>...</td>\n",
       "      <td>No Deposit</td>\n",
       "      <td>NaN</td>\n",
       "      <td>NaN</td>\n",
       "      <td>0</td>\n",
       "      <td>Transient</td>\n",
       "      <td>75.0</td>\n",
       "      <td>0</td>\n",
       "      <td>0</td>\n",
       "      <td>Check-Out</td>\n",
       "      <td>7/2/2015</td>\n",
       "    </tr>\n",
       "  </tbody>\n",
       "</table>\n",
       "<p>3 rows × 32 columns</p>\n",
       "</div>"
      ],
      "text/plain": [
       "          hotel  is_canceled  lead_time  arrival_date_year arrival_date_month  \\\n",
       "0  Resort Hotel            0        342               2015               July   \n",
       "1  Resort Hotel            0        737               2015               July   \n",
       "2  Resort Hotel            0          7               2015               July   \n",
       "\n",
       "   arrival_date_week_number  arrival_date_day_of_month  \\\n",
       "0                        27                          1   \n",
       "1                        27                          1   \n",
       "2                        27                          1   \n",
       "\n",
       "   stays_in_weekend_nights  stays_in_week_nights  adults  ...  deposit_type  \\\n",
       "0                        0                     0       2  ...    No Deposit   \n",
       "1                        0                     0       2  ...    No Deposit   \n",
       "2                        0                     1       1  ...    No Deposit   \n",
       "\n",
       "   agent company days_in_waiting_list customer_type   adr  \\\n",
       "0    NaN     NaN                    0     Transient   0.0   \n",
       "1    NaN     NaN                    0     Transient   0.0   \n",
       "2    NaN     NaN                    0     Transient  75.0   \n",
       "\n",
       "   required_car_parking_spaces  total_of_special_requests  reservation_status  \\\n",
       "0                            0                          0           Check-Out   \n",
       "1                            0                          0           Check-Out   \n",
       "2                            0                          0           Check-Out   \n",
       "\n",
       "  reservation_status_date  \n",
       "0                7/1/2015  \n",
       "1                7/1/2015  \n",
       "2                7/2/2015  \n",
       "\n",
       "[3 rows x 32 columns]"
      ]
     },
     "execution_count": 9,
     "metadata": {},
     "output_type": "execute_result"
    }
   ],
   "source": [
    "df.head(3)"
   ]
  },
  {
   "cell_type": "code",
   "execution_count": 10,
   "metadata": {},
   "outputs": [
    {
     "data": {
      "text/plain": [
       "Index(['hotel', 'is_canceled', 'lead_time', 'arrival_date_year',\n",
       "       'arrival_date_month', 'arrival_date_week_number',\n",
       "       'arrival_date_day_of_month', 'stays_in_weekend_nights',\n",
       "       'stays_in_week_nights', 'adults', 'children', 'babies', 'meal',\n",
       "       'country', 'market_segment', 'distribution_channel',\n",
       "       'is_repeated_guest', 'previous_cancellations',\n",
       "       'previous_bookings_not_canceled', 'reserved_room_type',\n",
       "       'assigned_room_type', 'booking_changes', 'deposit_type', 'agent',\n",
       "       'company', 'days_in_waiting_list', 'customer_type', 'adr',\n",
       "       'required_car_parking_spaces', 'total_of_special_requests',\n",
       "       'reservation_status', 'reservation_status_date'],\n",
       "      dtype='object')"
      ]
     },
     "execution_count": 10,
     "metadata": {},
     "output_type": "execute_result"
    }
   ],
   "source": [
    "df.columns"
   ]
  },
  {
   "cell_type": "code",
   "execution_count": 11,
   "metadata": {},
   "outputs": [
    {
     "data": {
      "text/html": [
       "<div>\n",
       "<style scoped>\n",
       "    .dataframe tbody tr th:only-of-type {\n",
       "        vertical-align: middle;\n",
       "    }\n",
       "\n",
       "    .dataframe tbody tr th {\n",
       "        vertical-align: top;\n",
       "    }\n",
       "\n",
       "    .dataframe thead th {\n",
       "        text-align: right;\n",
       "    }\n",
       "</style>\n",
       "<table border=\"1\" class=\"dataframe\">\n",
       "  <thead>\n",
       "    <tr style=\"text-align: right;\">\n",
       "      <th></th>\n",
       "      <th>adults</th>\n",
       "      <th>children</th>\n",
       "      <th>babies</th>\n",
       "    </tr>\n",
       "  </thead>\n",
       "  <tbody>\n",
       "    <tr>\n",
       "      <th>0</th>\n",
       "      <td>2</td>\n",
       "      <td>0.0</td>\n",
       "      <td>0</td>\n",
       "    </tr>\n",
       "    <tr>\n",
       "      <th>1</th>\n",
       "      <td>2</td>\n",
       "      <td>0.0</td>\n",
       "      <td>0</td>\n",
       "    </tr>\n",
       "    <tr>\n",
       "      <th>2</th>\n",
       "      <td>1</td>\n",
       "      <td>0.0</td>\n",
       "      <td>0</td>\n",
       "    </tr>\n",
       "    <tr>\n",
       "      <th>3</th>\n",
       "      <td>1</td>\n",
       "      <td>0.0</td>\n",
       "      <td>0</td>\n",
       "    </tr>\n",
       "    <tr>\n",
       "      <th>4</th>\n",
       "      <td>2</td>\n",
       "      <td>0.0</td>\n",
       "      <td>0</td>\n",
       "    </tr>\n",
       "    <tr>\n",
       "      <th>...</th>\n",
       "      <td>...</td>\n",
       "      <td>...</td>\n",
       "      <td>...</td>\n",
       "    </tr>\n",
       "    <tr>\n",
       "      <th>119385</th>\n",
       "      <td>2</td>\n",
       "      <td>0.0</td>\n",
       "      <td>0</td>\n",
       "    </tr>\n",
       "    <tr>\n",
       "      <th>119386</th>\n",
       "      <td>3</td>\n",
       "      <td>0.0</td>\n",
       "      <td>0</td>\n",
       "    </tr>\n",
       "    <tr>\n",
       "      <th>119387</th>\n",
       "      <td>2</td>\n",
       "      <td>0.0</td>\n",
       "      <td>0</td>\n",
       "    </tr>\n",
       "    <tr>\n",
       "      <th>119388</th>\n",
       "      <td>2</td>\n",
       "      <td>0.0</td>\n",
       "      <td>0</td>\n",
       "    </tr>\n",
       "    <tr>\n",
       "      <th>119389</th>\n",
       "      <td>2</td>\n",
       "      <td>0.0</td>\n",
       "      <td>0</td>\n",
       "    </tr>\n",
       "  </tbody>\n",
       "</table>\n",
       "<p>119390 rows × 3 columns</p>\n",
       "</div>"
      ],
      "text/plain": [
       "        adults  children  babies\n",
       "0            2       0.0       0\n",
       "1            2       0.0       0\n",
       "2            1       0.0       0\n",
       "3            1       0.0       0\n",
       "4            2       0.0       0\n",
       "...        ...       ...     ...\n",
       "119385       2       0.0       0\n",
       "119386       3       0.0       0\n",
       "119387       2       0.0       0\n",
       "119388       2       0.0       0\n",
       "119389       2       0.0       0\n",
       "\n",
       "[119390 rows x 3 columns]"
      ]
     },
     "execution_count": 11,
     "metadata": {},
     "output_type": "execute_result"
    }
   ],
   "source": [
    "df[['adults', 'children', 'babies']]"
   ]
  },
  {
   "cell_type": "code",
   "execution_count": 12,
   "metadata": {},
   "outputs": [],
   "source": [
    "con=(df.adults==0) & (df.children==0) & (df.babies==0)"
   ]
  },
  {
   "cell_type": "code",
   "execution_count": 18,
   "metadata": {},
   "outputs": [],
   "source": [
    "df2=df[con==False]"
   ]
  },
  {
   "cell_type": "code",
   "execution_count": 22,
   "metadata": {},
   "outputs": [
    {
     "data": {
      "text/html": [
       "<div>\n",
       "<style scoped>\n",
       "    .dataframe tbody tr th:only-of-type {\n",
       "        vertical-align: middle;\n",
       "    }\n",
       "\n",
       "    .dataframe tbody tr th {\n",
       "        vertical-align: top;\n",
       "    }\n",
       "\n",
       "    .dataframe thead th {\n",
       "        text-align: right;\n",
       "    }\n",
       "</style>\n",
       "<table border=\"1\" class=\"dataframe\">\n",
       "  <thead>\n",
       "    <tr style=\"text-align: right;\">\n",
       "      <th></th>\n",
       "      <th>hotel</th>\n",
       "      <th>is_canceled</th>\n",
       "      <th>lead_time</th>\n",
       "      <th>arrival_date_year</th>\n",
       "      <th>arrival_date_month</th>\n",
       "      <th>arrival_date_week_number</th>\n",
       "      <th>arrival_date_day_of_month</th>\n",
       "      <th>stays_in_weekend_nights</th>\n",
       "      <th>stays_in_week_nights</th>\n",
       "      <th>adults</th>\n",
       "      <th>...</th>\n",
       "      <th>deposit_type</th>\n",
       "      <th>agent</th>\n",
       "      <th>company</th>\n",
       "      <th>days_in_waiting_list</th>\n",
       "      <th>customer_type</th>\n",
       "      <th>adr</th>\n",
       "      <th>required_car_parking_spaces</th>\n",
       "      <th>total_of_special_requests</th>\n",
       "      <th>reservation_status</th>\n",
       "      <th>reservation_status_date</th>\n",
       "    </tr>\n",
       "  </thead>\n",
       "  <tbody>\n",
       "    <tr>\n",
       "      <th>5</th>\n",
       "      <td>Resort Hotel</td>\n",
       "      <td>0</td>\n",
       "      <td>14</td>\n",
       "      <td>2015</td>\n",
       "      <td>July</td>\n",
       "      <td>27</td>\n",
       "      <td>1</td>\n",
       "      <td>0</td>\n",
       "      <td>2</td>\n",
       "      <td>2</td>\n",
       "      <td>...</td>\n",
       "      <td>No Deposit</td>\n",
       "      <td>240.0</td>\n",
       "      <td>NaN</td>\n",
       "      <td>0</td>\n",
       "      <td>Transient</td>\n",
       "      <td>98.00</td>\n",
       "      <td>0</td>\n",
       "      <td>1</td>\n",
       "      <td>Check-Out</td>\n",
       "      <td>7/3/2015</td>\n",
       "    </tr>\n",
       "    <tr>\n",
       "      <th>22</th>\n",
       "      <td>Resort Hotel</td>\n",
       "      <td>0</td>\n",
       "      <td>72</td>\n",
       "      <td>2015</td>\n",
       "      <td>July</td>\n",
       "      <td>27</td>\n",
       "      <td>1</td>\n",
       "      <td>2</td>\n",
       "      <td>4</td>\n",
       "      <td>2</td>\n",
       "      <td>...</td>\n",
       "      <td>No Deposit</td>\n",
       "      <td>250.0</td>\n",
       "      <td>NaN</td>\n",
       "      <td>0</td>\n",
       "      <td>Transient</td>\n",
       "      <td>84.67</td>\n",
       "      <td>0</td>\n",
       "      <td>1</td>\n",
       "      <td>Check-Out</td>\n",
       "      <td>7/7/2015</td>\n",
       "    </tr>\n",
       "    <tr>\n",
       "      <th>43</th>\n",
       "      <td>Resort Hotel</td>\n",
       "      <td>0</td>\n",
       "      <td>70</td>\n",
       "      <td>2015</td>\n",
       "      <td>July</td>\n",
       "      <td>27</td>\n",
       "      <td>2</td>\n",
       "      <td>2</td>\n",
       "      <td>3</td>\n",
       "      <td>2</td>\n",
       "      <td>...</td>\n",
       "      <td>No Deposit</td>\n",
       "      <td>250.0</td>\n",
       "      <td>NaN</td>\n",
       "      <td>0</td>\n",
       "      <td>Transient</td>\n",
       "      <td>137.00</td>\n",
       "      <td>0</td>\n",
       "      <td>1</td>\n",
       "      <td>Check-Out</td>\n",
       "      <td>7/7/2015</td>\n",
       "    </tr>\n",
       "    <tr>\n",
       "      <th>138</th>\n",
       "      <td>Resort Hotel</td>\n",
       "      <td>1</td>\n",
       "      <td>5</td>\n",
       "      <td>2015</td>\n",
       "      <td>July</td>\n",
       "      <td>28</td>\n",
       "      <td>5</td>\n",
       "      <td>1</td>\n",
       "      <td>0</td>\n",
       "      <td>2</td>\n",
       "      <td>...</td>\n",
       "      <td>No Deposit</td>\n",
       "      <td>240.0</td>\n",
       "      <td>NaN</td>\n",
       "      <td>0</td>\n",
       "      <td>Transient</td>\n",
       "      <td>97.00</td>\n",
       "      <td>0</td>\n",
       "      <td>0</td>\n",
       "      <td>Canceled</td>\n",
       "      <td>7/1/2015</td>\n",
       "    </tr>\n",
       "    <tr>\n",
       "      <th>200</th>\n",
       "      <td>Resort Hotel</td>\n",
       "      <td>0</td>\n",
       "      <td>0</td>\n",
       "      <td>2015</td>\n",
       "      <td>July</td>\n",
       "      <td>28</td>\n",
       "      <td>7</td>\n",
       "      <td>0</td>\n",
       "      <td>1</td>\n",
       "      <td>1</td>\n",
       "      <td>...</td>\n",
       "      <td>No Deposit</td>\n",
       "      <td>240.0</td>\n",
       "      <td>NaN</td>\n",
       "      <td>0</td>\n",
       "      <td>Transient</td>\n",
       "      <td>109.80</td>\n",
       "      <td>0</td>\n",
       "      <td>3</td>\n",
       "      <td>Check-Out</td>\n",
       "      <td>7/8/2015</td>\n",
       "    </tr>\n",
       "    <tr>\n",
       "      <th>...</th>\n",
       "      <td>...</td>\n",
       "      <td>...</td>\n",
       "      <td>...</td>\n",
       "      <td>...</td>\n",
       "      <td>...</td>\n",
       "      <td>...</td>\n",
       "      <td>...</td>\n",
       "      <td>...</td>\n",
       "      <td>...</td>\n",
       "      <td>...</td>\n",
       "      <td>...</td>\n",
       "      <td>...</td>\n",
       "      <td>...</td>\n",
       "      <td>...</td>\n",
       "      <td>...</td>\n",
       "      <td>...</td>\n",
       "      <td>...</td>\n",
       "      <td>...</td>\n",
       "      <td>...</td>\n",
       "      <td>...</td>\n",
       "      <td>...</td>\n",
       "    </tr>\n",
       "    <tr>\n",
       "      <th>119349</th>\n",
       "      <td>City Hotel</td>\n",
       "      <td>0</td>\n",
       "      <td>186</td>\n",
       "      <td>2017</td>\n",
       "      <td>August</td>\n",
       "      <td>35</td>\n",
       "      <td>31</td>\n",
       "      <td>0</td>\n",
       "      <td>3</td>\n",
       "      <td>2</td>\n",
       "      <td>...</td>\n",
       "      <td>No Deposit</td>\n",
       "      <td>9.0</td>\n",
       "      <td>NaN</td>\n",
       "      <td>0</td>\n",
       "      <td>Transient</td>\n",
       "      <td>126.00</td>\n",
       "      <td>0</td>\n",
       "      <td>2</td>\n",
       "      <td>Check-Out</td>\n",
       "      <td>9/3/2017</td>\n",
       "    </tr>\n",
       "    <tr>\n",
       "      <th>119352</th>\n",
       "      <td>City Hotel</td>\n",
       "      <td>0</td>\n",
       "      <td>63</td>\n",
       "      <td>2017</td>\n",
       "      <td>August</td>\n",
       "      <td>35</td>\n",
       "      <td>31</td>\n",
       "      <td>0</td>\n",
       "      <td>3</td>\n",
       "      <td>3</td>\n",
       "      <td>...</td>\n",
       "      <td>No Deposit</td>\n",
       "      <td>9.0</td>\n",
       "      <td>NaN</td>\n",
       "      <td>0</td>\n",
       "      <td>Transient-Party</td>\n",
       "      <td>195.33</td>\n",
       "      <td>0</td>\n",
       "      <td>2</td>\n",
       "      <td>Check-Out</td>\n",
       "      <td>9/3/2017</td>\n",
       "    </tr>\n",
       "    <tr>\n",
       "      <th>119353</th>\n",
       "      <td>City Hotel</td>\n",
       "      <td>0</td>\n",
       "      <td>63</td>\n",
       "      <td>2017</td>\n",
       "      <td>August</td>\n",
       "      <td>35</td>\n",
       "      <td>31</td>\n",
       "      <td>0</td>\n",
       "      <td>3</td>\n",
       "      <td>3</td>\n",
       "      <td>...</td>\n",
       "      <td>No Deposit</td>\n",
       "      <td>9.0</td>\n",
       "      <td>NaN</td>\n",
       "      <td>0</td>\n",
       "      <td>Transient-Party</td>\n",
       "      <td>195.33</td>\n",
       "      <td>0</td>\n",
       "      <td>2</td>\n",
       "      <td>Check-Out</td>\n",
       "      <td>9/3/2017</td>\n",
       "    </tr>\n",
       "    <tr>\n",
       "      <th>119354</th>\n",
       "      <td>City Hotel</td>\n",
       "      <td>0</td>\n",
       "      <td>63</td>\n",
       "      <td>2017</td>\n",
       "      <td>August</td>\n",
       "      <td>35</td>\n",
       "      <td>31</td>\n",
       "      <td>0</td>\n",
       "      <td>3</td>\n",
       "      <td>3</td>\n",
       "      <td>...</td>\n",
       "      <td>No Deposit</td>\n",
       "      <td>9.0</td>\n",
       "      <td>NaN</td>\n",
       "      <td>0</td>\n",
       "      <td>Transient-Party</td>\n",
       "      <td>195.33</td>\n",
       "      <td>0</td>\n",
       "      <td>2</td>\n",
       "      <td>Check-Out</td>\n",
       "      <td>9/3/2017</td>\n",
       "    </tr>\n",
       "    <tr>\n",
       "      <th>119373</th>\n",
       "      <td>City Hotel</td>\n",
       "      <td>0</td>\n",
       "      <td>175</td>\n",
       "      <td>2017</td>\n",
       "      <td>August</td>\n",
       "      <td>35</td>\n",
       "      <td>31</td>\n",
       "      <td>1</td>\n",
       "      <td>3</td>\n",
       "      <td>1</td>\n",
       "      <td>...</td>\n",
       "      <td>No Deposit</td>\n",
       "      <td>42.0</td>\n",
       "      <td>NaN</td>\n",
       "      <td>0</td>\n",
       "      <td>Transient</td>\n",
       "      <td>82.35</td>\n",
       "      <td>0</td>\n",
       "      <td>1</td>\n",
       "      <td>Check-Out</td>\n",
       "      <td>9/4/2017</td>\n",
       "    </tr>\n",
       "  </tbody>\n",
       "</table>\n",
       "<p>31980 rows × 32 columns</p>\n",
       "</div>"
      ],
      "text/plain": [
       "               hotel  is_canceled  lead_time  arrival_date_year  \\\n",
       "5       Resort Hotel            0         14               2015   \n",
       "22      Resort Hotel            0         72               2015   \n",
       "43      Resort Hotel            0         70               2015   \n",
       "138     Resort Hotel            1          5               2015   \n",
       "200     Resort Hotel            0          0               2015   \n",
       "...              ...          ...        ...                ...   \n",
       "119349    City Hotel            0        186               2017   \n",
       "119352    City Hotel            0         63               2017   \n",
       "119353    City Hotel            0         63               2017   \n",
       "119354    City Hotel            0         63               2017   \n",
       "119373    City Hotel            0        175               2017   \n",
       "\n",
       "       arrival_date_month  arrival_date_week_number  \\\n",
       "5                    July                        27   \n",
       "22                   July                        27   \n",
       "43                   July                        27   \n",
       "138                  July                        28   \n",
       "200                  July                        28   \n",
       "...                   ...                       ...   \n",
       "119349             August                        35   \n",
       "119352             August                        35   \n",
       "119353             August                        35   \n",
       "119354             August                        35   \n",
       "119373             August                        35   \n",
       "\n",
       "        arrival_date_day_of_month  stays_in_weekend_nights  \\\n",
       "5                               1                        0   \n",
       "22                              1                        2   \n",
       "43                              2                        2   \n",
       "138                             5                        1   \n",
       "200                             7                        0   \n",
       "...                           ...                      ...   \n",
       "119349                         31                        0   \n",
       "119352                         31                        0   \n",
       "119353                         31                        0   \n",
       "119354                         31                        0   \n",
       "119373                         31                        1   \n",
       "\n",
       "        stays_in_week_nights  adults  ...  deposit_type  agent company  \\\n",
       "5                          2       2  ...    No Deposit  240.0     NaN   \n",
       "22                         4       2  ...    No Deposit  250.0     NaN   \n",
       "43                         3       2  ...    No Deposit  250.0     NaN   \n",
       "138                        0       2  ...    No Deposit  240.0     NaN   \n",
       "200                        1       1  ...    No Deposit  240.0     NaN   \n",
       "...                      ...     ...  ...           ...    ...     ...   \n",
       "119349                     3       2  ...    No Deposit    9.0     NaN   \n",
       "119352                     3       3  ...    No Deposit    9.0     NaN   \n",
       "119353                     3       3  ...    No Deposit    9.0     NaN   \n",
       "119354                     3       3  ...    No Deposit    9.0     NaN   \n",
       "119373                     3       1  ...    No Deposit   42.0     NaN   \n",
       "\n",
       "       days_in_waiting_list    customer_type     adr  \\\n",
       "5                         0        Transient   98.00   \n",
       "22                        0        Transient   84.67   \n",
       "43                        0        Transient  137.00   \n",
       "138                       0        Transient   97.00   \n",
       "200                       0        Transient  109.80   \n",
       "...                     ...              ...     ...   \n",
       "119349                    0        Transient  126.00   \n",
       "119352                    0  Transient-Party  195.33   \n",
       "119353                    0  Transient-Party  195.33   \n",
       "119354                    0  Transient-Party  195.33   \n",
       "119373                    0        Transient   82.35   \n",
       "\n",
       "        required_car_parking_spaces  total_of_special_requests  \\\n",
       "5                                 0                          1   \n",
       "22                                0                          1   \n",
       "43                                0                          1   \n",
       "138                               0                          0   \n",
       "200                               0                          3   \n",
       "...                             ...                        ...   \n",
       "119349                            0                          2   \n",
       "119352                            0                          2   \n",
       "119353                            0                          2   \n",
       "119354                            0                          2   \n",
       "119373                            0                          1   \n",
       "\n",
       "        reservation_status reservation_status_date  \n",
       "5                Check-Out                7/3/2015  \n",
       "22               Check-Out                7/7/2015  \n",
       "43               Check-Out                7/7/2015  \n",
       "138               Canceled                7/1/2015  \n",
       "200              Check-Out                7/8/2015  \n",
       "...                    ...                     ...  \n",
       "119349           Check-Out                9/3/2017  \n",
       "119352           Check-Out                9/3/2017  \n",
       "119353           Check-Out                9/3/2017  \n",
       "119354           Check-Out                9/3/2017  \n",
       "119373           Check-Out                9/4/2017  \n",
       "\n",
       "[31980 rows x 32 columns]"
      ]
     },
     "execution_count": 22,
     "metadata": {},
     "output_type": "execute_result"
    }
   ],
   "source": [
    "df2[df2.duplicated(keep='first')]"
   ]
  },
  {
   "cell_type": "code",
   "execution_count": 26,
   "metadata": {},
   "outputs": [
    {
     "data": {
      "text/plain": [
       "31980"
      ]
     },
     "execution_count": 26,
     "metadata": {},
     "output_type": "execute_result"
    }
   ],
   "source": [
    "df2.duplicated().sum()"
   ]
  },
  {
   "cell_type": "code",
   "execution_count": 28,
   "metadata": {},
   "outputs": [],
   "source": [
    "data=df2.drop_duplicates().copy()"
   ]
  },
  {
   "cell_type": "code",
   "execution_count": 31,
   "metadata": {},
   "outputs": [
    {
     "name": "stdout",
     "output_type": "stream",
     "text": [
      "<class 'pandas.core.frame.DataFrame'>\n",
      "Index: 87230 entries, 0 to 119389\n",
      "Data columns (total 32 columns):\n",
      " #   Column                          Non-Null Count  Dtype  \n",
      "---  ------                          --------------  -----  \n",
      " 0   hotel                           87230 non-null  object \n",
      " 1   is_canceled                     87230 non-null  int64  \n",
      " 2   lead_time                       87230 non-null  int64  \n",
      " 3   arrival_date_year               87230 non-null  int64  \n",
      " 4   arrival_date_month              87230 non-null  object \n",
      " 5   arrival_date_week_number        87230 non-null  int64  \n",
      " 6   arrival_date_day_of_month       87230 non-null  int64  \n",
      " 7   stays_in_weekend_nights         87230 non-null  int64  \n",
      " 8   stays_in_week_nights            87230 non-null  int64  \n",
      " 9   adults                          87230 non-null  int64  \n",
      " 10  children                        87226 non-null  float64\n",
      " 11  babies                          87230 non-null  int64  \n",
      " 12  meal                            87230 non-null  object \n",
      " 13  country                         86783 non-null  object \n",
      " 14  market_segment                  87230 non-null  object \n",
      " 15  distribution_channel            87230 non-null  object \n",
      " 16  is_repeated_guest               87230 non-null  int64  \n",
      " 17  previous_cancellations          87230 non-null  int64  \n",
      " 18  previous_bookings_not_canceled  87230 non-null  int64  \n",
      " 19  reserved_room_type              87230 non-null  object \n",
      " 20  assigned_room_type              87230 non-null  object \n",
      " 21  booking_changes                 87230 non-null  int64  \n",
      " 22  deposit_type                    87230 non-null  object \n",
      " 23  agent                           75089 non-null  float64\n",
      " 24  company                         5237 non-null   float64\n",
      " 25  days_in_waiting_list            87230 non-null  int64  \n",
      " 26  customer_type                   87230 non-null  object \n",
      " 27  adr                             87230 non-null  float64\n",
      " 28  required_car_parking_spaces     87230 non-null  int64  \n",
      " 29  total_of_special_requests       87230 non-null  int64  \n",
      " 30  reservation_status              87230 non-null  object \n",
      " 31  reservation_status_date         87230 non-null  object \n",
      "dtypes: float64(4), int64(16), object(12)\n",
      "memory usage: 22.0+ MB\n"
     ]
    }
   ],
   "source": [
    "data.info()"
   ]
  },
  {
   "cell_type": "markdown",
   "metadata": {},
   "source": [
    "### Descriptive Analysis"
   ]
  },
  {
   "cell_type": "code",
   "execution_count": 34,
   "metadata": {},
   "outputs": [],
   "source": [
    "da=data.describe().T"
   ]
  },
  {
   "cell_type": "code",
   "execution_count": 36,
   "metadata": {},
   "outputs": [
    {
     "data": {
      "text/html": [
       "<div>\n",
       "<style scoped>\n",
       "    .dataframe tbody tr th:only-of-type {\n",
       "        vertical-align: middle;\n",
       "    }\n",
       "\n",
       "    .dataframe tbody tr th {\n",
       "        vertical-align: top;\n",
       "    }\n",
       "\n",
       "    .dataframe thead th {\n",
       "        text-align: right;\n",
       "    }\n",
       "</style>\n",
       "<table border=\"1\" class=\"dataframe\">\n",
       "  <thead>\n",
       "    <tr style=\"text-align: right;\">\n",
       "      <th></th>\n",
       "      <th>count</th>\n",
       "      <th>mean</th>\n",
       "      <th>std</th>\n",
       "      <th>min</th>\n",
       "      <th>25%</th>\n",
       "      <th>50%</th>\n",
       "      <th>75%</th>\n",
       "      <th>max</th>\n",
       "    </tr>\n",
       "  </thead>\n",
       "  <tbody>\n",
       "    <tr>\n",
       "      <th>lead_time</th>\n",
       "      <td>87230.0</td>\n",
       "      <td>79.971019</td>\n",
       "      <td>86.058683</td>\n",
       "      <td>0.00</td>\n",
       "      <td>11.00</td>\n",
       "      <td>49.0</td>\n",
       "      <td>125.0</td>\n",
       "      <td>737.0</td>\n",
       "    </tr>\n",
       "    <tr>\n",
       "      <th>adr</th>\n",
       "      <td>87230.0</td>\n",
       "      <td>106.518031</td>\n",
       "      <td>54.891227</td>\n",
       "      <td>-6.38</td>\n",
       "      <td>72.25</td>\n",
       "      <td>98.2</td>\n",
       "      <td>134.1</td>\n",
       "      <td>5400.0</td>\n",
       "    </tr>\n",
       "    <tr>\n",
       "      <th>total_of_special_requests</th>\n",
       "      <td>87230.0</td>\n",
       "      <td>0.698934</td>\n",
       "      <td>0.832051</td>\n",
       "      <td>0.00</td>\n",
       "      <td>0.00</td>\n",
       "      <td>0.0</td>\n",
       "      <td>1.0</td>\n",
       "      <td>5.0</td>\n",
       "    </tr>\n",
       "  </tbody>\n",
       "</table>\n",
       "</div>"
      ],
      "text/plain": [
       "                             count        mean        std   min    25%   50%  \\\n",
       "lead_time                  87230.0   79.971019  86.058683  0.00  11.00  49.0   \n",
       "adr                        87230.0  106.518031  54.891227 -6.38  72.25  98.2   \n",
       "total_of_special_requests  87230.0    0.698934   0.832051  0.00   0.00   0.0   \n",
       "\n",
       "                             75%     max  \n",
       "lead_time                  125.0   737.0  \n",
       "adr                        134.1  5400.0  \n",
       "total_of_special_requests    1.0     5.0  "
      ]
     },
     "execution_count": 36,
     "metadata": {},
     "output_type": "execute_result"
    }
   ],
   "source": [
    "da.loc[['lead_time','adr','total_of_special_requests']['lead_time','adr','total_of_special_requests']]"
   ]
  },
  {
   "cell_type": "code",
   "execution_count": 38,
   "metadata": {},
   "outputs": [
    {
     "name": "stdout",
     "output_type": "stream",
     "text": [
      "<class 'pandas.core.frame.DataFrame'>\n",
      "Index: 87230 entries, 0 to 119389\n",
      "Data columns (total 32 columns):\n",
      " #   Column                          Non-Null Count  Dtype  \n",
      "---  ------                          --------------  -----  \n",
      " 0   hotel                           87230 non-null  object \n",
      " 1   is_canceled                     87230 non-null  int64  \n",
      " 2   lead_time                       87230 non-null  int64  \n",
      " 3   arrival_date_year               87230 non-null  int64  \n",
      " 4   arrival_date_month              87230 non-null  object \n",
      " 5   arrival_date_week_number        87230 non-null  int64  \n",
      " 6   arrival_date_day_of_month       87230 non-null  int64  \n",
      " 7   stays_in_weekend_nights         87230 non-null  int64  \n",
      " 8   stays_in_week_nights            87230 non-null  int64  \n",
      " 9   adults                          87230 non-null  int64  \n",
      " 10  children                        87226 non-null  float64\n",
      " 11  babies                          87230 non-null  int64  \n",
      " 12  meal                            87230 non-null  object \n",
      " 13  country                         86783 non-null  object \n",
      " 14  market_segment                  87230 non-null  object \n",
      " 15  distribution_channel            87230 non-null  object \n",
      " 16  is_repeated_guest               87230 non-null  int64  \n",
      " 17  previous_cancellations          87230 non-null  int64  \n",
      " 18  previous_bookings_not_canceled  87230 non-null  int64  \n",
      " 19  reserved_room_type              87230 non-null  object \n",
      " 20  assigned_room_type              87230 non-null  object \n",
      " 21  booking_changes                 87230 non-null  int64  \n",
      " 22  deposit_type                    87230 non-null  object \n",
      " 23  agent                           75089 non-null  float64\n",
      " 24  company                         5237 non-null   float64\n",
      " 25  days_in_waiting_list            87230 non-null  int64  \n",
      " 26  customer_type                   87230 non-null  object \n",
      " 27  adr                             87230 non-null  float64\n",
      " 28  required_car_parking_spaces     87230 non-null  int64  \n",
      " 29  total_of_special_requests       87230 non-null  int64  \n",
      " 30  reservation_status              87230 non-null  object \n",
      " 31  reservation_status_date         87230 non-null  object \n",
      "dtypes: float64(4), int64(16), object(12)\n",
      "memory usage: 77.1 MB\n"
     ]
    }
   ],
   "source": [
    "data.info(memory_usage='deep')"
   ]
  },
  {
   "cell_type": "code",
   "execution_count": 41,
   "metadata": {},
   "outputs": [
    {
     "name": "stdout",
     "output_type": "stream",
     "text": [
      "feature name : lead_time\n",
      "quantile value is (90, 204.0)\n",
      "quantile value is (91, 212.0)\n",
      "quantile value is (92, 220.0)\n",
      "quantile value is (93, 230.0)\n",
      "quantile value is (94, 241.0)\n",
      "quantile value is (95, 256.0)\n",
      "quantile value is (96, 272.0)\n",
      "quantile value is (97, 291.0)\n",
      "quantile value is (98, 315.0)\n",
      "quantile value is (99, 347.0)\n",
      "quantile value is (100, 737.0)\n",
      "\n",
      "\n",
      "feature name : adr\n",
      "quantile value is (90, 174.0)\n",
      "quantile value is (91, 179.0)\n",
      "quantile value is (92, 185.0)\n",
      "quantile value is (93, 190.0)\n",
      "quantile value is (94, 197.1)\n",
      "quantile value is (95, 204.13300000000018)\n",
      "quantile value is (96, 213.0)\n",
      "quantile value is (97, 225.0)\n",
      "quantile value is (98, 239.0)\n",
      "quantile value is (99, 261.6207000000011)\n",
      "quantile value is (100, 5400.0)\n",
      "\n",
      "\n",
      "feature name : total_of_special_requests\n",
      "quantile value is (90, 2.0)\n",
      "quantile value is (91, 2.0)\n",
      "quantile value is (92, 2.0)\n",
      "quantile value is (93, 2.0)\n",
      "quantile value is (94, 2.0)\n",
      "quantile value is (95, 2.0)\n",
      "quantile value is (96, 2.0)\n",
      "quantile value is (97, 3.0)\n",
      "quantile value is (98, 3.0)\n",
      "quantile value is (99, 3.0)\n",
      "quantile value is (100, 5.0)\n",
      "\n",
      "\n"
     ]
    }
   ],
   "source": [
    "for col in ['lead_time','adr','total_of_special_requests']:\n",
    "    print(f'feature name : {col}')\n",
    "\n",
    "    for i in range (90,101,1):\n",
    "        qv=np.quantile(data[col],q=i/100)\n",
    "        print(f'quantile value is {i,qv}')\n",
    "    print('\\n')"
   ]
  },
  {
   "cell_type": "markdown",
   "metadata": {},
   "source": [
    "__Saptial Analysis__"
   ]
  },
  {
   "cell_type": "code",
   "execution_count": 43,
   "metadata": {},
   "outputs": [],
   "source": [
    "#where do from guest come"
   ]
  },
  {
   "cell_type": "code",
   "execution_count": 54,
   "metadata": {},
   "outputs": [],
   "source": [
    "gc=data.country.value_counts().reset_index()[0:20]"
   ]
  },
  {
   "cell_type": "code",
   "execution_count": 55,
   "metadata": {},
   "outputs": [
    {
     "data": {
      "text/html": [
       "<div>\n",
       "<style scoped>\n",
       "    .dataframe tbody tr th:only-of-type {\n",
       "        vertical-align: middle;\n",
       "    }\n",
       "\n",
       "    .dataframe tbody tr th {\n",
       "        vertical-align: top;\n",
       "    }\n",
       "\n",
       "    .dataframe thead th {\n",
       "        text-align: right;\n",
       "    }\n",
       "</style>\n",
       "<table border=\"1\" class=\"dataframe\">\n",
       "  <thead>\n",
       "    <tr style=\"text-align: right;\">\n",
       "      <th></th>\n",
       "      <th>country</th>\n",
       "      <th>count</th>\n",
       "    </tr>\n",
       "  </thead>\n",
       "  <tbody>\n",
       "    <tr>\n",
       "      <th>0</th>\n",
       "      <td>PRT</td>\n",
       "      <td>27355</td>\n",
       "    </tr>\n",
       "    <tr>\n",
       "      <th>1</th>\n",
       "      <td>GBR</td>\n",
       "      <td>10424</td>\n",
       "    </tr>\n",
       "    <tr>\n",
       "      <th>2</th>\n",
       "      <td>FRA</td>\n",
       "      <td>8823</td>\n",
       "    </tr>\n",
       "    <tr>\n",
       "      <th>3</th>\n",
       "      <td>ESP</td>\n",
       "      <td>7244</td>\n",
       "    </tr>\n",
       "    <tr>\n",
       "      <th>4</th>\n",
       "      <td>DEU</td>\n",
       "      <td>5385</td>\n",
       "    </tr>\n",
       "    <tr>\n",
       "      <th>5</th>\n",
       "      <td>ITA</td>\n",
       "      <td>3061</td>\n",
       "    </tr>\n",
       "    <tr>\n",
       "      <th>6</th>\n",
       "      <td>IRL</td>\n",
       "      <td>3015</td>\n",
       "    </tr>\n",
       "    <tr>\n",
       "      <th>7</th>\n",
       "      <td>BEL</td>\n",
       "      <td>2081</td>\n",
       "    </tr>\n",
       "    <tr>\n",
       "      <th>8</th>\n",
       "      <td>BRA</td>\n",
       "      <td>1993</td>\n",
       "    </tr>\n",
       "    <tr>\n",
       "      <th>9</th>\n",
       "      <td>NLD</td>\n",
       "      <td>1910</td>\n",
       "    </tr>\n",
       "    <tr>\n",
       "      <th>10</th>\n",
       "      <td>USA</td>\n",
       "      <td>1871</td>\n",
       "    </tr>\n",
       "    <tr>\n",
       "      <th>11</th>\n",
       "      <td>CHE</td>\n",
       "      <td>1566</td>\n",
       "    </tr>\n",
       "    <tr>\n",
       "      <th>12</th>\n",
       "      <td>CN</td>\n",
       "      <td>1093</td>\n",
       "    </tr>\n",
       "    <tr>\n",
       "      <th>13</th>\n",
       "      <td>AUT</td>\n",
       "      <td>947</td>\n",
       "    </tr>\n",
       "    <tr>\n",
       "      <th>14</th>\n",
       "      <td>SWE</td>\n",
       "      <td>833</td>\n",
       "    </tr>\n",
       "    <tr>\n",
       "      <th>15</th>\n",
       "      <td>CHN</td>\n",
       "      <td>816</td>\n",
       "    </tr>\n",
       "    <tr>\n",
       "      <th>16</th>\n",
       "      <td>POL</td>\n",
       "      <td>764</td>\n",
       "    </tr>\n",
       "    <tr>\n",
       "      <th>17</th>\n",
       "      <td>RUS</td>\n",
       "      <td>559</td>\n",
       "    </tr>\n",
       "    <tr>\n",
       "      <th>18</th>\n",
       "      <td>NOR</td>\n",
       "      <td>515</td>\n",
       "    </tr>\n",
       "    <tr>\n",
       "      <th>19</th>\n",
       "      <td>ROU</td>\n",
       "      <td>458</td>\n",
       "    </tr>\n",
       "  </tbody>\n",
       "</table>\n",
       "</div>"
      ],
      "text/plain": [
       "   country  count\n",
       "0      PRT  27355\n",
       "1      GBR  10424\n",
       "2      FRA   8823\n",
       "3      ESP   7244\n",
       "4      DEU   5385\n",
       "5      ITA   3061\n",
       "6      IRL   3015\n",
       "7      BEL   2081\n",
       "8      BRA   1993\n",
       "9      NLD   1910\n",
       "10     USA   1871\n",
       "11     CHE   1566\n",
       "12      CN   1093\n",
       "13     AUT    947\n",
       "14     SWE    833\n",
       "15     CHN    816\n",
       "16     POL    764\n",
       "17     RUS    559\n",
       "18     NOR    515\n",
       "19     ROU    458"
      ]
     },
     "execution_count": 55,
     "metadata": {},
     "output_type": "execute_result"
    }
   ],
   "source": [
    "gc"
   ]
  },
  {
   "cell_type": "code",
   "execution_count": 56,
   "metadata": {},
   "outputs": [
    {
     "data": {
      "image/png": "[encoded data removed]",
      "text/plain": [
       "<Figure size 1000x500 with 1 Axes>"
      ]
     },
     "metadata": {},
     "output_type": "display_data"
    }
   ],
   "source": [
    "fig = plt.figure(figsize = (10, 5))\n",
    "plt.bar('country', 'count',data=gc, color ='blue', \n",
    "        width = 0.4)\n",
    " \n",
    "plt.xlabel(\"country Traveller\")\n",
    "plt.ylabel(\"No. of Traveller enrolled\")\n",
    "plt.title(\"Traveller enrolled in Hotels\")\n",
    "plt.show()"
   ]
  },
  {
   "cell_type": "code",
   "execution_count": 62,
   "metadata": {},
   "outputs": [
    {
     "data": {
      "text/html": [
       "<div>\n",
       "<style scoped>\n",
       "    .dataframe tbody tr th:only-of-type {\n",
       "        vertical-align: middle;\n",
       "    }\n",
       "\n",
       "    .dataframe tbody tr th {\n",
       "        vertical-align: top;\n",
       "    }\n",
       "\n",
       "    .dataframe thead th {\n",
       "        text-align: right;\n",
       "    }\n",
       "</style>\n",
       "<table border=\"1\" class=\"dataframe\">\n",
       "  <thead>\n",
       "    <tr style=\"text-align: right;\">\n",
       "      <th></th>\n",
       "      <th>hotel</th>\n",
       "      <th>is_canceled</th>\n",
       "      <th>lead_time</th>\n",
       "      <th>arrival_date_year</th>\n",
       "      <th>arrival_date_month</th>\n",
       "      <th>arrival_date_week_number</th>\n",
       "      <th>arrival_date_day_of_month</th>\n",
       "      <th>stays_in_weekend_nights</th>\n",
       "      <th>stays_in_week_nights</th>\n",
       "      <th>adults</th>\n",
       "      <th>...</th>\n",
       "      <th>deposit_type</th>\n",
       "      <th>agent</th>\n",
       "      <th>company</th>\n",
       "      <th>days_in_waiting_list</th>\n",
       "      <th>customer_type</th>\n",
       "      <th>adr</th>\n",
       "      <th>required_car_parking_spaces</th>\n",
       "      <th>total_of_special_requests</th>\n",
       "      <th>reservation_status</th>\n",
       "      <th>reservation_status_date</th>\n",
       "    </tr>\n",
       "  </thead>\n",
       "  <tbody>\n",
       "    <tr>\n",
       "      <th>0</th>\n",
       "      <td>Resort Hotel</td>\n",
       "      <td>0</td>\n",
       "      <td>342</td>\n",
       "      <td>2015</td>\n",
       "      <td>July</td>\n",
       "      <td>27</td>\n",
       "      <td>1</td>\n",
       "      <td>0</td>\n",
       "      <td>0</td>\n",
       "      <td>2</td>\n",
       "      <td>...</td>\n",
       "      <td>No Deposit</td>\n",
       "      <td>NaN</td>\n",
       "      <td>NaN</td>\n",
       "      <td>0</td>\n",
       "      <td>Transient</td>\n",
       "      <td>0.00</td>\n",
       "      <td>0</td>\n",
       "      <td>0</td>\n",
       "      <td>Check-Out</td>\n",
       "      <td>7/1/2015</td>\n",
       "    </tr>\n",
       "    <tr>\n",
       "      <th>1</th>\n",
       "      <td>Resort Hotel</td>\n",
       "      <td>0</td>\n",
       "      <td>737</td>\n",
       "      <td>2015</td>\n",
       "      <td>July</td>\n",
       "      <td>27</td>\n",
       "      <td>1</td>\n",
       "      <td>0</td>\n",
       "      <td>0</td>\n",
       "      <td>2</td>\n",
       "      <td>...</td>\n",
       "      <td>No Deposit</td>\n",
       "      <td>NaN</td>\n",
       "      <td>NaN</td>\n",
       "      <td>0</td>\n",
       "      <td>Transient</td>\n",
       "      <td>0.00</td>\n",
       "      <td>0</td>\n",
       "      <td>0</td>\n",
       "      <td>Check-Out</td>\n",
       "      <td>7/1/2015</td>\n",
       "    </tr>\n",
       "    <tr>\n",
       "      <th>2</th>\n",
       "      <td>Resort Hotel</td>\n",
       "      <td>0</td>\n",
       "      <td>7</td>\n",
       "      <td>2015</td>\n",
       "      <td>July</td>\n",
       "      <td>27</td>\n",
       "      <td>1</td>\n",
       "      <td>0</td>\n",
       "      <td>1</td>\n",
       "      <td>1</td>\n",
       "      <td>...</td>\n",
       "      <td>No Deposit</td>\n",
       "      <td>NaN</td>\n",
       "      <td>NaN</td>\n",
       "      <td>0</td>\n",
       "      <td>Transient</td>\n",
       "      <td>75.00</td>\n",
       "      <td>0</td>\n",
       "      <td>0</td>\n",
       "      <td>Check-Out</td>\n",
       "      <td>7/2/2015</td>\n",
       "    </tr>\n",
       "    <tr>\n",
       "      <th>3</th>\n",
       "      <td>Resort Hotel</td>\n",
       "      <td>0</td>\n",
       "      <td>13</td>\n",
       "      <td>2015</td>\n",
       "      <td>July</td>\n",
       "      <td>27</td>\n",
       "      <td>1</td>\n",
       "      <td>0</td>\n",
       "      <td>1</td>\n",
       "      <td>1</td>\n",
       "      <td>...</td>\n",
       "      <td>No Deposit</td>\n",
       "      <td>304.0</td>\n",
       "      <td>NaN</td>\n",
       "      <td>0</td>\n",
       "      <td>Transient</td>\n",
       "      <td>75.00</td>\n",
       "      <td>0</td>\n",
       "      <td>0</td>\n",
       "      <td>Check-Out</td>\n",
       "      <td>7/2/2015</td>\n",
       "    </tr>\n",
       "    <tr>\n",
       "      <th>4</th>\n",
       "      <td>Resort Hotel</td>\n",
       "      <td>0</td>\n",
       "      <td>14</td>\n",
       "      <td>2015</td>\n",
       "      <td>July</td>\n",
       "      <td>27</td>\n",
       "      <td>1</td>\n",
       "      <td>0</td>\n",
       "      <td>2</td>\n",
       "      <td>2</td>\n",
       "      <td>...</td>\n",
       "      <td>No Deposit</td>\n",
       "      <td>240.0</td>\n",
       "      <td>NaN</td>\n",
       "      <td>0</td>\n",
       "      <td>Transient</td>\n",
       "      <td>98.00</td>\n",
       "      <td>0</td>\n",
       "      <td>1</td>\n",
       "      <td>Check-Out</td>\n",
       "      <td>7/3/2015</td>\n",
       "    </tr>\n",
       "    <tr>\n",
       "      <th>...</th>\n",
       "      <td>...</td>\n",
       "      <td>...</td>\n",
       "      <td>...</td>\n",
       "      <td>...</td>\n",
       "      <td>...</td>\n",
       "      <td>...</td>\n",
       "      <td>...</td>\n",
       "      <td>...</td>\n",
       "      <td>...</td>\n",
       "      <td>...</td>\n",
       "      <td>...</td>\n",
       "      <td>...</td>\n",
       "      <td>...</td>\n",
       "      <td>...</td>\n",
       "      <td>...</td>\n",
       "      <td>...</td>\n",
       "      <td>...</td>\n",
       "      <td>...</td>\n",
       "      <td>...</td>\n",
       "      <td>...</td>\n",
       "      <td>...</td>\n",
       "    </tr>\n",
       "    <tr>\n",
       "      <th>119385</th>\n",
       "      <td>City Hotel</td>\n",
       "      <td>0</td>\n",
       "      <td>23</td>\n",
       "      <td>2017</td>\n",
       "      <td>August</td>\n",
       "      <td>35</td>\n",
       "      <td>30</td>\n",
       "      <td>2</td>\n",
       "      <td>5</td>\n",
       "      <td>2</td>\n",
       "      <td>...</td>\n",
       "      <td>No Deposit</td>\n",
       "      <td>394.0</td>\n",
       "      <td>NaN</td>\n",
       "      <td>0</td>\n",
       "      <td>Transient</td>\n",
       "      <td>96.14</td>\n",
       "      <td>0</td>\n",
       "      <td>0</td>\n",
       "      <td>Check-Out</td>\n",
       "      <td>9/6/2017</td>\n",
       "    </tr>\n",
       "    <tr>\n",
       "      <th>119386</th>\n",
       "      <td>City Hotel</td>\n",
       "      <td>0</td>\n",
       "      <td>102</td>\n",
       "      <td>2017</td>\n",
       "      <td>August</td>\n",
       "      <td>35</td>\n",
       "      <td>31</td>\n",
       "      <td>2</td>\n",
       "      <td>5</td>\n",
       "      <td>3</td>\n",
       "      <td>...</td>\n",
       "      <td>No Deposit</td>\n",
       "      <td>9.0</td>\n",
       "      <td>NaN</td>\n",
       "      <td>0</td>\n",
       "      <td>Transient</td>\n",
       "      <td>225.43</td>\n",
       "      <td>0</td>\n",
       "      <td>2</td>\n",
       "      <td>Check-Out</td>\n",
       "      <td>9/7/2017</td>\n",
       "    </tr>\n",
       "    <tr>\n",
       "      <th>119387</th>\n",
       "      <td>City Hotel</td>\n",
       "      <td>0</td>\n",
       "      <td>34</td>\n",
       "      <td>2017</td>\n",
       "      <td>August</td>\n",
       "      <td>35</td>\n",
       "      <td>31</td>\n",
       "      <td>2</td>\n",
       "      <td>5</td>\n",
       "      <td>2</td>\n",
       "      <td>...</td>\n",
       "      <td>No Deposit</td>\n",
       "      <td>9.0</td>\n",
       "      <td>NaN</td>\n",
       "      <td>0</td>\n",
       "      <td>Transient</td>\n",
       "      <td>157.71</td>\n",
       "      <td>0</td>\n",
       "      <td>4</td>\n",
       "      <td>Check-Out</td>\n",
       "      <td>9/7/2017</td>\n",
       "    </tr>\n",
       "    <tr>\n",
       "      <th>119388</th>\n",
       "      <td>City Hotel</td>\n",
       "      <td>0</td>\n",
       "      <td>109</td>\n",
       "      <td>2017</td>\n",
       "      <td>August</td>\n",
       "      <td>35</td>\n",
       "      <td>31</td>\n",
       "      <td>2</td>\n",
       "      <td>5</td>\n",
       "      <td>2</td>\n",
       "      <td>...</td>\n",
       "      <td>No Deposit</td>\n",
       "      <td>89.0</td>\n",
       "      <td>NaN</td>\n",
       "      <td>0</td>\n",
       "      <td>Transient</td>\n",
       "      <td>104.40</td>\n",
       "      <td>0</td>\n",
       "      <td>0</td>\n",
       "      <td>Check-Out</td>\n",
       "      <td>9/7/2017</td>\n",
       "    </tr>\n",
       "    <tr>\n",
       "      <th>119389</th>\n",
       "      <td>City Hotel</td>\n",
       "      <td>0</td>\n",
       "      <td>205</td>\n",
       "      <td>2017</td>\n",
       "      <td>August</td>\n",
       "      <td>35</td>\n",
       "      <td>29</td>\n",
       "      <td>2</td>\n",
       "      <td>7</td>\n",
       "      <td>2</td>\n",
       "      <td>...</td>\n",
       "      <td>No Deposit</td>\n",
       "      <td>9.0</td>\n",
       "      <td>NaN</td>\n",
       "      <td>0</td>\n",
       "      <td>Transient</td>\n",
       "      <td>151.20</td>\n",
       "      <td>0</td>\n",
       "      <td>2</td>\n",
       "      <td>Check-Out</td>\n",
       "      <td>9/7/2017</td>\n",
       "    </tr>\n",
       "  </tbody>\n",
       "</table>\n",
       "<p>63221 rows × 32 columns</p>\n",
       "</div>"
      ],
      "text/plain": [
       "               hotel  is_canceled  lead_time  arrival_date_year  \\\n",
       "0       Resort Hotel            0        342               2015   \n",
       "1       Resort Hotel            0        737               2015   \n",
       "2       Resort Hotel            0          7               2015   \n",
       "3       Resort Hotel            0         13               2015   \n",
       "4       Resort Hotel            0         14               2015   \n",
       "...              ...          ...        ...                ...   \n",
       "119385    City Hotel            0         23               2017   \n",
       "119386    City Hotel            0        102               2017   \n",
       "119387    City Hotel            0         34               2017   \n",
       "119388    City Hotel            0        109               2017   \n",
       "119389    City Hotel            0        205               2017   \n",
       "\n",
       "       arrival_date_month  arrival_date_week_number  \\\n",
       "0                    July                        27   \n",
       "1                    July                        27   \n",
       "2                    July                        27   \n",
       "3                    July                        27   \n",
       "4                    July                        27   \n",
       "...                   ...                       ...   \n",
       "119385             August                        35   \n",
       "119386             August                        35   \n",
       "119387             August                        35   \n",
       "119388             August                        35   \n",
       "119389             August                        35   \n",
       "\n",
       "        arrival_date_day_of_month  stays_in_weekend_nights  \\\n",
       "0                               1                        0   \n",
       "1                               1                        0   \n",
       "2                               1                        0   \n",
       "3                               1                        0   \n",
       "4                               1                        0   \n",
       "...                           ...                      ...   \n",
       "119385                         30                        2   \n",
       "119386                         31                        2   \n",
       "119387                         31                        2   \n",
       "119388                         31                        2   \n",
       "119389                         29                        2   \n",
       "\n",
       "        stays_in_week_nights  adults  ...  deposit_type  agent company  \\\n",
       "0                          0       2  ...    No Deposit    NaN     NaN   \n",
       "1                          0       2  ...    No Deposit    NaN     NaN   \n",
       "2                          1       1  ...    No Deposit    NaN     NaN   \n",
       "3                          1       1  ...    No Deposit  304.0     NaN   \n",
       "4                          2       2  ...    No Deposit  240.0     NaN   \n",
       "...                      ...     ...  ...           ...    ...     ...   \n",
       "119385                     5       2  ...    No Deposit  394.0     NaN   \n",
       "119386                     5       3  ...    No Deposit    9.0     NaN   \n",
       "119387                     5       2  ...    No Deposit    9.0     NaN   \n",
       "119388                     5       2  ...    No Deposit   89.0     NaN   \n",
       "119389                     7       2  ...    No Deposit    9.0     NaN   \n",
       "\n",
       "       days_in_waiting_list customer_type     adr  \\\n",
       "0                         0     Transient    0.00   \n",
       "1                         0     Transient    0.00   \n",
       "2                         0     Transient   75.00   \n",
       "3                         0     Transient   75.00   \n",
       "4                         0     Transient   98.00   \n",
       "...                     ...           ...     ...   \n",
       "119385                    0     Transient   96.14   \n",
       "119386                    0     Transient  225.43   \n",
       "119387                    0     Transient  157.71   \n",
       "119388                    0     Transient  104.40   \n",
       "119389                    0     Transient  151.20   \n",
       "\n",
       "        required_car_parking_spaces  total_of_special_requests  \\\n",
       "0                                 0                          0   \n",
       "1                                 0                          0   \n",
       "2                                 0                          0   \n",
       "3                                 0                          0   \n",
       "4                                 0                          1   \n",
       "...                             ...                        ...   \n",
       "119385                            0                          0   \n",
       "119386                            0                          2   \n",
       "119387                            0                          4   \n",
       "119388                            0                          0   \n",
       "119389                            0                          2   \n",
       "\n",
       "        reservation_status reservation_status_date  \n",
       "0                Check-Out                7/1/2015  \n",
       "1                Check-Out                7/1/2015  \n",
       "2                Check-Out                7/2/2015  \n",
       "3                Check-Out                7/2/2015  \n",
       "4                Check-Out                7/3/2015  \n",
       "...                    ...                     ...  \n",
       "119385           Check-Out                9/6/2017  \n",
       "119386           Check-Out                9/7/2017  \n",
       "119387           Check-Out                9/7/2017  \n",
       "119388           Check-Out                9/7/2017  \n",
       "119389           Check-Out                9/7/2017  \n",
       "\n",
       "[63221 rows x 32 columns]"
      ]
     },
     "execution_count": 62,
     "metadata": {},
     "output_type": "execute_result"
    }
   ],
   "source": [
    "gc=data[data.is_canceled==0]\n",
    "gc"
   ]
  },
  {
   "cell_type": "code",
   "execution_count": 67,
   "metadata": {},
   "outputs": [],
   "source": [
    "gc=gc.reset_index()\n"
   ]
  },
  {
   "cell_type": "code",
   "execution_count": 71,
   "metadata": {},
   "outputs": [],
   "source": [
    "gcbar=gc.iloc[0:11]"
   ]
  },
  {
   "cell_type": "code",
   "execution_count": 72,
   "metadata": {},
   "outputs": [
    {
     "data": {
      "image/png": "[encoded data removed]",
      "text/plain": [
       "<Figure size 1000x500 with 1 Axes>"
      ]
     },
     "metadata": {},
     "output_type": "display_data"
    }
   ],
   "source": [
    "fig = plt.figure(figsize = (10, 5))\n",
    "plt.bar('country', 'count',data=gcbar, color ='blue', \n",
    "        width = 0.4)\n",
    " \n",
    "plt.xlabel(\"country Traveller\")\n",
    "plt.ylabel(\"No. of Traveller enrolled\")\n",
    "plt.title(\"Traveller enrolled in Hotels\")\n",
    "plt.show()"
   ]
  },
  {
   "cell_type": "code",
   "execution_count": 73,
   "metadata": {},
   "outputs": [
    {
     "data": {
      "text/html": [
       "<div>\n",
       "<style scoped>\n",
       "    .dataframe tbody tr th:only-of-type {\n",
       "        vertical-align: middle;\n",
       "    }\n",
       "\n",
       "    .dataframe tbody tr th {\n",
       "        vertical-align: top;\n",
       "    }\n",
       "\n",
       "    .dataframe thead th {\n",
       "        text-align: right;\n",
       "    }\n",
       "</style>\n",
       "<table border=\"1\" class=\"dataframe\">\n",
       "  <thead>\n",
       "    <tr style=\"text-align: right;\">\n",
       "      <th></th>\n",
       "      <th>country</th>\n",
       "      <th>count</th>\n",
       "    </tr>\n",
       "  </thead>\n",
       "  <tbody>\n",
       "    <tr>\n",
       "      <th>0</th>\n",
       "      <td>PRT</td>\n",
       "      <td>17573</td>\n",
       "    </tr>\n",
       "    <tr>\n",
       "      <th>1</th>\n",
       "      <td>GBR</td>\n",
       "      <td>8440</td>\n",
       "    </tr>\n",
       "    <tr>\n",
       "      <th>2</th>\n",
       "      <td>FRA</td>\n",
       "      <td>7091</td>\n",
       "    </tr>\n",
       "    <tr>\n",
       "      <th>3</th>\n",
       "      <td>ESP</td>\n",
       "      <td>5382</td>\n",
       "    </tr>\n",
       "    <tr>\n",
       "      <th>4</th>\n",
       "      <td>DEU</td>\n",
       "      <td>4332</td>\n",
       "    </tr>\n",
       "    <tr>\n",
       "      <th>...</th>\n",
       "      <td>...</td>\n",
       "      <td>...</td>\n",
       "    </tr>\n",
       "    <tr>\n",
       "      <th>160</th>\n",
       "      <td>ZMB</td>\n",
       "      <td>1</td>\n",
       "    </tr>\n",
       "    <tr>\n",
       "      <th>161</th>\n",
       "      <td>SYC</td>\n",
       "      <td>1</td>\n",
       "    </tr>\n",
       "    <tr>\n",
       "      <th>162</th>\n",
       "      <td>MDG</td>\n",
       "      <td>1</td>\n",
       "    </tr>\n",
       "    <tr>\n",
       "      <th>163</th>\n",
       "      <td>SMR</td>\n",
       "      <td>1</td>\n",
       "    </tr>\n",
       "    <tr>\n",
       "      <th>164</th>\n",
       "      <td>FRO</td>\n",
       "      <td>1</td>\n",
       "    </tr>\n",
       "  </tbody>\n",
       "</table>\n",
       "<p>165 rows × 2 columns</p>\n",
       "</div>"
      ],
      "text/plain": [
       "    country  count\n",
       "0       PRT  17573\n",
       "1       GBR   8440\n",
       "2       FRA   7091\n",
       "3       ESP   5382\n",
       "4       DEU   4332\n",
       "..      ...    ...\n",
       "160     ZMB      1\n",
       "161     SYC      1\n",
       "162     MDG      1\n",
       "163     SMR      1\n",
       "164     FRO      1\n",
       "\n",
       "[165 rows x 2 columns]"
      ]
     },
     "execution_count": 73,
     "metadata": {},
     "output_type": "execute_result"
    }
   ],
   "source": [
    "gc"
   ]
  },
  {
   "cell_type": "code",
   "execution_count": 76,
   "metadata": {},
   "outputs": [],
   "source": [
    "import chart_studio.plotly as pl\n",
    "import plotly.graph_objs as go\n",
    "import plotly.express as px\n",
    "from plotly.offline import download_plotlyjs,init_notebook_mode,plot,iplot\n"
   ]
  },
  {
   "cell_type": "code",
   "execution_count": 77,
   "metadata": {},
   "outputs": [
    {
     "data": {
      "text/html": [
       "        <script type=\"text/javascript\">\n",
       "        window.PlotlyConfig = {MathJaxConfig: 'local'};\n",
       "        if (window.MathJax && window.MathJax.Hub && window.MathJax.Hub.Config) {window.MathJax.Hub.Config({SVG: {font: \"STIX-Web\"}});}\n",
       "        if (typeof require !== 'undefined') {\n",
       "        require.undef(\"plotly\");\n",
       "        requirejs.config({\n",
       "            paths: {\n",
       "                'plotly': ['https://cdn.plot.ly/plotly-2.24.1.min']\n",
       "            }\n",
       "        });\n",
       "        require(['plotly'], function(Plotly) {\n",
       "            window._Plotly = Plotly;\n",
       "        });\n",
       "        }\n",
       "        </script>\n",
       "        "
      ]
     },
     "metadata": {},
     "output_type": "display_data"
    }
   ],
   "source": [
    "init_notebook_mode(connected=True)"
   ]
  },
  {
   "cell_type": "code",
   "execution_count": 78,
   "metadata": {},
   "outputs": [],
   "source": [
    "mapss=px.choropleth(data_frame=gc,locations=gc['country'],color=gc['count'],hover_name=gc['country'],title='Home country of guest')"
   ]
  },
  {
   "cell_type": "code",
   "execution_count": 79,
   "metadata": {},
   "outputs": [
    {
     "data": {
      "application/vnd.plotly.v1+json": {
       "config": {
        "plotlyServerURL": "https://plot.ly"
       },
       "data": [
        {
         "coloraxis": "coloraxis",
         "geo": "geo",
         "hovertemplate": "<b>%{hovertext}</b><br><br>country=%{location}<br>count=%{z}<extra></extra>",
         "hovertext": [
          "PRT",
          "GBR",
          "FRA",
          "ESP",
          "DEU",
          "IRL",
          "ITA",
          "BEL",
          "NLD",
          "USA",
          "BRA",
          "CHE",
          "CN",
          "AUT",
          "SWE",
          "POL",
          "CHN",
          "NOR",
          "FIN",
          "ROU",
          "RUS",
          "DNK",
          "AUS",
          "ISR",
          "JPN",
          "LUX",
          "ARG",
          "AGO",
          "HUN",
          "MAR",
          "TUR",
          "IND",
          "CZE",
          "GRC",
          "KOR",
          "HRV",
          "LTU",
          "MEX",
          "DZA",
          "EST",
          "NZL",
          "BGR",
          "IRN",
          "SRB",
          "ZAF",
          "CHL",
          "COL",
          "LVA",
          "UKR",
          "MOZ",
          "SVK",
          "CYP",
          "SVN",
          "TWN",
          "THA",
          "ISL",
          "LBN",
          "SGP",
          "EGY",
          "URY",
          "MYS",
          "PER",
          "TUN",
          "ECU",
          "CRI",
          "JOR",
          "BLR",
          "SAU",
          "KAZ",
          "OMN",
          "PHL",
          "NGA",
          "VEN",
          "MLT",
          "IDN",
          "IRQ",
          "CPV",
          "CMR",
          "PRI",
          "KWT",
          "ALB",
          "BIH",
          "PAN",
          "LBY",
          "GNB",
          "AZE",
          "CUB",
          "MKD",
          "ARE",
          "VNM",
          "JAM",
          "LKA",
          "ARM",
          "MUS",
          "DOM",
          "CAF",
          "PAK",
          "GEO",
          "SUR",
          "KEN",
          "PRY",
          "QAT",
          "CIV",
          "GIB",
          "MDV",
          "MNE",
          "SEN",
          "SYR",
          "MCO",
          "GTM",
          "BGD",
          "BOL",
          "ATA",
          "TZA",
          "ABW",
          "TMP",
          "GAB",
          "SLV",
          "GHA",
          "LAO",
          "BRB",
          "LIE",
          "RWA",
          "STP",
          "ETH",
          "UGA",
          "COM",
          "HKG",
          "KNA",
          "ZWE",
          "TGO",
          "MWI",
          "AND",
          "UZB",
          "LCA",
          "BWA",
          "BDI",
          "MRT",
          "ASM",
          "PYF",
          "NCL",
          "KIR",
          "SDN",
          "ATF",
          "TJK",
          "SLE",
          "GUY",
          "AIA",
          "PLW",
          "NPL",
          "MMR",
          "DJI",
          "BFA",
          "CYM",
          "MAC",
          "BHS",
          "MLI",
          "DMA",
          "BHR",
          "NAM",
          "ZMB",
          "SYC",
          "MDG",
          "SMR",
          "FRO"
         ],
         "locations": [
          "PRT",
          "GBR",
          "FRA",
          "ESP",
          "DEU",
          "IRL",
          "ITA",
          "BEL",
          "NLD",
          "USA",
          "BRA",
          "CHE",
          "CN",
          "AUT",
          "SWE",
          "POL",
          "CHN",
          "NOR",
          "FIN",
          "ROU",
          "RUS",
          "DNK",
          "AUS",
          "ISR",
          "JPN",
          "LUX",
          "ARG",
          "AGO",
          "HUN",
          "MAR",
          "TUR",
          "IND",
          "CZE",
          "GRC",
          "KOR",
          "HRV",
          "LTU",
          "MEX",
          "DZA",
          "EST",
          "NZL",
          "BGR",
          "IRN",
          "SRB",
          "ZAF",
          "CHL",
          "COL",
          "LVA",
          "UKR",
          "MOZ",
          "SVK",
          "CYP",
          "SVN",
          "TWN",
          "THA",
          "ISL",
          "LBN",
          "SGP",
          "EGY",
          "URY",
          "MYS",
          "PER",
          "TUN",
          "ECU",
          "CRI",
          "JOR",
          "BLR",
          "SAU",
          "KAZ",
          "OMN",
          "PHL",
          "NGA",
          "VEN",
          "MLT",
          "IDN",
          "IRQ",
          "CPV",
          "CMR",
          "PRI",
          "KWT",
          "ALB",
          "BIH",
          "PAN",
          "LBY",
          "GNB",
          "AZE",
          "CUB",
          "MKD",
          "ARE",
          "VNM",
          "JAM",
          "LKA",
          "ARM",
          "MUS",
          "DOM",
          "CAF",
          "PAK",
          "GEO",
          "SUR",
          "KEN",
          "PRY",
          "QAT",
          "CIV",
          "GIB",
          "MDV",
          "MNE",
          "SEN",
          "SYR",
          "MCO",
          "GTM",
          "BGD",
          "BOL",
          "ATA",
          "TZA",
          "ABW",
          "TMP",
          "GAB",
          "SLV",
          "GHA",
          "LAO",
          "BRB",
          "LIE",
          "RWA",
          "STP",
          "ETH",
          "UGA",
          "COM",
          "HKG",
          "KNA",
          "ZWE",
          "TGO",
          "MWI",
          "AND",
          "UZB",
          "LCA",
          "BWA",
          "BDI",
          "MRT",
          "ASM",
          "PYF",
          "NCL",
          "KIR",
          "SDN",
          "ATF",
          "TJK",
          "SLE",
          "GUY",
          "AIA",
          "PLW",
          "NPL",
          "MMR",
          "DJI",
          "BFA",
          "CYM",
          "MAC",
          "BHS",
          "MLI",
          "DMA",
          "BHR",
          "NAM",
          "ZMB",
          "SYC",
          "MDG",
          "SMR",
          "FRO"
         ],
         "name": "",
         "type": "choropleth",
         "z": [
          17573,
          8440,
          7091,
          5382,
          4332,
          2347,
          1986,
          1670,
          1560,
          1412,
          1266,
          1182,
          868,
          777,
          656,
          600,
          424,
          370,
          357,
          340,
          337,
          293,
          286,
          270,
          158,
          158,
          152,
          149,
          137,
          128,
          116,
          108,
          103,
          84,
          76,
          68,
          66,
          65,
          61,
          61,
          59,
          59,
          57,
          51,
          49,
          49,
          46,
          43,
          42,
          39,
          38,
          36,
          34,
          30,
          24,
          22,
          22,
          21,
          21,
          21,
          21,
          20,
          19,
          18,
          17,
          16,
          16,
          15,
          14,
          14,
          13,
          13,
          13,
          12,
          11,
          11,
          11,
          10,
          10,
          10,
          9,
          9,
          8,
          8,
          8,
          8,
          8,
          7,
          7,
          6,
          6,
          6,
          6,
          6,
          6,
          5,
          5,
          5,
          5,
          4,
          4,
          4,
          4,
          4,
          3,
          3,
          3,
          3,
          3,
          3,
          3,
          3,
          2,
          2,
          2,
          2,
          2,
          2,
          2,
          2,
          2,
          2,
          2,
          2,
          2,
          2,
          2,
          2,
          2,
          2,
          2,
          2,
          2,
          2,
          1,
          1,
          1,
          1,
          1,
          1,
          1,
          1,
          1,
          1,
          1,
          1,
          1,
          1,
          1,
          1,
          1,
          1,
          1,
          1,
          1,
          1,
          1,
          1,
          1,
          1,
          1,
          1,
          1,
          1,
          1
         ]
        }
       ],
       "layout": {
        "coloraxis": {
         "colorbar": {
          "title": {
           "text": "count"
          }
         },
         "colorscale": [
          [
           0,
           "#0d0887"
          ],
          [
           0.1111111111111111,
           "#46039f"
          ],
          [
           0.2222222222222222,
           "#7201a8"
          ],
          [
           0.3333333333333333,
           "#9c179e"
          ],
          [
           0.4444444444444444,
           "#bd3786"
          ],
          [
           0.5555555555555556,
           "#d8576b"
          ],
          [
           0.6666666666666666,
           "#ed7953"
          ],
          [
           0.7777777777777778,
           "#fb9f3a"
          ],
          [
           0.8888888888888888,
           "#fdca26"
          ],
          [
           1,
           "#f0f921"
          ]
         ]
        },
        "geo": {
         "center": {},
         "domain": {
          "x": [
           0,
           1
          ],
          "y": [
           0,
           1
          ]
         }
        },
        "legend": {
         "tracegroupgap": 0
        },
        "template": {
         "data": {
          "bar": [
           {
            "error_x": {
             "color": "#2a3f5f"
            },
            "error_y": {
             "color": "#2a3f5f"
            },
            "marker": {
             "line": {
              "color": "#E5ECF6",
              "width": 0.5
             },
             "pattern": {
              "fillmode": "overlay",
              "size": 10,
              "solidity": 0.2
             }
            },
            "type": "bar"
           }
          ],
          "barpolar": [
           {
            "marker": {
             "line": {
              "color": "#E5ECF6",
              "width": 0.5
             },
             "pattern": {
              "fillmode": "overlay",
              "size": 10,
              "solidity": 0.2
             }
            },
            "type": "barpolar"
           }
          ],
          "carpet": [
           {
            "aaxis": {
             "endlinecolor": "#2a3f5f",
             "gridcolor": "white",
             "linecolor": "white",
             "minorgridcolor": "white",
             "startlinecolor": "#2a3f5f"
            },
            "baxis": {
             "endlinecolor": "#2a3f5f",
             "gridcolor": "white",
             "linecolor": "white",
             "minorgridcolor": "white",
             "startlinecolor": "#2a3f5f"
            },
            "type": "carpet"
           }
          ],
          "choropleth": [
           {
            "colorbar": {
             "outlinewidth": 0,
             "ticks": ""
            },
            "type": "choropleth"
           }
          ],
          "contour": [
           {
            "colorbar": {
             "outlinewidth": 0,
             "ticks": ""
            },
            "colorscale": [
             [
              0,
              "#0d0887"
             ],
             [
              0.1111111111111111,
              "#46039f"
             ],
             [
              0.2222222222222222,
              "#7201a8"
             ],
             [
              0.3333333333333333,
              "#9c179e"
             ],
             [
              0.4444444444444444,
              "#bd3786"
             ],
             [
              0.5555555555555556,
              "#d8576b"
             ],
             [
              0.6666666666666666,
              "#ed7953"
             ],
             [
              0.7777777777777778,
              "#fb9f3a"
             ],
             [
              0.8888888888888888,
              "#fdca26"
             ],
             [
              1,
              "#f0f921"
             ]
            ],
            "type": "contour"
           }
          ],
          "contourcarpet": [
           {
            "colorbar": {
             "outlinewidth": 0,
             "ticks": ""
            },
            "type": "contourcarpet"
           }
          ],
          "heatmap": [
           {
            "colorbar": {
             "outlinewidth": 0,
             "ticks": ""
            },
            "colorscale": [
             [
              0,
              "#0d0887"
             ],
             [
              0.1111111111111111,
              "#46039f"
             ],
             [
              0.2222222222222222,
              "#7201a8"
             ],
             [
              0.3333333333333333,
              "#9c179e"
             ],
             [
              0.4444444444444444,
              "#bd3786"
             ],
             [
              0.5555555555555556,
              "#d8576b"
             ],
             [
              0.6666666666666666,
              "#ed7953"
             ],
             [
              0.7777777777777778,
              "#fb9f3a"
             ],
             [
              0.8888888888888888,
              "#fdca26"
             ],
             [
              1,
              "#f0f921"
             ]
            ],
            "type": "heatmap"
           }
          ],
          "heatmapgl": [
           {
            "colorbar": {
             "outlinewidth": 0,
             "ticks": ""
            },
            "colorscale": [
             [
              0,
              "#0d0887"
             ],
             [
              0.1111111111111111,
              "#46039f"
             ],
             [
              0.2222222222222222,
              "#7201a8"
             ],
             [
              0.3333333333333333,
              "#9c179e"
             ],
             [
              0.4444444444444444,
              "#bd3786"
             ],
             [
              0.5555555555555556,
              "#d8576b"
             ],
             [
              0.6666666666666666,
              "#ed7953"
             ],
             [
              0.7777777777777778,
              "#fb9f3a"
             ],
             [
              0.8888888888888888,
              "#fdca26"
             ],
             [
              1,
              "#f0f921"
             ]
            ],
            "type": "heatmapgl"
           }
          ],
          "histogram": [
           {
            "marker": {
             "pattern": {
              "fillmode": "overlay",
              "size": 10,
              "solidity": 0.2
             }
            },
            "type": "histogram"
           }
          ],
          "histogram2d": [
           {
            "colorbar": {
             "outlinewidth": 0,
             "ticks": ""
            },
            "colorscale": [
             [
              0,
              "#0d0887"
             ],
             [
              0.1111111111111111,
              "#46039f"
             ],
             [
              0.2222222222222222,
              "#7201a8"
             ],
             [
              0.3333333333333333,
              "#9c179e"
             ],
             [
              0.4444444444444444,
              "#bd3786"
             ],
             [
              0.5555555555555556,
              "#d8576b"
             ],
             [
              0.6666666666666666,
              "#ed7953"
             ],
             [
              0.7777777777777778,
              "#fb9f3a"
             ],
             [
              0.8888888888888888,
              "#fdca26"
             ],
             [
              1,
              "#f0f921"
             ]
            ],
            "type": "histogram2d"
           }
          ],
          "histogram2dcontour": [
           {
            "colorbar": {
             "outlinewidth": 0,
             "ticks": ""
            },
            "colorscale": [
             [
              0,
              "#0d0887"
             ],
             [
              0.1111111111111111,
              "#46039f"
             ],
             [
              0.2222222222222222,
              "#7201a8"
             ],
             [
              0.3333333333333333,
              "#9c179e"
             ],
             [
              0.4444444444444444,
              "#bd3786"
             ],
             [
              0.5555555555555556,
              "#d8576b"
             ],
             [
              0.6666666666666666,
              "#ed7953"
             ],
             [
              0.7777777777777778,
              "#fb9f3a"
             ],
             [
              0.8888888888888888,
              "#fdca26"
             ],
             [
              1,
              "#f0f921"
             ]
            ],
            "type": "histogram2dcontour"
           }
          ],
          "mesh3d": [
           {
            "colorbar": {
             "outlinewidth": 0,
             "ticks": ""
            },
            "type": "mesh3d"
           }
          ],
          "parcoords": [
           {
            "line": {
             "colorbar": {
              "outlinewidth": 0,
              "ticks": ""
             }
            },
            "type": "parcoords"
           }
          ],
          "pie": [
           {
            "automargin": true,
            "type": "pie"
           }
          ],
          "scatter": [
           {
            "fillpattern": {
             "fillmode": "overlay",
             "size": 10,
             "solidity": 0.2
            },
            "type": "scatter"
           }
          ],
          "scatter3d": [
           {
            "line": {
             "colorbar": {
              "outlinewidth": 0,
              "ticks": ""
             }
            },
            "marker": {
             "colorbar": {
              "outlinewidth": 0,
              "ticks": ""
             }
            },
            "type": "scatter3d"
           }
          ],
          "scattercarpet": [
           {
            "marker": {
             "colorbar": {
              "outlinewidth": 0,
              "ticks": ""
             }
            },
            "type": "scattercarpet"
           }
          ],
          "scattergeo": [
           {
            "marker": {
             "colorbar": {
              "outlinewidth": 0,
              "ticks": ""
             }
            },
            "type": "scattergeo"
           }
          ],
          "scattergl": [
           {
            "marker": {
             "colorbar": {
              "outlinewidth": 0,
              "ticks": ""
             }
            },
            "type": "scattergl"
           }
          ],
          "scattermapbox": [
           {
            "marker": {
             "colorbar": {
              "outlinewidth": 0,
              "ticks": ""
             }
            },
            "type": "scattermapbox"
           }
          ],
          "scatterpolar": [
           {
            "marker": {
             "colorbar": {
              "outlinewidth": 0,
              "ticks": ""
             }
            },
            "type": "scatterpolar"
           }
          ],
          "scatterpolargl": [
           {
            "marker": {
             "colorbar": {
              "outlinewidth": 0,
              "ticks": ""
             }
            },
            "type": "scatterpolargl"
           }
          ],
          "scatterternary": [
           {
            "marker": {
             "colorbar": {
              "outlinewidth": 0,
              "ticks": ""
             }
            },
            "type": "scatterternary"
           }
          ],
          "surface": [
           {
            "colorbar": {
             "outlinewidth": 0,
             "ticks": ""
            },
            "colorscale": [
             [
              0,
              "#0d0887"
             ],
             [
              0.1111111111111111,
              "#46039f"
             ],
             [
              0.2222222222222222,
              "#7201a8"
             ],
             [
              0.3333333333333333,
              "#9c179e"
             ],
             [
              0.4444444444444444,
              "#bd3786"
             ],
             [
              0.5555555555555556,
              "#d8576b"
             ],
             [
              0.6666666666666666,
              "#ed7953"
             ],
             [
              0.7777777777777778,
              "#fb9f3a"
             ],
             [
              0.8888888888888888,
              "#fdca26"
             ],
             [
              1,
              "#f0f921"
             ]
            ],
            "type": "surface"
           }
          ],
          "table": [
           {
            "cells": {
             "fill": {
              "color": "#EBF0F8"
             },
             "line": {
              "color": "white"
             }
            },
            "header": {
             "fill": {
              "color": "#C8D4E3"
             },
             "line": {
              "color": "white"
             }
            },
            "type": "table"
           }
          ]
         },
         "layout": {
          "annotationdefaults": {
           "arrowcolor": "#2a3f5f",
           "arrowhead": 0,
           "arrowwidth": 1
          },
          "autotypenumbers": "strict",
          "coloraxis": {
           "colorbar": {
            "outlinewidth": 0,
            "ticks": ""
           }
          },
          "colorscale": {
           "diverging": [
            [
             0,
             "#8e0152"
            ],
            [
             0.1,
             "#c51b7d"
            ],
            [
             0.2,
             "#de77ae"
            ],
            [
             0.3,
             "#f1b6da"
            ],
            [
             0.4,
             "#fde0ef"
            ],
            [
             0.5,
             "#f7f7f7"
            ],
            [
             0.6,
             "#e6f5d0"
            ],
            [
             0.7,
             "#b8e186"
            ],
            [
             0.8,
             "#7fbc41"
            ],
            [
             0.9,
             "#4d9221"
            ],
            [
             1,
             "#276419"
            ]
           ],
           "sequential": [
            [
             0,
             "#0d0887"
            ],
            [
             0.1111111111111111,
             "#46039f"
            ],
            [
             0.2222222222222222,
             "#7201a8"
            ],
            [
             0.3333333333333333,
             "#9c179e"
            ],
            [
             0.4444444444444444,
             "#bd3786"
            ],
            [
             0.5555555555555556,
             "#d8576b"
            ],
            [
             0.6666666666666666,
             "#ed7953"
            ],
            [
             0.7777777777777778,
             "#fb9f3a"
            ],
            [
             0.8888888888888888,
             "#fdca26"
            ],
            [
             1,
             "#f0f921"
            ]
           ],
           "sequentialminus": [
            [
             0,
             "#0d0887"
            ],
            [
             0.1111111111111111,
             "#46039f"
            ],
            [
             0.2222222222222222,
             "#7201a8"
            ],
            [
             0.3333333333333333,
             "#9c179e"
            ],
            [
             0.4444444444444444,
             "#bd3786"
            ],
            [
             0.5555555555555556,
             "#d8576b"
            ],
            [
             0.6666666666666666,
             "#ed7953"
            ],
            [
             0.7777777777777778,
             "#fb9f3a"
            ],
            [
             0.8888888888888888,
             "#fdca26"
            ],
            [
             1,
             "#f0f921"
            ]
           ]
          },
          "colorway": [
           "#636efa",
           "#EF553B",
           "#00cc96",
           "#ab63fa",
           "#FFA15A",
           "#19d3f3",
           "#FF6692",
           "#B6E880",
           "#FF97FF",
           "#FECB52"
          ],
          "font": {
           "color": "#2a3f5f"
          },
          "geo": {
           "bgcolor": "white",
           "lakecolor": "white",
           "landcolor": "#E5ECF6",
           "showlakes": true,
           "showland": true,
           "subunitcolor": "white"
          },
          "hoverlabel": {
           "align": "left"
          },
          "hovermode": "closest",
          "mapbox": {
           "style": "light"
          },
          "paper_bgcolor": "white",
          "plot_bgcolor": "#E5ECF6",
          "polar": {
           "angularaxis": {
            "gridcolor": "white",
            "linecolor": "white",
            "ticks": ""
           },
           "bgcolor": "#E5ECF6",
           "radialaxis": {
            "gridcolor": "white",
            "linecolor": "white",
            "ticks": ""
           }
          },
          "scene": {
           "xaxis": {
            "backgroundcolor": "#E5ECF6",
            "gridcolor": "white",
            "gridwidth": 2,
            "linecolor": "white",
            "showbackground": true,
            "ticks": "",
            "zerolinecolor": "white"
           },
           "yaxis": {
            "backgroundcolor": "#E5ECF6",
            "gridcolor": "white",
            "gridwidth": 2,
            "linecolor": "white",
            "showbackground": true,
            "ticks": "",
            "zerolinecolor": "white"
           },
           "zaxis": {
            "backgroundcolor": "#E5ECF6",
            "gridcolor": "white",
            "gridwidth": 2,
            "linecolor": "white",
            "showbackground": true,
            "ticks": "",
            "zerolinecolor": "white"
           }
          },
          "shapedefaults": {
           "line": {
            "color": "#2a3f5f"
           }
          },
          "ternary": {
           "aaxis": {
            "gridcolor": "white",
            "linecolor": "white",
            "ticks": ""
           },
           "baxis": {
            "gridcolor": "white",
            "linecolor": "white",
            "ticks": ""
           },
           "bgcolor": "#E5ECF6",
           "caxis": {
            "gridcolor": "white",
            "linecolor": "white",
            "ticks": ""
           }
          },
          "title": {
           "x": 0.05
          },
          "xaxis": {
           "automargin": true,
           "gridcolor": "white",
           "linecolor": "white",
           "ticks": "",
           "title": {
            "standoff": 15
           },
           "zerolinecolor": "white",
           "zerolinewidth": 2
          },
          "yaxis": {
           "automargin": true,
           "gridcolor": "white",
           "linecolor": "white",
           "ticks": "",
           "title": {
            "standoff": 15
           },
           "zerolinecolor": "white",
           "zerolinewidth": 2
          }
         }
        },
        "title": {
         "text": "Home country of guest"
        }
       }
      },
      "text/html": [
       "<div>                            <div id=\"30ce4e8b-58a1-407d-aa8e-2d336bfdf32a\" class=\"plotly-graph-div\" style=\"height:525px; width:100%;\"></div>            <script type=\"text/javascript\">                require([\"plotly\"], function(Plotly) {                    window.PLOTLYENV=window.PLOTLYENV || {};                                    if (document.getElementById(\"30ce4e8b-58a1-407d-aa8e-2d336bfdf32a\")) {                    Plotly.newPlot(                        \"30ce4e8b-58a1-407d-aa8e-2d336bfdf32a\",                        [{\"coloraxis\":\"coloraxis\",\"geo\":\"geo\",\"hovertemplate\":\"\\u003cb\\u003e%{hovertext}\\u003c\\u002fb\\u003e\\u003cbr\\u003e\\u003cbr\\u003ecountry=%{location}\\u003cbr\\u003ecount=%{z}\\u003cextra\\u003e\\u003c\\u002fextra\\u003e\",\"hovertext\":[\"PRT\",\"GBR\",\"FRA\",\"ESP\",\"DEU\",\"IRL\",\"ITA\",\"BEL\",\"NLD\",\"USA\",\"BRA\",\"CHE\",\"CN\",\"AUT\",\"SWE\",\"POL\",\"CHN\",\"NOR\",\"FIN\",\"ROU\",\"RUS\",\"DNK\",\"AUS\",\"ISR\",\"JPN\",\"LUX\",\"ARG\",\"AGO\",\"HUN\",\"MAR\",\"TUR\",\"IND\",\"CZE\",\"GRC\",\"KOR\",\"HRV\",\"LTU\",\"MEX\",\"DZA\",\"EST\",\"NZL\",\"BGR\",\"IRN\",\"SRB\",\"ZAF\",\"CHL\",\"COL\",\"LVA\",\"UKR\",\"MOZ\",\"SVK\",\"CYP\",\"SVN\",\"TWN\",\"THA\",\"ISL\",\"LBN\",\"SGP\",\"EGY\",\"URY\",\"MYS\",\"PER\",\"TUN\",\"ECU\",\"CRI\",\"JOR\",\"BLR\",\"SAU\",\"KAZ\",\"OMN\",\"PHL\",\"NGA\",\"VEN\",\"MLT\",\"IDN\",\"IRQ\",\"CPV\",\"CMR\",\"PRI\",\"KWT\",\"ALB\",\"BIH\",\"PAN\",\"LBY\",\"GNB\",\"AZE\",\"CUB\",\"MKD\",\"ARE\",\"VNM\",\"JAM\",\"LKA\",\"ARM\",\"MUS\",\"DOM\",\"CAF\",\"PAK\",\"GEO\",\"SUR\",\"KEN\",\"PRY\",\"QAT\",\"CIV\",\"GIB\",\"MDV\",\"MNE\",\"SEN\",\"SYR\",\"MCO\",\"GTM\",\"BGD\",\"BOL\",\"ATA\",\"TZA\",\"ABW\",\"TMP\",\"GAB\",\"SLV\",\"GHA\",\"LAO\",\"BRB\",\"LIE\",\"RWA\",\"STP\",\"ETH\",\"UGA\",\"COM\",\"HKG\",\"KNA\",\"ZWE\",\"TGO\",\"MWI\",\"AND\",\"UZB\",\"LCA\",\"BWA\",\"BDI\",\"MRT\",\"ASM\",\"PYF\",\"NCL\",\"KIR\",\"SDN\",\"ATF\",\"TJK\",\"SLE\",\"GUY\",\"AIA\",\"PLW\",\"NPL\",\"MMR\",\"DJI\",\"BFA\",\"CYM\",\"MAC\",\"BHS\",\"MLI\",\"DMA\",\"BHR\",\"NAM\",\"ZMB\",\"SYC\",\"MDG\",\"SMR\",\"FRO\"],\"locations\":[\"PRT\",\"GBR\",\"FRA\",\"ESP\",\"DEU\",\"IRL\",\"ITA\",\"BEL\",\"NLD\",\"USA\",\"BRA\",\"CHE\",\"CN\",\"AUT\",\"SWE\",\"POL\",\"CHN\",\"NOR\",\"FIN\",\"ROU\",\"RUS\",\"DNK\",\"AUS\",\"ISR\",\"JPN\",\"LUX\",\"ARG\",\"AGO\",\"HUN\",\"MAR\",\"TUR\",\"IND\",\"CZE\",\"GRC\",\"KOR\",\"HRV\",\"LTU\",\"MEX\",\"DZA\",\"EST\",\"NZL\",\"BGR\",\"IRN\",\"SRB\",\"ZAF\",\"CHL\",\"COL\",\"LVA\",\"UKR\",\"MOZ\",\"SVK\",\"CYP\",\"SVN\",\"TWN\",\"THA\",\"ISL\",\"LBN\",\"SGP\",\"EGY\",\"URY\",\"MYS\",\"PER\",\"TUN\",\"ECU\",\"CRI\",\"JOR\",\"BLR\",\"SAU\",\"KAZ\",\"OMN\",\"PHL\",\"NGA\",\"VEN\",\"MLT\",\"IDN\",\"IRQ\",\"CPV\",\"CMR\",\"PRI\",\"KWT\",\"ALB\",\"BIH\",\"PAN\",\"LBY\",\"GNB\",\"AZE\",\"CUB\",\"MKD\",\"ARE\",\"VNM\",\"JAM\",\"LKA\",\"ARM\",\"MUS\",\"DOM\",\"CAF\",\"PAK\",\"GEO\",\"SUR\",\"KEN\",\"PRY\",\"QAT\",\"CIV\",\"GIB\",\"MDV\",\"MNE\",\"SEN\",\"SYR\",\"MCO\",\"GTM\",\"BGD\",\"BOL\",\"ATA\",\"TZA\",\"ABW\",\"TMP\",\"GAB\",\"SLV\",\"GHA\",\"LAO\",\"BRB\",\"LIE\",\"RWA\",\"STP\",\"ETH\",\"UGA\",\"COM\",\"HKG\",\"KNA\",\"ZWE\",\"TGO\",\"MWI\",\"AND\",\"UZB\",\"LCA\",\"BWA\",\"BDI\",\"MRT\",\"ASM\",\"PYF\",\"NCL\",\"KIR\",\"SDN\",\"ATF\",\"TJK\",\"SLE\",\"GUY\",\"AIA\",\"PLW\",\"NPL\",\"MMR\",\"DJI\",\"BFA\",\"CYM\",\"MAC\",\"BHS\",\"MLI\",\"DMA\",\"BHR\",\"NAM\",\"ZMB\",\"SYC\",\"MDG\",\"SMR\",\"FRO\"],\"name\":\"\",\"z\":[17573,8440,7091,5382,4332,2347,1986,1670,1560,1412,1266,1182,868,777,656,600,424,370,357,340,337,293,286,270,158,158,152,149,137,128,116,108,103,84,76,68,66,65,61,61,59,59,57,51,49,49,46,43,42,39,38,36,34,30,24,22,22,21,21,21,21,20,19,18,17,16,16,15,14,14,13,13,13,12,11,11,11,10,10,10,9,9,8,8,8,8,8,7,7,6,6,6,6,6,6,5,5,5,5,4,4,4,4,4,3,3,3,3,3,3,3,3,2,2,2,2,2,2,2,2,2,2,2,2,2,2,2,2,2,2,2,2,2,2,1,1,1,1,1,1,1,1,1,1,1,1,1,1,1,1,1,1,1,1,1,1,1,1,1,1,1,1,1,1,1],\"type\":\"choropleth\"}],                        {\"template\":{\"data\":{\"histogram2dcontour\":[{\"type\":\"histogram2dcontour\",\"colorbar\":{\"outlinewidth\":0,\"ticks\":\"\"},\"colorscale\":[[0.0,\"#0d0887\"],[0.1111111111111111,\"#46039f\"],[0.2222222222222222,\"#7201a8\"],[0.3333333333333333,\"#9c179e\"],[0.4444444444444444,\"#bd3786\"],[0.5555555555555556,\"#d8576b\"],[0.6666666666666666,\"#ed7953\"],[0.7777777777777778,\"#fb9f3a\"],[0.8888888888888888,\"#fdca26\"],[1.0,\"#f0f921\"]]}],\"choropleth\":[{\"type\":\"choropleth\",\"colorbar\":{\"outlinewidth\":0,\"ticks\":\"\"}}],\"histogram2d\":[{\"type\":\"histogram2d\",\"colorbar\":{\"outlinewidth\":0,\"ticks\":\"\"},\"colorscale\":[[0.0,\"#0d0887\"],[0.1111111111111111,\"#46039f\"],[0.2222222222222222,\"#7201a8\"],[0.3333333333333333,\"#9c179e\"],[0.4444444444444444,\"#bd3786\"],[0.5555555555555556,\"#d8576b\"],[0.6666666666666666,\"#ed7953\"],[0.7777777777777778,\"#fb9f3a\"],[0.8888888888888888,\"#fdca26\"],[1.0,\"#f0f921\"]]}],\"heatmap\":[{\"type\":\"heatmap\",\"colorbar\":{\"outlinewidth\":0,\"ticks\":\"\"},\"colorscale\":[[0.0,\"#0d0887\"],[0.1111111111111111,\"#46039f\"],[0.2222222222222222,\"#7201a8\"],[0.3333333333333333,\"#9c179e\"],[0.4444444444444444,\"#bd3786\"],[0.5555555555555556,\"#d8576b\"],[0.6666666666666666,\"#ed7953\"],[0.7777777777777778,\"#fb9f3a\"],[0.8888888888888888,\"#fdca26\"],[1.0,\"#f0f921\"]]}],\"heatmapgl\":[{\"type\":\"heatmapgl\",\"colorbar\":{\"outlinewidth\":0,\"ticks\":\"\"},\"colorscale\":[[0.0,\"#0d0887\"],[0.1111111111111111,\"#46039f\"],[0.2222222222222222,\"#7201a8\"],[0.3333333333333333,\"#9c179e\"],[0.4444444444444444,\"#bd3786\"],[0.5555555555555556,\"#d8576b\"],[0.6666666666666666,\"#ed7953\"],[0.7777777777777778,\"#fb9f3a\"],[0.8888888888888888,\"#fdca26\"],[1.0,\"#f0f921\"]]}],\"contourcarpet\":[{\"type\":\"contourcarpet\",\"colorbar\":{\"outlinewidth\":0,\"ticks\":\"\"}}],\"contour\":[{\"type\":\"contour\",\"colorbar\":{\"outlinewidth\":0,\"ticks\":\"\"},\"colorscale\":[[0.0,\"#0d0887\"],[0.1111111111111111,\"#46039f\"],[0.2222222222222222,\"#7201a8\"],[0.3333333333333333,\"#9c179e\"],[0.4444444444444444,\"#bd3786\"],[0.5555555555555556,\"#d8576b\"],[0.6666666666666666,\"#ed7953\"],[0.7777777777777778,\"#fb9f3a\"],[0.8888888888888888,\"#fdca26\"],[1.0,\"#f0f921\"]]}],\"surface\":[{\"type\":\"surface\",\"colorbar\":{\"outlinewidth\":0,\"ticks\":\"\"},\"colorscale\":[[0.0,\"#0d0887\"],[0.1111111111111111,\"#46039f\"],[0.2222222222222222,\"#7201a8\"],[0.3333333333333333,\"#9c179e\"],[0.4444444444444444,\"#bd3786\"],[0.5555555555555556,\"#d8576b\"],[0.6666666666666666,\"#ed7953\"],[0.7777777777777778,\"#fb9f3a\"],[0.8888888888888888,\"#fdca26\"],[1.0,\"#f0f921\"]]}],\"mesh3d\":[{\"type\":\"mesh3d\",\"colorbar\":{\"outlinewidth\":0,\"ticks\":\"\"}}],\"scatter\":[{\"fillpattern\":{\"fillmode\":\"overlay\",\"size\":10,\"solidity\":0.2},\"type\":\"scatter\"}],\"parcoords\":[{\"type\":\"parcoords\",\"line\":{\"colorbar\":{\"outlinewidth\":0,\"ticks\":\"\"}}}],\"scatterpolargl\":[{\"type\":\"scatterpolargl\",\"marker\":{\"colorbar\":{\"outlinewidth\":0,\"ticks\":\"\"}}}],\"bar\":[{\"error_x\":{\"color\":\"#2a3f5f\"},\"error_y\":{\"color\":\"#2a3f5f\"},\"marker\":{\"line\":{\"color\":\"#E5ECF6\",\"width\":0.5},\"pattern\":{\"fillmode\":\"overlay\",\"size\":10,\"solidity\":0.2}},\"type\":\"bar\"}],\"scattergeo\":[{\"type\":\"scattergeo\",\"marker\":{\"colorbar\":{\"outlinewidth\":0,\"ticks\":\"\"}}}],\"scatterpolar\":[{\"type\":\"scatterpolar\",\"marker\":{\"colorbar\":{\"outlinewidth\":0,\"ticks\":\"\"}}}],\"histogram\":[{\"marker\":{\"pattern\":{\"fillmode\":\"overlay\",\"size\":10,\"solidity\":0.2}},\"type\":\"histogram\"}],\"scattergl\":[{\"type\":\"scattergl\",\"marker\":{\"colorbar\":{\"outlinewidth\":0,\"ticks\":\"\"}}}],\"scatter3d\":[{\"type\":\"scatter3d\",\"line\":{\"colorbar\":{\"outlinewidth\":0,\"ticks\":\"\"}},\"marker\":{\"colorbar\":{\"outlinewidth\":0,\"ticks\":\"\"}}}],\"scattermapbox\":[{\"type\":\"scattermapbox\",\"marker\":{\"colorbar\":{\"outlinewidth\":0,\"ticks\":\"\"}}}],\"scatterternary\":[{\"type\":\"scatterternary\",\"marker\":{\"colorbar\":{\"outlinewidth\":0,\"ticks\":\"\"}}}],\"scattercarpet\":[{\"type\":\"scattercarpet\",\"marker\":{\"colorbar\":{\"outlinewidth\":0,\"ticks\":\"\"}}}],\"carpet\":[{\"aaxis\":{\"endlinecolor\":\"#2a3f5f\",\"gridcolor\":\"white\",\"linecolor\":\"white\",\"minorgridcolor\":\"white\",\"startlinecolor\":\"#2a3f5f\"},\"baxis\":{\"endlinecolor\":\"#2a3f5f\",\"gridcolor\":\"white\",\"linecolor\":\"white\",\"minorgridcolor\":\"white\",\"startlinecolor\":\"#2a3f5f\"},\"type\":\"carpet\"}],\"table\":[{\"cells\":{\"fill\":{\"color\":\"#EBF0F8\"},\"line\":{\"color\":\"white\"}},\"header\":{\"fill\":{\"color\":\"#C8D4E3\"},\"line\":{\"color\":\"white\"}},\"type\":\"table\"}],\"barpolar\":[{\"marker\":{\"line\":{\"color\":\"#E5ECF6\",\"width\":0.5},\"pattern\":{\"fillmode\":\"overlay\",\"size\":10,\"solidity\":0.2}},\"type\":\"barpolar\"}],\"pie\":[{\"automargin\":true,\"type\":\"pie\"}]},\"layout\":{\"autotypenumbers\":\"strict\",\"colorway\":[\"#636efa\",\"#EF553B\",\"#00cc96\",\"#ab63fa\",\"#FFA15A\",\"#19d3f3\",\"#FF6692\",\"#B6E880\",\"#FF97FF\",\"#FECB52\"],\"font\":{\"color\":\"#2a3f5f\"},\"hovermode\":\"closest\",\"hoverlabel\":{\"align\":\"left\"},\"paper_bgcolor\":\"white\",\"plot_bgcolor\":\"#E5ECF6\",\"polar\":{\"bgcolor\":\"#E5ECF6\",\"angularaxis\":{\"gridcolor\":\"white\",\"linecolor\":\"white\",\"ticks\":\"\"},\"radialaxis\":{\"gridcolor\":\"white\",\"linecolor\":\"white\",\"ticks\":\"\"}},\"ternary\":{\"bgcolor\":\"#E5ECF6\",\"aaxis\":{\"gridcolor\":\"white\",\"linecolor\":\"white\",\"ticks\":\"\"},\"baxis\":{\"gridcolor\":\"white\",\"linecolor\":\"white\",\"ticks\":\"\"},\"caxis\":{\"gridcolor\":\"white\",\"linecolor\":\"white\",\"ticks\":\"\"}},\"coloraxis\":{\"colorbar\":{\"outlinewidth\":0,\"ticks\":\"\"}},\"colorscale\":{\"sequential\":[[0.0,\"#0d0887\"],[0.1111111111111111,\"#46039f\"],[0.2222222222222222,\"#7201a8\"],[0.3333333333333333,\"#9c179e\"],[0.4444444444444444,\"#bd3786\"],[0.5555555555555556,\"#d8576b\"],[0.6666666666666666,\"#ed7953\"],[0.7777777777777778,\"#fb9f3a\"],[0.8888888888888888,\"#fdca26\"],[1.0,\"#f0f921\"]],\"sequentialminus\":[[0.0,\"#0d0887\"],[0.1111111111111111,\"#46039f\"],[0.2222222222222222,\"#7201a8\"],[0.3333333333333333,\"#9c179e\"],[0.4444444444444444,\"#bd3786\"],[0.5555555555555556,\"#d8576b\"],[0.6666666666666666,\"#ed7953\"],[0.7777777777777778,\"#fb9f3a\"],[0.8888888888888888,\"#fdca26\"],[1.0,\"#f0f921\"]],\"diverging\":[[0,\"#8e0152\"],[0.1,\"#c51b7d\"],[0.2,\"#de77ae\"],[0.3,\"#f1b6da\"],[0.4,\"#fde0ef\"],[0.5,\"#f7f7f7\"],[0.6,\"#e6f5d0\"],[0.7,\"#b8e186\"],[0.8,\"#7fbc41\"],[0.9,\"#4d9221\"],[1,\"#276419\"]]},\"xaxis\":{\"gridcolor\":\"white\",\"linecolor\":\"white\",\"ticks\":\"\",\"title\":{\"standoff\":15},\"zerolinecolor\":\"white\",\"automargin\":true,\"zerolinewidth\":2},\"yaxis\":{\"gridcolor\":\"white\",\"linecolor\":\"white\",\"ticks\":\"\",\"title\":{\"standoff\":15},\"zerolinecolor\":\"white\",\"automargin\":true,\"zerolinewidth\":2},\"scene\":{\"xaxis\":{\"backgroundcolor\":\"#E5ECF6\",\"gridcolor\":\"white\",\"linecolor\":\"white\",\"showbackground\":true,\"ticks\":\"\",\"zerolinecolor\":\"white\",\"gridwidth\":2},\"yaxis\":{\"backgroundcolor\":\"#E5ECF6\",\"gridcolor\":\"white\",\"linecolor\":\"white\",\"showbackground\":true,\"ticks\":\"\",\"zerolinecolor\":\"white\",\"gridwidth\":2},\"zaxis\":{\"backgroundcolor\":\"#E5ECF6\",\"gridcolor\":\"white\",\"linecolor\":\"white\",\"showbackground\":true,\"ticks\":\"\",\"zerolinecolor\":\"white\",\"gridwidth\":2}},\"shapedefaults\":{\"line\":{\"color\":\"#2a3f5f\"}},\"annotationdefaults\":{\"arrowcolor\":\"#2a3f5f\",\"arrowhead\":0,\"arrowwidth\":1},\"geo\":{\"bgcolor\":\"white\",\"landcolor\":\"#E5ECF6\",\"subunitcolor\":\"white\",\"showland\":true,\"showlakes\":true,\"lakecolor\":\"white\"},\"title\":{\"x\":0.05},\"mapbox\":{\"style\":\"light\"}}},\"geo\":{\"domain\":{\"x\":[0.0,1.0],\"y\":[0.0,1.0]},\"center\":{}},\"coloraxis\":{\"colorbar\":{\"title\":{\"text\":\"count\"}},\"colorscale\":[[0.0,\"#0d0887\"],[0.1111111111111111,\"#46039f\"],[0.2222222222222222,\"#7201a8\"],[0.3333333333333333,\"#9c179e\"],[0.4444444444444444,\"#bd3786\"],[0.5555555555555556,\"#d8576b\"],[0.6666666666666666,\"#ed7953\"],[0.7777777777777778,\"#fb9f3a\"],[0.8888888888888888,\"#fdca26\"],[1.0,\"#f0f921\"]]},\"legend\":{\"tracegroupgap\":0},\"title\":{\"text\":\"Home country of guest\"}},                        {\"responsive\": true}                    ).then(function(){\n",
       "                            \n",
       "var gd = document.getElementById('30ce4e8b-58a1-407d-aa8e-2d336bfdf32a');\n",
       "var x = new MutationObserver(function (mutations, observer) {{\n",
       "        var display = window.getComputedStyle(gd).display;\n",
       "        if (!display || display === 'none') {{\n",
       "            console.log([gd, 'removed!']);\n",
       "            Plotly.purge(gd);\n",
       "            observer.disconnect();\n",
       "        }}\n",
       "}});\n",
       "\n",
       "// Listen for the removal of the full notebook cells\n",
       "var notebookContainer = gd.closest('#notebook-container');\n",
       "if (notebookContainer) {{\n",
       "    x.observe(notebookContainer, {childList: true});\n",
       "}}\n",
       "\n",
       "// Listen for the clearing of the current output cell\n",
       "var outputEl = gd.closest('.output');\n",
       "if (outputEl) {{\n",
       "    x.observe(outputEl, {childList: true});\n",
       "}}\n",
       "\n",
       "                        })                };                });            </script>        </div>"
      ]
     },
     "metadata": {},
     "output_type": "display_data"
    }
   ],
   "source": [
    "mapss.show()"
   ]
  },
  {
   "cell_type": "markdown",
   "metadata": {},
   "source": [
    "__Any diffrence betwwen assigned room and reserved room__"
   ]
  },
  {
   "cell_type": "code",
   "execution_count": 80,
   "metadata": {},
   "outputs": [
    {
     "data": {
      "text/plain": [
       "0         C\n",
       "1         C\n",
       "2         C\n",
       "3         A\n",
       "4         A\n",
       "         ..\n",
       "119385    A\n",
       "119386    E\n",
       "119387    D\n",
       "119388    A\n",
       "119389    A\n",
       "Name: assigned_room_type, Length: 119390, dtype: object"
      ]
     },
     "execution_count": 80,
     "metadata": {},
     "output_type": "execute_result"
    }
   ],
   "source": [
    "df.assigned_room_type"
   ]
  },
  {
   "cell_type": "code",
   "execution_count": 81,
   "metadata": {},
   "outputs": [
    {
     "data": {
      "text/plain": [
       "0         C\n",
       "1         C\n",
       "2         A\n",
       "3         A\n",
       "4         A\n",
       "         ..\n",
       "119385    A\n",
       "119386    E\n",
       "119387    D\n",
       "119388    A\n",
       "119389    A\n",
       "Name: reserved_room_type, Length: 119390, dtype: object"
      ]
     },
     "execution_count": 81,
     "metadata": {},
     "output_type": "execute_result"
    }
   ],
   "source": [
    "df.reserved_room_type"
   ]
  },
  {
   "cell_type": "code",
   "execution_count": 89,
   "metadata": {},
   "outputs": [],
   "source": [
    "piv=pd.crosstab(index=data.reserved_room_type,columns=data.assigned_room_type,margins=True)"
   ]
  },
  {
   "cell_type": "code",
   "execution_count": 90,
   "metadata": {},
   "outputs": [
    {
     "data": {
      "text/html": [
       "<div>\n",
       "<style scoped>\n",
       "    .dataframe tbody tr th:only-of-type {\n",
       "        vertical-align: middle;\n",
       "    }\n",
       "\n",
       "    .dataframe tbody tr th {\n",
       "        vertical-align: top;\n",
       "    }\n",
       "\n",
       "    .dataframe thead th {\n",
       "        text-align: right;\n",
       "    }\n",
       "</style>\n",
       "<table border=\"1\" class=\"dataframe\">\n",
       "  <thead>\n",
       "    <tr style=\"text-align: right;\">\n",
       "      <th>assigned_room_type</th>\n",
       "      <th>A</th>\n",
       "      <th>B</th>\n",
       "      <th>C</th>\n",
       "      <th>D</th>\n",
       "      <th>E</th>\n",
       "      <th>F</th>\n",
       "      <th>G</th>\n",
       "      <th>H</th>\n",
       "      <th>I</th>\n",
       "      <th>K</th>\n",
       "      <th>L</th>\n",
       "      <th>All</th>\n",
       "    </tr>\n",
       "    <tr>\n",
       "      <th>reserved_room_type</th>\n",
       "      <th></th>\n",
       "      <th></th>\n",
       "      <th></th>\n",
       "      <th></th>\n",
       "      <th></th>\n",
       "      <th></th>\n",
       "      <th></th>\n",
       "      <th></th>\n",
       "      <th></th>\n",
       "      <th></th>\n",
       "      <th></th>\n",
       "      <th></th>\n",
       "    </tr>\n",
       "  </thead>\n",
       "  <tbody>\n",
       "    <tr>\n",
       "      <th>A</th>\n",
       "      <td>45850</td>\n",
       "      <td>892</td>\n",
       "      <td>1253</td>\n",
       "      <td>6402</td>\n",
       "      <td>1034</td>\n",
       "      <td>390</td>\n",
       "      <td>176</td>\n",
       "      <td>94</td>\n",
       "      <td>205</td>\n",
       "      <td>140</td>\n",
       "      <td>0</td>\n",
       "      <td>56436</td>\n",
       "    </tr>\n",
       "    <tr>\n",
       "      <th>B</th>\n",
       "      <td>106</td>\n",
       "      <td>872</td>\n",
       "      <td>0</td>\n",
       "      <td>5</td>\n",
       "      <td>2</td>\n",
       "      <td>2</td>\n",
       "      <td>8</td>\n",
       "      <td>0</td>\n",
       "      <td>0</td>\n",
       "      <td>1</td>\n",
       "      <td>0</td>\n",
       "      <td>996</td>\n",
       "    </tr>\n",
       "    <tr>\n",
       "      <th>C</th>\n",
       "      <td>5</td>\n",
       "      <td>2</td>\n",
       "      <td>866</td>\n",
       "      <td>6</td>\n",
       "      <td>4</td>\n",
       "      <td>2</td>\n",
       "      <td>10</td>\n",
       "      <td>9</td>\n",
       "      <td>10</td>\n",
       "      <td>0</td>\n",
       "      <td>0</td>\n",
       "      <td>914</td>\n",
       "    </tr>\n",
       "    <tr>\n",
       "      <th>D</th>\n",
       "      <td>295</td>\n",
       "      <td>27</td>\n",
       "      <td>32</td>\n",
       "      <td>15979</td>\n",
       "      <td>657</td>\n",
       "      <td>199</td>\n",
       "      <td>82</td>\n",
       "      <td>9</td>\n",
       "      <td>67</td>\n",
       "      <td>29</td>\n",
       "      <td>0</td>\n",
       "      <td>17376</td>\n",
       "    </tr>\n",
       "    <tr>\n",
       "      <th>E</th>\n",
       "      <td>15</td>\n",
       "      <td>2</td>\n",
       "      <td>6</td>\n",
       "      <td>22</td>\n",
       "      <td>5458</td>\n",
       "      <td>383</td>\n",
       "      <td>97</td>\n",
       "      <td>4</td>\n",
       "      <td>40</td>\n",
       "      <td>9</td>\n",
       "      <td>0</td>\n",
       "      <td>6036</td>\n",
       "    </tr>\n",
       "    <tr>\n",
       "      <th>F</th>\n",
       "      <td>6</td>\n",
       "      <td>14</td>\n",
       "      <td>0</td>\n",
       "      <td>4</td>\n",
       "      <td>31</td>\n",
       "      <td>2636</td>\n",
       "      <td>113</td>\n",
       "      <td>3</td>\n",
       "      <td>10</td>\n",
       "      <td>3</td>\n",
       "      <td>0</td>\n",
       "      <td>2820</td>\n",
       "    </tr>\n",
       "    <tr>\n",
       "      <th>G</th>\n",
       "      <td>5</td>\n",
       "      <td>1</td>\n",
       "      <td>2</td>\n",
       "      <td>0</td>\n",
       "      <td>4</td>\n",
       "      <td>14</td>\n",
       "      <td>1999</td>\n",
       "      <td>7</td>\n",
       "      <td>15</td>\n",
       "      <td>3</td>\n",
       "      <td>0</td>\n",
       "      <td>2050</td>\n",
       "    </tr>\n",
       "    <tr>\n",
       "      <th>H</th>\n",
       "      <td>0</td>\n",
       "      <td>0</td>\n",
       "      <td>0</td>\n",
       "      <td>1</td>\n",
       "      <td>0</td>\n",
       "      <td>0</td>\n",
       "      <td>10</td>\n",
       "      <td>579</td>\n",
       "      <td>6</td>\n",
       "      <td>0</td>\n",
       "      <td>0</td>\n",
       "      <td>596</td>\n",
       "    </tr>\n",
       "    <tr>\n",
       "      <th>L</th>\n",
       "      <td>1</td>\n",
       "      <td>1</td>\n",
       "      <td>1</td>\n",
       "      <td>0</td>\n",
       "      <td>0</td>\n",
       "      <td>1</td>\n",
       "      <td>0</td>\n",
       "      <td>1</td>\n",
       "      <td>0</td>\n",
       "      <td>0</td>\n",
       "      <td>1</td>\n",
       "      <td>6</td>\n",
       "    </tr>\n",
       "    <tr>\n",
       "      <th>All</th>\n",
       "      <td>46283</td>\n",
       "      <td>1811</td>\n",
       "      <td>2160</td>\n",
       "      <td>22419</td>\n",
       "      <td>7190</td>\n",
       "      <td>3627</td>\n",
       "      <td>2495</td>\n",
       "      <td>706</td>\n",
       "      <td>353</td>\n",
       "      <td>185</td>\n",
       "      <td>1</td>\n",
       "      <td>87230</td>\n",
       "    </tr>\n",
       "  </tbody>\n",
       "</table>\n",
       "</div>"
      ],
      "text/plain": [
       "assigned_room_type      A     B     C      D     E     F     G    H    I    K  \\\n",
       "reserved_room_type                                                              \n",
       "A                   45850   892  1253   6402  1034   390   176   94  205  140   \n",
       "B                     106   872     0      5     2     2     8    0    0    1   \n",
       "C                       5     2   866      6     4     2    10    9   10    0   \n",
       "D                     295    27    32  15979   657   199    82    9   67   29   \n",
       "E                      15     2     6     22  5458   383    97    4   40    9   \n",
       "F                       6    14     0      4    31  2636   113    3   10    3   \n",
       "G                       5     1     2      0     4    14  1999    7   15    3   \n",
       "H                       0     0     0      1     0     0    10  579    6    0   \n",
       "L                       1     1     1      0     0     1     0    1    0    0   \n",
       "All                 46283  1811  2160  22419  7190  3627  2495  706  353  185   \n",
       "\n",
       "assigned_room_type  L    All  \n",
       "reserved_room_type            \n",
       "A                   0  56436  \n",
       "B                   0    996  \n",
       "C                   0    914  \n",
       "D                   0  17376  \n",
       "E                   0   6036  \n",
       "F                   0   2820  \n",
       "G                   0   2050  \n",
       "H                   0    596  \n",
       "L                   1      6  \n",
       "All                 1  87230  "
      ]
     },
     "execution_count": 90,
     "metadata": {},
     "output_type": "execute_result"
    }
   ],
   "source": [
    "piv"
   ]
  },
  {
   "cell_type": "code",
   "execution_count": 94,
   "metadata": {},
   "outputs": [],
   "source": [
    "piv=pd.crosstab(index=data.reserved_room_type,columns=data.assigned_room_type,margins=True,normalize='index').round(2)*100"
   ]
  },
  {
   "cell_type": "code",
   "execution_count": 95,
   "metadata": {},
   "outputs": [
    {
     "data": {
      "text/html": [
       "<div>\n",
       "<style scoped>\n",
       "    .dataframe tbody tr th:only-of-type {\n",
       "        vertical-align: middle;\n",
       "    }\n",
       "\n",
       "    .dataframe tbody tr th {\n",
       "        vertical-align: top;\n",
       "    }\n",
       "\n",
       "    .dataframe thead th {\n",
       "        text-align: right;\n",
       "    }\n",
       "</style>\n",
       "<table border=\"1\" class=\"dataframe\">\n",
       "  <thead>\n",
       "    <tr style=\"text-align: right;\">\n",
       "      <th>assigned_room_type</th>\n",
       "      <th>A</th>\n",
       "      <th>B</th>\n",
       "      <th>C</th>\n",
       "      <th>D</th>\n",
       "      <th>E</th>\n",
       "      <th>F</th>\n",
       "      <th>G</th>\n",
       "      <th>H</th>\n",
       "      <th>I</th>\n",
       "      <th>K</th>\n",
       "      <th>L</th>\n",
       "    </tr>\n",
       "    <tr>\n",
       "      <th>reserved_room_type</th>\n",
       "      <th></th>\n",
       "      <th></th>\n",
       "      <th></th>\n",
       "      <th></th>\n",
       "      <th></th>\n",
       "      <th></th>\n",
       "      <th></th>\n",
       "      <th></th>\n",
       "      <th></th>\n",
       "      <th></th>\n",
       "      <th></th>\n",
       "    </tr>\n",
       "  </thead>\n",
       "  <tbody>\n",
       "    <tr>\n",
       "      <th>A</th>\n",
       "      <td>81.0</td>\n",
       "      <td>2.0</td>\n",
       "      <td>2.0</td>\n",
       "      <td>11.0</td>\n",
       "      <td>2.0</td>\n",
       "      <td>1.0</td>\n",
       "      <td>0.0</td>\n",
       "      <td>0.0</td>\n",
       "      <td>0.0</td>\n",
       "      <td>0.0</td>\n",
       "      <td>0.0</td>\n",
       "    </tr>\n",
       "    <tr>\n",
       "      <th>B</th>\n",
       "      <td>11.0</td>\n",
       "      <td>88.0</td>\n",
       "      <td>0.0</td>\n",
       "      <td>1.0</td>\n",
       "      <td>0.0</td>\n",
       "      <td>0.0</td>\n",
       "      <td>1.0</td>\n",
       "      <td>0.0</td>\n",
       "      <td>0.0</td>\n",
       "      <td>0.0</td>\n",
       "      <td>0.0</td>\n",
       "    </tr>\n",
       "    <tr>\n",
       "      <th>C</th>\n",
       "      <td>1.0</td>\n",
       "      <td>0.0</td>\n",
       "      <td>95.0</td>\n",
       "      <td>1.0</td>\n",
       "      <td>0.0</td>\n",
       "      <td>0.0</td>\n",
       "      <td>1.0</td>\n",
       "      <td>1.0</td>\n",
       "      <td>1.0</td>\n",
       "      <td>0.0</td>\n",
       "      <td>0.0</td>\n",
       "    </tr>\n",
       "    <tr>\n",
       "      <th>D</th>\n",
       "      <td>2.0</td>\n",
       "      <td>0.0</td>\n",
       "      <td>0.0</td>\n",
       "      <td>92.0</td>\n",
       "      <td>4.0</td>\n",
       "      <td>1.0</td>\n",
       "      <td>0.0</td>\n",
       "      <td>0.0</td>\n",
       "      <td>0.0</td>\n",
       "      <td>0.0</td>\n",
       "      <td>0.0</td>\n",
       "    </tr>\n",
       "    <tr>\n",
       "      <th>E</th>\n",
       "      <td>0.0</td>\n",
       "      <td>0.0</td>\n",
       "      <td>0.0</td>\n",
       "      <td>0.0</td>\n",
       "      <td>90.0</td>\n",
       "      <td>6.0</td>\n",
       "      <td>2.0</td>\n",
       "      <td>0.0</td>\n",
       "      <td>1.0</td>\n",
       "      <td>0.0</td>\n",
       "      <td>0.0</td>\n",
       "    </tr>\n",
       "    <tr>\n",
       "      <th>F</th>\n",
       "      <td>0.0</td>\n",
       "      <td>0.0</td>\n",
       "      <td>0.0</td>\n",
       "      <td>0.0</td>\n",
       "      <td>1.0</td>\n",
       "      <td>93.0</td>\n",
       "      <td>4.0</td>\n",
       "      <td>0.0</td>\n",
       "      <td>0.0</td>\n",
       "      <td>0.0</td>\n",
       "      <td>0.0</td>\n",
       "    </tr>\n",
       "    <tr>\n",
       "      <th>G</th>\n",
       "      <td>0.0</td>\n",
       "      <td>0.0</td>\n",
       "      <td>0.0</td>\n",
       "      <td>0.0</td>\n",
       "      <td>0.0</td>\n",
       "      <td>1.0</td>\n",
       "      <td>98.0</td>\n",
       "      <td>0.0</td>\n",
       "      <td>1.0</td>\n",
       "      <td>0.0</td>\n",
       "      <td>0.0</td>\n",
       "    </tr>\n",
       "    <tr>\n",
       "      <th>H</th>\n",
       "      <td>0.0</td>\n",
       "      <td>0.0</td>\n",
       "      <td>0.0</td>\n",
       "      <td>0.0</td>\n",
       "      <td>0.0</td>\n",
       "      <td>0.0</td>\n",
       "      <td>2.0</td>\n",
       "      <td>97.0</td>\n",
       "      <td>1.0</td>\n",
       "      <td>0.0</td>\n",
       "      <td>0.0</td>\n",
       "    </tr>\n",
       "    <tr>\n",
       "      <th>L</th>\n",
       "      <td>17.0</td>\n",
       "      <td>17.0</td>\n",
       "      <td>17.0</td>\n",
       "      <td>0.0</td>\n",
       "      <td>0.0</td>\n",
       "      <td>17.0</td>\n",
       "      <td>0.0</td>\n",
       "      <td>17.0</td>\n",
       "      <td>0.0</td>\n",
       "      <td>0.0</td>\n",
       "      <td>17.0</td>\n",
       "    </tr>\n",
       "    <tr>\n",
       "      <th>All</th>\n",
       "      <td>53.0</td>\n",
       "      <td>2.0</td>\n",
       "      <td>2.0</td>\n",
       "      <td>26.0</td>\n",
       "      <td>8.0</td>\n",
       "      <td>4.0</td>\n",
       "      <td>3.0</td>\n",
       "      <td>1.0</td>\n",
       "      <td>0.0</td>\n",
       "      <td>0.0</td>\n",
       "      <td>0.0</td>\n",
       "    </tr>\n",
       "  </tbody>\n",
       "</table>\n",
       "</div>"
      ],
      "text/plain": [
       "assigned_room_type     A     B     C     D     E     F     G     H    I    K  \\\n",
       "reserved_room_type                                                             \n",
       "A                   81.0   2.0   2.0  11.0   2.0   1.0   0.0   0.0  0.0  0.0   \n",
       "B                   11.0  88.0   0.0   1.0   0.0   0.0   1.0   0.0  0.0  0.0   \n",
       "C                    1.0   0.0  95.0   1.0   0.0   0.0   1.0   1.0  1.0  0.0   \n",
       "D                    2.0   0.0   0.0  92.0   4.0   1.0   0.0   0.0  0.0  0.0   \n",
       "E                    0.0   0.0   0.0   0.0  90.0   6.0   2.0   0.0  1.0  0.0   \n",
       "F                    0.0   0.0   0.0   0.0   1.0  93.0   4.0   0.0  0.0  0.0   \n",
       "G                    0.0   0.0   0.0   0.0   0.0   1.0  98.0   0.0  1.0  0.0   \n",
       "H                    0.0   0.0   0.0   0.0   0.0   0.0   2.0  97.0  1.0  0.0   \n",
       "L                   17.0  17.0  17.0   0.0   0.0  17.0   0.0  17.0  0.0  0.0   \n",
       "All                 53.0   2.0   2.0  26.0   8.0   4.0   3.0   1.0  0.0  0.0   \n",
       "\n",
       "assigned_room_type     L  \n",
       "reserved_room_type        \n",
       "A                    0.0  \n",
       "B                    0.0  \n",
       "C                    0.0  \n",
       "D                    0.0  \n",
       "E                    0.0  \n",
       "F                    0.0  \n",
       "G                    0.0  \n",
       "H                    0.0  \n",
       "L                   17.0  \n",
       "All                  0.0  "
      ]
     },
     "execution_count": 95,
     "metadata": {},
     "output_type": "execute_result"
    }
   ],
   "source": [
    "piv"
   ]
  },
  {
   "cell_type": "code",
   "execution_count": 103,
   "metadata": {},
   "outputs": [
    {
     "data": {
      "text/html": [
       "<style type=\"text/css\">\n",
       "#T_963f7_row0_col0, #T_963f7_row1_col1, #T_963f7_row2_col2, #T_963f7_row2_col8, #T_963f7_row3_col3, #T_963f7_row4_col4, #T_963f7_row4_col8, #T_963f7_row5_col5, #T_963f7_row6_col6, #T_963f7_row6_col8, #T_963f7_row7_col7, #T_963f7_row7_col8, #T_963f7_row8_col10 {\n",
       "  background-color: #fde725;\n",
       "  color: #000000;\n",
       "}\n",
       "#T_963f7_row0_col1, #T_963f7_row0_col2, #T_963f7_row0_col4, #T_963f7_row4_col6, #T_963f7_row7_col6, #T_963f7_row9_col1, #T_963f7_row9_col2 {\n",
       "  background-color: #46085c;\n",
       "  color: #f1f1f1;\n",
       "}\n",
       "#T_963f7_row0_col3 {\n",
       "  background-color: #472a7a;\n",
       "  color: #f1f1f1;\n",
       "}\n",
       "#T_963f7_row0_col5, #T_963f7_row1_col3, #T_963f7_row1_col6, #T_963f7_row2_col3, #T_963f7_row2_col6, #T_963f7_row2_col7, #T_963f7_row3_col5, #T_963f7_row5_col4, #T_963f7_row6_col5, #T_963f7_row9_col7 {\n",
       "  background-color: #450457;\n",
       "  color: #f1f1f1;\n",
       "}\n",
       "#T_963f7_row0_col6, #T_963f7_row0_col7, #T_963f7_row0_col8, #T_963f7_row0_col9, #T_963f7_row0_col10, #T_963f7_row1_col2, #T_963f7_row1_col4, #T_963f7_row1_col5, #T_963f7_row1_col7, #T_963f7_row1_col8, #T_963f7_row1_col9, #T_963f7_row1_col10, #T_963f7_row2_col1, #T_963f7_row2_col4, #T_963f7_row2_col5, #T_963f7_row2_col9, #T_963f7_row2_col10, #T_963f7_row3_col1, #T_963f7_row3_col2, #T_963f7_row3_col6, #T_963f7_row3_col7, #T_963f7_row3_col8, #T_963f7_row3_col9, #T_963f7_row3_col10, #T_963f7_row4_col0, #T_963f7_row4_col1, #T_963f7_row4_col2, #T_963f7_row4_col3, #T_963f7_row4_col7, #T_963f7_row4_col9, #T_963f7_row4_col10, #T_963f7_row5_col0, #T_963f7_row5_col1, #T_963f7_row5_col2, #T_963f7_row5_col3, #T_963f7_row5_col7, #T_963f7_row5_col8, #T_963f7_row5_col9, #T_963f7_row5_col10, #T_963f7_row6_col0, #T_963f7_row6_col1, #T_963f7_row6_col2, #T_963f7_row6_col3, #T_963f7_row6_col4, #T_963f7_row6_col7, #T_963f7_row6_col9, #T_963f7_row6_col10, #T_963f7_row7_col0, #T_963f7_row7_col1, #T_963f7_row7_col2, #T_963f7_row7_col3, #T_963f7_row7_col4, #T_963f7_row7_col5, #T_963f7_row7_col9, #T_963f7_row7_col10, #T_963f7_row8_col3, #T_963f7_row8_col4, #T_963f7_row8_col6, #T_963f7_row8_col8, #T_963f7_row8_col9, #T_963f7_row9_col8, #T_963f7_row9_col9, #T_963f7_row9_col10 {\n",
       "  background-color: #440154;\n",
       "  color: #f1f1f1;\n",
       "}\n",
       "#T_963f7_row1_col0 {\n",
       "  background-color: #472f7d;\n",
       "  color: #f1f1f1;\n",
       "}\n",
       "#T_963f7_row2_col0 {\n",
       "  background-color: #450559;\n",
       "  color: #f1f1f1;\n",
       "}\n",
       "#T_963f7_row3_col0 {\n",
       "  background-color: #460a5d;\n",
       "  color: #f1f1f1;\n",
       "}\n",
       "#T_963f7_row3_col4, #T_963f7_row9_col5 {\n",
       "  background-color: #471164;\n",
       "  color: #f1f1f1;\n",
       "}\n",
       "#T_963f7_row4_col5 {\n",
       "  background-color: #48186a;\n",
       "  color: #f1f1f1;\n",
       "}\n",
       "#T_963f7_row5_col6 {\n",
       "  background-color: #471063;\n",
       "  color: #f1f1f1;\n",
       "}\n",
       "#T_963f7_row8_col0 {\n",
       "  background-color: #404688;\n",
       "  color: #f1f1f1;\n",
       "}\n",
       "#T_963f7_row8_col1 {\n",
       "  background-color: #424186;\n",
       "  color: #f1f1f1;\n",
       "}\n",
       "#T_963f7_row8_col2 {\n",
       "  background-color: #433d84;\n",
       "  color: #f1f1f1;\n",
       "}\n",
       "#T_963f7_row8_col5 {\n",
       "  background-color: #433e85;\n",
       "  color: #f1f1f1;\n",
       "}\n",
       "#T_963f7_row8_col7 {\n",
       "  background-color: #443b84;\n",
       "  color: #f1f1f1;\n",
       "}\n",
       "#T_963f7_row9_col0 {\n",
       "  background-color: #31b57b;\n",
       "  color: #f1f1f1;\n",
       "}\n",
       "#T_963f7_row9_col3 {\n",
       "  background-color: #375b8d;\n",
       "  color: #f1f1f1;\n",
       "}\n",
       "#T_963f7_row9_col4 {\n",
       "  background-color: #482071;\n",
       "  color: #f1f1f1;\n",
       "}\n",
       "#T_963f7_row9_col6 {\n",
       "  background-color: #460b5e;\n",
       "  color: #f1f1f1;\n",
       "}\n",
       "</style>\n",
       "<table id=\"T_963f7\">\n",
       "  <thead>\n",
       "    <tr>\n",
       "      <th class=\"index_name level0\" >assigned_room_type</th>\n",
       "      <th id=\"T_963f7_level0_col0\" class=\"col_heading level0 col0\" >A</th>\n",
       "      <th id=\"T_963f7_level0_col1\" class=\"col_heading level0 col1\" >B</th>\n",
       "      <th id=\"T_963f7_level0_col2\" class=\"col_heading level0 col2\" >C</th>\n",
       "      <th id=\"T_963f7_level0_col3\" class=\"col_heading level0 col3\" >D</th>\n",
       "      <th id=\"T_963f7_level0_col4\" class=\"col_heading level0 col4\" >E</th>\n",
       "      <th id=\"T_963f7_level0_col5\" class=\"col_heading level0 col5\" >F</th>\n",
       "      <th id=\"T_963f7_level0_col6\" class=\"col_heading level0 col6\" >G</th>\n",
       "      <th id=\"T_963f7_level0_col7\" class=\"col_heading level0 col7\" >H</th>\n",
       "      <th id=\"T_963f7_level0_col8\" class=\"col_heading level0 col8\" >I</th>\n",
       "      <th id=\"T_963f7_level0_col9\" class=\"col_heading level0 col9\" >K</th>\n",
       "      <th id=\"T_963f7_level0_col10\" class=\"col_heading level0 col10\" >L</th>\n",
       "    </tr>\n",
       "    <tr>\n",
       "      <th class=\"index_name level0\" >reserved_room_type</th>\n",
       "      <th class=\"blank col0\" >&nbsp;</th>\n",
       "      <th class=\"blank col1\" >&nbsp;</th>\n",
       "      <th class=\"blank col2\" >&nbsp;</th>\n",
       "      <th class=\"blank col3\" >&nbsp;</th>\n",
       "      <th class=\"blank col4\" >&nbsp;</th>\n",
       "      <th class=\"blank col5\" >&nbsp;</th>\n",
       "      <th class=\"blank col6\" >&nbsp;</th>\n",
       "      <th class=\"blank col7\" >&nbsp;</th>\n",
       "      <th class=\"blank col8\" >&nbsp;</th>\n",
       "      <th class=\"blank col9\" >&nbsp;</th>\n",
       "      <th class=\"blank col10\" >&nbsp;</th>\n",
       "    </tr>\n",
       "  </thead>\n",
       "  <tbody>\n",
       "    <tr>\n",
       "      <th id=\"T_963f7_level0_row0\" class=\"row_heading level0 row0\" >A</th>\n",
       "      <td id=\"T_963f7_row0_col0\" class=\"data row0 col0\" >81.000000</td>\n",
       "      <td id=\"T_963f7_row0_col1\" class=\"data row0 col1\" >2.000000</td>\n",
       "      <td id=\"T_963f7_row0_col2\" class=\"data row0 col2\" >2.000000</td>\n",
       "      <td id=\"T_963f7_row0_col3\" class=\"data row0 col3\" >11.000000</td>\n",
       "      <td id=\"T_963f7_row0_col4\" class=\"data row0 col4\" >2.000000</td>\n",
       "      <td id=\"T_963f7_row0_col5\" class=\"data row0 col5\" >1.000000</td>\n",
       "      <td id=\"T_963f7_row0_col6\" class=\"data row0 col6\" >0.000000</td>\n",
       "      <td id=\"T_963f7_row0_col7\" class=\"data row0 col7\" >0.000000</td>\n",
       "      <td id=\"T_963f7_row0_col8\" class=\"data row0 col8\" >0.000000</td>\n",
       "      <td id=\"T_963f7_row0_col9\" class=\"data row0 col9\" >0.000000</td>\n",
       "      <td id=\"T_963f7_row0_col10\" class=\"data row0 col10\" >0.000000</td>\n",
       "    </tr>\n",
       "    <tr>\n",
       "      <th id=\"T_963f7_level0_row1\" class=\"row_heading level0 row1\" >B</th>\n",
       "      <td id=\"T_963f7_row1_col0\" class=\"data row1 col0\" >11.000000</td>\n",
       "      <td id=\"T_963f7_row1_col1\" class=\"data row1 col1\" >88.000000</td>\n",
       "      <td id=\"T_963f7_row1_col2\" class=\"data row1 col2\" >0.000000</td>\n",
       "      <td id=\"T_963f7_row1_col3\" class=\"data row1 col3\" >1.000000</td>\n",
       "      <td id=\"T_963f7_row1_col4\" class=\"data row1 col4\" >0.000000</td>\n",
       "      <td id=\"T_963f7_row1_col5\" class=\"data row1 col5\" >0.000000</td>\n",
       "      <td id=\"T_963f7_row1_col6\" class=\"data row1 col6\" >1.000000</td>\n",
       "      <td id=\"T_963f7_row1_col7\" class=\"data row1 col7\" >0.000000</td>\n",
       "      <td id=\"T_963f7_row1_col8\" class=\"data row1 col8\" >0.000000</td>\n",
       "      <td id=\"T_963f7_row1_col9\" class=\"data row1 col9\" >0.000000</td>\n",
       "      <td id=\"T_963f7_row1_col10\" class=\"data row1 col10\" >0.000000</td>\n",
       "    </tr>\n",
       "    <tr>\n",
       "      <th id=\"T_963f7_level0_row2\" class=\"row_heading level0 row2\" >C</th>\n",
       "      <td id=\"T_963f7_row2_col0\" class=\"data row2 col0\" >1.000000</td>\n",
       "      <td id=\"T_963f7_row2_col1\" class=\"data row2 col1\" >0.000000</td>\n",
       "      <td id=\"T_963f7_row2_col2\" class=\"data row2 col2\" >95.000000</td>\n",
       "      <td id=\"T_963f7_row2_col3\" class=\"data row2 col3\" >1.000000</td>\n",
       "      <td id=\"T_963f7_row2_col4\" class=\"data row2 col4\" >0.000000</td>\n",
       "      <td id=\"T_963f7_row2_col5\" class=\"data row2 col5\" >0.000000</td>\n",
       "      <td id=\"T_963f7_row2_col6\" class=\"data row2 col6\" >1.000000</td>\n",
       "      <td id=\"T_963f7_row2_col7\" class=\"data row2 col7\" >1.000000</td>\n",
       "      <td id=\"T_963f7_row2_col8\" class=\"data row2 col8\" >1.000000</td>\n",
       "      <td id=\"T_963f7_row2_col9\" class=\"data row2 col9\" >0.000000</td>\n",
       "      <td id=\"T_963f7_row2_col10\" class=\"data row2 col10\" >0.000000</td>\n",
       "    </tr>\n",
       "    <tr>\n",
       "      <th id=\"T_963f7_level0_row3\" class=\"row_heading level0 row3\" >D</th>\n",
       "      <td id=\"T_963f7_row3_col0\" class=\"data row3 col0\" >2.000000</td>\n",
       "      <td id=\"T_963f7_row3_col1\" class=\"data row3 col1\" >0.000000</td>\n",
       "      <td id=\"T_963f7_row3_col2\" class=\"data row3 col2\" >0.000000</td>\n",
       "      <td id=\"T_963f7_row3_col3\" class=\"data row3 col3\" >92.000000</td>\n",
       "      <td id=\"T_963f7_row3_col4\" class=\"data row3 col4\" >4.000000</td>\n",
       "      <td id=\"T_963f7_row3_col5\" class=\"data row3 col5\" >1.000000</td>\n",
       "      <td id=\"T_963f7_row3_col6\" class=\"data row3 col6\" >0.000000</td>\n",
       "      <td id=\"T_963f7_row3_col7\" class=\"data row3 col7\" >0.000000</td>\n",
       "      <td id=\"T_963f7_row3_col8\" class=\"data row3 col8\" >0.000000</td>\n",
       "      <td id=\"T_963f7_row3_col9\" class=\"data row3 col9\" >0.000000</td>\n",
       "      <td id=\"T_963f7_row3_col10\" class=\"data row3 col10\" >0.000000</td>\n",
       "    </tr>\n",
       "    <tr>\n",
       "      <th id=\"T_963f7_level0_row4\" class=\"row_heading level0 row4\" >E</th>\n",
       "      <td id=\"T_963f7_row4_col0\" class=\"data row4 col0\" >0.000000</td>\n",
       "      <td id=\"T_963f7_row4_col1\" class=\"data row4 col1\" >0.000000</td>\n",
       "      <td id=\"T_963f7_row4_col2\" class=\"data row4 col2\" >0.000000</td>\n",
       "      <td id=\"T_963f7_row4_col3\" class=\"data row4 col3\" >0.000000</td>\n",
       "      <td id=\"T_963f7_row4_col4\" class=\"data row4 col4\" >90.000000</td>\n",
       "      <td id=\"T_963f7_row4_col5\" class=\"data row4 col5\" >6.000000</td>\n",
       "      <td id=\"T_963f7_row4_col6\" class=\"data row4 col6\" >2.000000</td>\n",
       "      <td id=\"T_963f7_row4_col7\" class=\"data row4 col7\" >0.000000</td>\n",
       "      <td id=\"T_963f7_row4_col8\" class=\"data row4 col8\" >1.000000</td>\n",
       "      <td id=\"T_963f7_row4_col9\" class=\"data row4 col9\" >0.000000</td>\n",
       "      <td id=\"T_963f7_row4_col10\" class=\"data row4 col10\" >0.000000</td>\n",
       "    </tr>\n",
       "    <tr>\n",
       "      <th id=\"T_963f7_level0_row5\" class=\"row_heading level0 row5\" >F</th>\n",
       "      <td id=\"T_963f7_row5_col0\" class=\"data row5 col0\" >0.000000</td>\n",
       "      <td id=\"T_963f7_row5_col1\" class=\"data row5 col1\" >0.000000</td>\n",
       "      <td id=\"T_963f7_row5_col2\" class=\"data row5 col2\" >0.000000</td>\n",
       "      <td id=\"T_963f7_row5_col3\" class=\"data row5 col3\" >0.000000</td>\n",
       "      <td id=\"T_963f7_row5_col4\" class=\"data row5 col4\" >1.000000</td>\n",
       "      <td id=\"T_963f7_row5_col5\" class=\"data row5 col5\" >93.000000</td>\n",
       "      <td id=\"T_963f7_row5_col6\" class=\"data row5 col6\" >4.000000</td>\n",
       "      <td id=\"T_963f7_row5_col7\" class=\"data row5 col7\" >0.000000</td>\n",
       "      <td id=\"T_963f7_row5_col8\" class=\"data row5 col8\" >0.000000</td>\n",
       "      <td id=\"T_963f7_row5_col9\" class=\"data row5 col9\" >0.000000</td>\n",
       "      <td id=\"T_963f7_row5_col10\" class=\"data row5 col10\" >0.000000</td>\n",
       "    </tr>\n",
       "    <tr>\n",
       "      <th id=\"T_963f7_level0_row6\" class=\"row_heading level0 row6\" >G</th>\n",
       "      <td id=\"T_963f7_row6_col0\" class=\"data row6 col0\" >0.000000</td>\n",
       "      <td id=\"T_963f7_row6_col1\" class=\"data row6 col1\" >0.000000</td>\n",
       "      <td id=\"T_963f7_row6_col2\" class=\"data row6 col2\" >0.000000</td>\n",
       "      <td id=\"T_963f7_row6_col3\" class=\"data row6 col3\" >0.000000</td>\n",
       "      <td id=\"T_963f7_row6_col4\" class=\"data row6 col4\" >0.000000</td>\n",
       "      <td id=\"T_963f7_row6_col5\" class=\"data row6 col5\" >1.000000</td>\n",
       "      <td id=\"T_963f7_row6_col6\" class=\"data row6 col6\" >98.000000</td>\n",
       "      <td id=\"T_963f7_row6_col7\" class=\"data row6 col7\" >0.000000</td>\n",
       "      <td id=\"T_963f7_row6_col8\" class=\"data row6 col8\" >1.000000</td>\n",
       "      <td id=\"T_963f7_row6_col9\" class=\"data row6 col9\" >0.000000</td>\n",
       "      <td id=\"T_963f7_row6_col10\" class=\"data row6 col10\" >0.000000</td>\n",
       "    </tr>\n",
       "    <tr>\n",
       "      <th id=\"T_963f7_level0_row7\" class=\"row_heading level0 row7\" >H</th>\n",
       "      <td id=\"T_963f7_row7_col0\" class=\"data row7 col0\" >0.000000</td>\n",
       "      <td id=\"T_963f7_row7_col1\" class=\"data row7 col1\" >0.000000</td>\n",
       "      <td id=\"T_963f7_row7_col2\" class=\"data row7 col2\" >0.000000</td>\n",
       "      <td id=\"T_963f7_row7_col3\" class=\"data row7 col3\" >0.000000</td>\n",
       "      <td id=\"T_963f7_row7_col4\" class=\"data row7 col4\" >0.000000</td>\n",
       "      <td id=\"T_963f7_row7_col5\" class=\"data row7 col5\" >0.000000</td>\n",
       "      <td id=\"T_963f7_row7_col6\" class=\"data row7 col6\" >2.000000</td>\n",
       "      <td id=\"T_963f7_row7_col7\" class=\"data row7 col7\" >97.000000</td>\n",
       "      <td id=\"T_963f7_row7_col8\" class=\"data row7 col8\" >1.000000</td>\n",
       "      <td id=\"T_963f7_row7_col9\" class=\"data row7 col9\" >0.000000</td>\n",
       "      <td id=\"T_963f7_row7_col10\" class=\"data row7 col10\" >0.000000</td>\n",
       "    </tr>\n",
       "    <tr>\n",
       "      <th id=\"T_963f7_level0_row8\" class=\"row_heading level0 row8\" >L</th>\n",
       "      <td id=\"T_963f7_row8_col0\" class=\"data row8 col0\" >17.000000</td>\n",
       "      <td id=\"T_963f7_row8_col1\" class=\"data row8 col1\" >17.000000</td>\n",
       "      <td id=\"T_963f7_row8_col2\" class=\"data row8 col2\" >17.000000</td>\n",
       "      <td id=\"T_963f7_row8_col3\" class=\"data row8 col3\" >0.000000</td>\n",
       "      <td id=\"T_963f7_row8_col4\" class=\"data row8 col4\" >0.000000</td>\n",
       "      <td id=\"T_963f7_row8_col5\" class=\"data row8 col5\" >17.000000</td>\n",
       "      <td id=\"T_963f7_row8_col6\" class=\"data row8 col6\" >0.000000</td>\n",
       "      <td id=\"T_963f7_row8_col7\" class=\"data row8 col7\" >17.000000</td>\n",
       "      <td id=\"T_963f7_row8_col8\" class=\"data row8 col8\" >0.000000</td>\n",
       "      <td id=\"T_963f7_row8_col9\" class=\"data row8 col9\" >0.000000</td>\n",
       "      <td id=\"T_963f7_row8_col10\" class=\"data row8 col10\" >17.000000</td>\n",
       "    </tr>\n",
       "    <tr>\n",
       "      <th id=\"T_963f7_level0_row9\" class=\"row_heading level0 row9\" >All</th>\n",
       "      <td id=\"T_963f7_row9_col0\" class=\"data row9 col0\" >53.000000</td>\n",
       "      <td id=\"T_963f7_row9_col1\" class=\"data row9 col1\" >2.000000</td>\n",
       "      <td id=\"T_963f7_row9_col2\" class=\"data row9 col2\" >2.000000</td>\n",
       "      <td id=\"T_963f7_row9_col3\" class=\"data row9 col3\" >26.000000</td>\n",
       "      <td id=\"T_963f7_row9_col4\" class=\"data row9 col4\" >8.000000</td>\n",
       "      <td id=\"T_963f7_row9_col5\" class=\"data row9 col5\" >4.000000</td>\n",
       "      <td id=\"T_963f7_row9_col6\" class=\"data row9 col6\" >3.000000</td>\n",
       "      <td id=\"T_963f7_row9_col7\" class=\"data row9 col7\" >1.000000</td>\n",
       "      <td id=\"T_963f7_row9_col8\" class=\"data row9 col8\" >0.000000</td>\n",
       "      <td id=\"T_963f7_row9_col9\" class=\"data row9 col9\" >0.000000</td>\n",
       "      <td id=\"T_963f7_row9_col10\" class=\"data row9 col10\" >0.000000</td>\n",
       "    </tr>\n",
       "  </tbody>\n",
       "</table>\n"
      ],
      "text/plain": [
       "<pandas.io.formats.style.Styler at 0x21abc1aab30>"
      ]
     },
     "execution_count": 103,
     "metadata": {},
     "output_type": "execute_result"
    }
   ],
   "source": [
    "# cm = sns.light_palette(\"red\", as_cmap=True)\n",
    "\n",
    "s = piv.style.background_gradient(cmap='viridis')\n",
    "s"
   ]
  },
  {
   "cell_type": "markdown",
   "metadata": {},
   "source": [
    "__Which Market segment has higest bookings__"
   ]
  },
  {
   "cell_type": "code",
   "execution_count": 106,
   "metadata": {},
   "outputs": [
    {
     "data": {
      "text/plain": [
       "market_segment\n",
       "Online TA        51553\n",
       "Offline TA/TO    13855\n",
       "Direct           11780\n",
       "Groups            4922\n",
       "Corporate         4200\n",
       "Complementary      692\n",
       "Aviation           226\n",
       "Undefined            2\n",
       "Name: count, dtype: int64"
      ]
     },
     "execution_count": 106,
     "metadata": {},
     "output_type": "execute_result"
    }
   ],
   "source": [
    "data.market_segment.value_counts()"
   ]
  },
  {
   "cell_type": "code",
   "execution_count": 111,
   "metadata": {},
   "outputs": [],
   "source": [
    "val=data.market_segment.value_counts().values"
   ]
  },
  {
   "cell_type": "code",
   "execution_count": 113,
   "metadata": {},
   "outputs": [],
   "source": [
    "ind=data.market_segment.value_counts().index"
   ]
  },
  {
   "cell_type": "code",
   "execution_count": 115,
   "metadata": {},
   "outputs": [
    {
     "data": {
      "application/vnd.plotly.v1+json": {
       "config": {
        "plotlyServerURL": "https://plot.ly"
       },
       "data": [
        {
         "domain": {
          "x": [
           0,
           1
          ],
          "y": [
           0,
           1
          ]
         },
         "hovertemplate": "label=%{label}<br>value=%{value}<extra></extra>",
         "labels": [
          "Online TA",
          "Offline TA/TO",
          "Direct",
          "Groups",
          "Corporate",
          "Complementary",
          "Aviation",
          "Undefined"
         ],
         "legendgroup": "",
         "name": "",
         "showlegend": true,
         "type": "pie",
         "values": [
          51553,
          13855,
          11780,
          4922,
          4200,
          692,
          226,
          2
         ]
        }
       ],
       "layout": {
        "legend": {
         "tracegroupgap": 0
        },
        "margin": {
         "t": 60
        },
        "template": {
         "data": {
          "bar": [
           {
            "error_x": {
             "color": "#2a3f5f"
            },
            "error_y": {
             "color": "#2a3f5f"
            },
            "marker": {
             "line": {
              "color": "#E5ECF6",
              "width": 0.5
             },
             "pattern": {
              "fillmode": "overlay",
              "size": 10,
              "solidity": 0.2
             }
            },
            "type": "bar"
           }
          ],
          "barpolar": [
           {
            "marker": {
             "line": {
              "color": "#E5ECF6",
              "width": 0.5
             },
             "pattern": {
              "fillmode": "overlay",
              "size": 10,
              "solidity": 0.2
             }
            },
            "type": "barpolar"
           }
          ],
          "carpet": [
           {
            "aaxis": {
             "endlinecolor": "#2a3f5f",
             "gridcolor": "white",
             "linecolor": "white",
             "minorgridcolor": "white",
             "startlinecolor": "#2a3f5f"
            },
            "baxis": {
             "endlinecolor": "#2a3f5f",
             "gridcolor": "white",
             "linecolor": "white",
             "minorgridcolor": "white",
             "startlinecolor": "#2a3f5f"
            },
            "type": "carpet"
           }
          ],
          "choropleth": [
           {
            "colorbar": {
             "outlinewidth": 0,
             "ticks": ""
            },
            "type": "choropleth"
           }
          ],
          "contour": [
           {
            "colorbar": {
             "outlinewidth": 0,
             "ticks": ""
            },
            "colorscale": [
             [
              0,
              "#0d0887"
             ],
             [
              0.1111111111111111,
              "#46039f"
             ],
             [
              0.2222222222222222,
              "#7201a8"
             ],
             [
              0.3333333333333333,
              "#9c179e"
             ],
             [
              0.4444444444444444,
              "#bd3786"
             ],
             [
              0.5555555555555556,
              "#d8576b"
             ],
             [
              0.6666666666666666,
              "#ed7953"
             ],
             [
              0.7777777777777778,
              "#fb9f3a"
             ],
             [
              0.8888888888888888,
              "#fdca26"
             ],
             [
              1,
              "#f0f921"
             ]
            ],
            "type": "contour"
           }
          ],
          "contourcarpet": [
           {
            "colorbar": {
             "outlinewidth": 0,
             "ticks": ""
            },
            "type": "contourcarpet"
           }
          ],
          "heatmap": [
           {
            "colorbar": {
             "outlinewidth": 0,
             "ticks": ""
            },
            "colorscale": [
             [
              0,
              "#0d0887"
             ],
             [
              0.1111111111111111,
              "#46039f"
             ],
             [
              0.2222222222222222,
              "#7201a8"
             ],
             [
              0.3333333333333333,
              "#9c179e"
             ],
             [
              0.4444444444444444,
              "#bd3786"
             ],
             [
              0.5555555555555556,
              "#d8576b"
             ],
             [
              0.6666666666666666,
              "#ed7953"
             ],
             [
              0.7777777777777778,
              "#fb9f3a"
             ],
             [
              0.8888888888888888,
              "#fdca26"
             ],
             [
              1,
              "#f0f921"
             ]
            ],
            "type": "heatmap"
           }
          ],
          "heatmapgl": [
           {
            "colorbar": {
             "outlinewidth": 0,
             "ticks": ""
            },
            "colorscale": [
             [
              0,
              "#0d0887"
             ],
             [
              0.1111111111111111,
              "#46039f"
             ],
             [
              0.2222222222222222,
              "#7201a8"
             ],
             [
              0.3333333333333333,
              "#9c179e"
             ],
             [
              0.4444444444444444,
              "#bd3786"
             ],
             [
              0.5555555555555556,
              "#d8576b"
             ],
             [
              0.6666666666666666,
              "#ed7953"
             ],
             [
              0.7777777777777778,
              "#fb9f3a"
             ],
             [
              0.8888888888888888,
              "#fdca26"
             ],
             [
              1,
              "#f0f921"
             ]
            ],
            "type": "heatmapgl"
           }
          ],
          "histogram": [
           {
            "marker": {
             "pattern": {
              "fillmode": "overlay",
              "size": 10,
              "solidity": 0.2
             }
            },
            "type": "histogram"
           }
          ],
          "histogram2d": [
           {
            "colorbar": {
             "outlinewidth": 0,
             "ticks": ""
            },
            "colorscale": [
             [
              0,
              "#0d0887"
             ],
             [
              0.1111111111111111,
              "#46039f"
             ],
             [
              0.2222222222222222,
              "#7201a8"
             ],
             [
              0.3333333333333333,
              "#9c179e"
             ],
             [
              0.4444444444444444,
              "#bd3786"
             ],
             [
              0.5555555555555556,
              "#d8576b"
             ],
             [
              0.6666666666666666,
              "#ed7953"
             ],
             [
              0.7777777777777778,
              "#fb9f3a"
             ],
             [
              0.8888888888888888,
              "#fdca26"
             ],
             [
              1,
              "#f0f921"
             ]
            ],
            "type": "histogram2d"
           }
          ],
          "histogram2dcontour": [
           {
            "colorbar": {
             "outlinewidth": 0,
             "ticks": ""
            },
            "colorscale": [
             [
              0,
              "#0d0887"
             ],
             [
              0.1111111111111111,
              "#46039f"
             ],
             [
              0.2222222222222222,
              "#7201a8"
             ],
             [
              0.3333333333333333,
              "#9c179e"
             ],
             [
              0.4444444444444444,
              "#bd3786"
             ],
             [
              0.5555555555555556,
              "#d8576b"
             ],
             [
              0.6666666666666666,
              "#ed7953"
             ],
             [
              0.7777777777777778,
              "#fb9f3a"
             ],
             [
              0.8888888888888888,
              "#fdca26"
             ],
             [
              1,
              "#f0f921"
             ]
            ],
            "type": "histogram2dcontour"
           }
          ],
          "mesh3d": [
           {
            "colorbar": {
             "outlinewidth": 0,
             "ticks": ""
            },
            "type": "mesh3d"
           }
          ],
          "parcoords": [
           {
            "line": {
             "colorbar": {
              "outlinewidth": 0,
              "ticks": ""
             }
            },
            "type": "parcoords"
           }
          ],
          "pie": [
           {
            "automargin": true,
            "type": "pie"
           }
          ],
          "scatter": [
           {
            "fillpattern": {
             "fillmode": "overlay",
             "size": 10,
             "solidity": 0.2
            },
            "type": "scatter"
           }
          ],
          "scatter3d": [
           {
            "line": {
             "colorbar": {
              "outlinewidth": 0,
              "ticks": ""
             }
            },
            "marker": {
             "colorbar": {
              "outlinewidth": 0,
              "ticks": ""
             }
            },
            "type": "scatter3d"
           }
          ],
          "scattercarpet": [
           {
            "marker": {
             "colorbar": {
              "outlinewidth": 0,
              "ticks": ""
             }
            },
            "type": "scattercarpet"
           }
          ],
          "scattergeo": [
           {
            "marker": {
             "colorbar": {
              "outlinewidth": 0,
              "ticks": ""
             }
            },
            "type": "scattergeo"
           }
          ],
          "scattergl": [
           {
            "marker": {
             "colorbar": {
              "outlinewidth": 0,
              "ticks": ""
             }
            },
            "type": "scattergl"
           }
          ],
          "scattermapbox": [
           {
            "marker": {
             "colorbar": {
              "outlinewidth": 0,
              "ticks": ""
             }
            },
            "type": "scattermapbox"
           }
          ],
          "scatterpolar": [
           {
            "marker": {
             "colorbar": {
              "outlinewidth": 0,
              "ticks": ""
             }
            },
            "type": "scatterpolar"
           }
          ],
          "scatterpolargl": [
           {
            "marker": {
             "colorbar": {
              "outlinewidth": 0,
              "ticks": ""
             }
            },
            "type": "scatterpolargl"
           }
          ],
          "scatterternary": [
           {
            "marker": {
             "colorbar": {
              "outlinewidth": 0,
              "ticks": ""
             }
            },
            "type": "scatterternary"
           }
          ],
          "surface": [
           {
            "colorbar": {
             "outlinewidth": 0,
             "ticks": ""
            },
            "colorscale": [
             [
              0,
              "#0d0887"
             ],
             [
              0.1111111111111111,
              "#46039f"
             ],
             [
              0.2222222222222222,
              "#7201a8"
             ],
             [
              0.3333333333333333,
              "#9c179e"
             ],
             [
              0.4444444444444444,
              "#bd3786"
             ],
             [
              0.5555555555555556,
              "#d8576b"
             ],
             [
              0.6666666666666666,
              "#ed7953"
             ],
             [
              0.7777777777777778,
              "#fb9f3a"
             ],
             [
              0.8888888888888888,
              "#fdca26"
             ],
             [
              1,
              "#f0f921"
             ]
            ],
            "type": "surface"
           }
          ],
          "table": [
           {
            "cells": {
             "fill": {
              "color": "#EBF0F8"
             },
             "line": {
              "color": "white"
             }
            },
            "header": {
             "fill": {
              "color": "#C8D4E3"
             },
             "line": {
              "color": "white"
             }
            },
            "type": "table"
           }
          ]
         },
         "layout": {
          "annotationdefaults": {
           "arrowcolor": "#2a3f5f",
           "arrowhead": 0,
           "arrowwidth": 1
          },
          "autotypenumbers": "strict",
          "coloraxis": {
           "colorbar": {
            "outlinewidth": 0,
            "ticks": ""
           }
          },
          "colorscale": {
           "diverging": [
            [
             0,
             "#8e0152"
            ],
            [
             0.1,
             "#c51b7d"
            ],
            [
             0.2,
             "#de77ae"
            ],
            [
             0.3,
             "#f1b6da"
            ],
            [
             0.4,
             "#fde0ef"
            ],
            [
             0.5,
             "#f7f7f7"
            ],
            [
             0.6,
             "#e6f5d0"
            ],
            [
             0.7,
             "#b8e186"
            ],
            [
             0.8,
             "#7fbc41"
            ],
            [
             0.9,
             "#4d9221"
            ],
            [
             1,
             "#276419"
            ]
           ],
           "sequential": [
            [
             0,
             "#0d0887"
            ],
            [
             0.1111111111111111,
             "#46039f"
            ],
            [
             0.2222222222222222,
             "#7201a8"
            ],
            [
             0.3333333333333333,
             "#9c179e"
            ],
            [
             0.4444444444444444,
             "#bd3786"
            ],
            [
             0.5555555555555556,
             "#d8576b"
            ],
            [
             0.6666666666666666,
             "#ed7953"
            ],
            [
             0.7777777777777778,
             "#fb9f3a"
            ],
            [
             0.8888888888888888,
             "#fdca26"
            ],
            [
             1,
             "#f0f921"
            ]
           ],
           "sequentialminus": [
            [
             0,
             "#0d0887"
            ],
            [
             0.1111111111111111,
             "#46039f"
            ],
            [
             0.2222222222222222,
             "#7201a8"
            ],
            [
             0.3333333333333333,
             "#9c179e"
            ],
            [
             0.4444444444444444,
             "#bd3786"
            ],
            [
             0.5555555555555556,
             "#d8576b"
            ],
            [
             0.6666666666666666,
             "#ed7953"
            ],
            [
             0.7777777777777778,
             "#fb9f3a"
            ],
            [
             0.8888888888888888,
             "#fdca26"
            ],
            [
             1,
             "#f0f921"
            ]
           ]
          },
          "colorway": [
           "#636efa",
           "#EF553B",
           "#00cc96",
           "#ab63fa",
           "#FFA15A",
           "#19d3f3",
           "#FF6692",
           "#B6E880",
           "#FF97FF",
           "#FECB52"
          ],
          "font": {
           "color": "#2a3f5f"
          },
          "geo": {
           "bgcolor": "white",
           "lakecolor": "white",
           "landcolor": "#E5ECF6",
           "showlakes": true,
           "showland": true,
           "subunitcolor": "white"
          },
          "hoverlabel": {
           "align": "left"
          },
          "hovermode": "closest",
          "mapbox": {
           "style": "light"
          },
          "paper_bgcolor": "white",
          "plot_bgcolor": "#E5ECF6",
          "polar": {
           "angularaxis": {
            "gridcolor": "white",
            "linecolor": "white",
            "ticks": ""
           },
           "bgcolor": "#E5ECF6",
           "radialaxis": {
            "gridcolor": "white",
            "linecolor": "white",
            "ticks": ""
           }
          },
          "scene": {
           "xaxis": {
            "backgroundcolor": "#E5ECF6",
            "gridcolor": "white",
            "gridwidth": 2,
            "linecolor": "white",
            "showbackground": true,
            "ticks": "",
            "zerolinecolor": "white"
           },
           "yaxis": {
            "backgroundcolor": "#E5ECF6",
            "gridcolor": "white",
            "gridwidth": 2,
            "linecolor": "white",
            "showbackground": true,
            "ticks": "",
            "zerolinecolor": "white"
           },
           "zaxis": {
            "backgroundcolor": "#E5ECF6",
            "gridcolor": "white",
            "gridwidth": 2,
            "linecolor": "white",
            "showbackground": true,
            "ticks": "",
            "zerolinecolor": "white"
           }
          },
          "shapedefaults": {
           "line": {
            "color": "#2a3f5f"
           }
          },
          "ternary": {
           "aaxis": {
            "gridcolor": "white",
            "linecolor": "white",
            "ticks": ""
           },
           "baxis": {
            "gridcolor": "white",
            "linecolor": "white",
            "ticks": ""
           },
           "bgcolor": "#E5ECF6",
           "caxis": {
            "gridcolor": "white",
            "linecolor": "white",
            "ticks": ""
           }
          },
          "title": {
           "x": 0.05
          },
          "xaxis": {
           "automargin": true,
           "gridcolor": "white",
           "linecolor": "white",
           "ticks": "",
           "title": {
            "standoff": 15
           },
           "zerolinecolor": "white",
           "zerolinewidth": 2
          },
          "yaxis": {
           "automargin": true,
           "gridcolor": "white",
           "linecolor": "white",
           "ticks": "",
           "title": {
            "standoff": 15
           },
           "zerolinecolor": "white",
           "zerolinewidth": 2
          }
         }
        }
       }
      },
      "text/html": [
       "<div>                            <div id=\"249560a9-b411-44a3-98e8-94eeef5acc11\" class=\"plotly-graph-div\" style=\"height:525px; width:100%;\"></div>            <script type=\"text/javascript\">                require([\"plotly\"], function(Plotly) {                    window.PLOTLYENV=window.PLOTLYENV || {};                                    if (document.getElementById(\"249560a9-b411-44a3-98e8-94eeef5acc11\")) {                    Plotly.newPlot(                        \"249560a9-b411-44a3-98e8-94eeef5acc11\",                        [{\"domain\":{\"x\":[0.0,1.0],\"y\":[0.0,1.0]},\"hovertemplate\":\"label=%{label}\\u003cbr\\u003evalue=%{value}\\u003cextra\\u003e\\u003c\\u002fextra\\u003e\",\"labels\":[\"Online TA\",\"Offline TA\\u002fTO\",\"Direct\",\"Groups\",\"Corporate\",\"Complementary\",\"Aviation\",\"Undefined\"],\"legendgroup\":\"\",\"name\":\"\",\"showlegend\":true,\"values\":[51553,13855,11780,4922,4200,692,226,2],\"type\":\"pie\"}],                        {\"template\":{\"data\":{\"histogram2dcontour\":[{\"type\":\"histogram2dcontour\",\"colorbar\":{\"outlinewidth\":0,\"ticks\":\"\"},\"colorscale\":[[0.0,\"#0d0887\"],[0.1111111111111111,\"#46039f\"],[0.2222222222222222,\"#7201a8\"],[0.3333333333333333,\"#9c179e\"],[0.4444444444444444,\"#bd3786\"],[0.5555555555555556,\"#d8576b\"],[0.6666666666666666,\"#ed7953\"],[0.7777777777777778,\"#fb9f3a\"],[0.8888888888888888,\"#fdca26\"],[1.0,\"#f0f921\"]]}],\"choropleth\":[{\"type\":\"choropleth\",\"colorbar\":{\"outlinewidth\":0,\"ticks\":\"\"}}],\"histogram2d\":[{\"type\":\"histogram2d\",\"colorbar\":{\"outlinewidth\":0,\"ticks\":\"\"},\"colorscale\":[[0.0,\"#0d0887\"],[0.1111111111111111,\"#46039f\"],[0.2222222222222222,\"#7201a8\"],[0.3333333333333333,\"#9c179e\"],[0.4444444444444444,\"#bd3786\"],[0.5555555555555556,\"#d8576b\"],[0.6666666666666666,\"#ed7953\"],[0.7777777777777778,\"#fb9f3a\"],[0.8888888888888888,\"#fdca26\"],[1.0,\"#f0f921\"]]}],\"heatmap\":[{\"type\":\"heatmap\",\"colorbar\":{\"outlinewidth\":0,\"ticks\":\"\"},\"colorscale\":[[0.0,\"#0d0887\"],[0.1111111111111111,\"#46039f\"],[0.2222222222222222,\"#7201a8\"],[0.3333333333333333,\"#9c179e\"],[0.4444444444444444,\"#bd3786\"],[0.5555555555555556,\"#d8576b\"],[0.6666666666666666,\"#ed7953\"],[0.7777777777777778,\"#fb9f3a\"],[0.8888888888888888,\"#fdca26\"],[1.0,\"#f0f921\"]]}],\"heatmapgl\":[{\"type\":\"heatmapgl\",\"colorbar\":{\"outlinewidth\":0,\"ticks\":\"\"},\"colorscale\":[[0.0,\"#0d0887\"],[0.1111111111111111,\"#46039f\"],[0.2222222222222222,\"#7201a8\"],[0.3333333333333333,\"#9c179e\"],[0.4444444444444444,\"#bd3786\"],[0.5555555555555556,\"#d8576b\"],[0.6666666666666666,\"#ed7953\"],[0.7777777777777778,\"#fb9f3a\"],[0.8888888888888888,\"#fdca26\"],[1.0,\"#f0f921\"]]}],\"contourcarpet\":[{\"type\":\"contourcarpet\",\"colorbar\":{\"outlinewidth\":0,\"ticks\":\"\"}}],\"contour\":[{\"type\":\"contour\",\"colorbar\":{\"outlinewidth\":0,\"ticks\":\"\"},\"colorscale\":[[0.0,\"#0d0887\"],[0.1111111111111111,\"#46039f\"],[0.2222222222222222,\"#7201a8\"],[0.3333333333333333,\"#9c179e\"],[0.4444444444444444,\"#bd3786\"],[0.5555555555555556,\"#d8576b\"],[0.6666666666666666,\"#ed7953\"],[0.7777777777777778,\"#fb9f3a\"],[0.8888888888888888,\"#fdca26\"],[1.0,\"#f0f921\"]]}],\"surface\":[{\"type\":\"surface\",\"colorbar\":{\"outlinewidth\":0,\"ticks\":\"\"},\"colorscale\":[[0.0,\"#0d0887\"],[0.1111111111111111,\"#46039f\"],[0.2222222222222222,\"#7201a8\"],[0.3333333333333333,\"#9c179e\"],[0.4444444444444444,\"#bd3786\"],[0.5555555555555556,\"#d8576b\"],[0.6666666666666666,\"#ed7953\"],[0.7777777777777778,\"#fb9f3a\"],[0.8888888888888888,\"#fdca26\"],[1.0,\"#f0f921\"]]}],\"mesh3d\":[{\"type\":\"mesh3d\",\"colorbar\":{\"outlinewidth\":0,\"ticks\":\"\"}}],\"scatter\":[{\"fillpattern\":{\"fillmode\":\"overlay\",\"size\":10,\"solidity\":0.2},\"type\":\"scatter\"}],\"parcoords\":[{\"type\":\"parcoords\",\"line\":{\"colorbar\":{\"outlinewidth\":0,\"ticks\":\"\"}}}],\"scatterpolargl\":[{\"type\":\"scatterpolargl\",\"marker\":{\"colorbar\":{\"outlinewidth\":0,\"ticks\":\"\"}}}],\"bar\":[{\"error_x\":{\"color\":\"#2a3f5f\"},\"error_y\":{\"color\":\"#2a3f5f\"},\"marker\":{\"line\":{\"color\":\"#E5ECF6\",\"width\":0.5},\"pattern\":{\"fillmode\":\"overlay\",\"size\":10,\"solidity\":0.2}},\"type\":\"bar\"}],\"scattergeo\":[{\"type\":\"scattergeo\",\"marker\":{\"colorbar\":{\"outlinewidth\":0,\"ticks\":\"\"}}}],\"scatterpolar\":[{\"type\":\"scatterpolar\",\"marker\":{\"colorbar\":{\"outlinewidth\":0,\"ticks\":\"\"}}}],\"histogram\":[{\"marker\":{\"pattern\":{\"fillmode\":\"overlay\",\"size\":10,\"solidity\":0.2}},\"type\":\"histogram\"}],\"scattergl\":[{\"type\":\"scattergl\",\"marker\":{\"colorbar\":{\"outlinewidth\":0,\"ticks\":\"\"}}}],\"scatter3d\":[{\"type\":\"scatter3d\",\"line\":{\"colorbar\":{\"outlinewidth\":0,\"ticks\":\"\"}},\"marker\":{\"colorbar\":{\"outlinewidth\":0,\"ticks\":\"\"}}}],\"scattermapbox\":[{\"type\":\"scattermapbox\",\"marker\":{\"colorbar\":{\"outlinewidth\":0,\"ticks\":\"\"}}}],\"scatterternary\":[{\"type\":\"scatterternary\",\"marker\":{\"colorbar\":{\"outlinewidth\":0,\"ticks\":\"\"}}}],\"scattercarpet\":[{\"type\":\"scattercarpet\",\"marker\":{\"colorbar\":{\"outlinewidth\":0,\"ticks\":\"\"}}}],\"carpet\":[{\"aaxis\":{\"endlinecolor\":\"#2a3f5f\",\"gridcolor\":\"white\",\"linecolor\":\"white\",\"minorgridcolor\":\"white\",\"startlinecolor\":\"#2a3f5f\"},\"baxis\":{\"endlinecolor\":\"#2a3f5f\",\"gridcolor\":\"white\",\"linecolor\":\"white\",\"minorgridcolor\":\"white\",\"startlinecolor\":\"#2a3f5f\"},\"type\":\"carpet\"}],\"table\":[{\"cells\":{\"fill\":{\"color\":\"#EBF0F8\"},\"line\":{\"color\":\"white\"}},\"header\":{\"fill\":{\"color\":\"#C8D4E3\"},\"line\":{\"color\":\"white\"}},\"type\":\"table\"}],\"barpolar\":[{\"marker\":{\"line\":{\"color\":\"#E5ECF6\",\"width\":0.5},\"pattern\":{\"fillmode\":\"overlay\",\"size\":10,\"solidity\":0.2}},\"type\":\"barpolar\"}],\"pie\":[{\"automargin\":true,\"type\":\"pie\"}]},\"layout\":{\"autotypenumbers\":\"strict\",\"colorway\":[\"#636efa\",\"#EF553B\",\"#00cc96\",\"#ab63fa\",\"#FFA15A\",\"#19d3f3\",\"#FF6692\",\"#B6E880\",\"#FF97FF\",\"#FECB52\"],\"font\":{\"color\":\"#2a3f5f\"},\"hovermode\":\"closest\",\"hoverlabel\":{\"align\":\"left\"},\"paper_bgcolor\":\"white\",\"plot_bgcolor\":\"#E5ECF6\",\"polar\":{\"bgcolor\":\"#E5ECF6\",\"angularaxis\":{\"gridcolor\":\"white\",\"linecolor\":\"white\",\"ticks\":\"\"},\"radialaxis\":{\"gridcolor\":\"white\",\"linecolor\":\"white\",\"ticks\":\"\"}},\"ternary\":{\"bgcolor\":\"#E5ECF6\",\"aaxis\":{\"gridcolor\":\"white\",\"linecolor\":\"white\",\"ticks\":\"\"},\"baxis\":{\"gridcolor\":\"white\",\"linecolor\":\"white\",\"ticks\":\"\"},\"caxis\":{\"gridcolor\":\"white\",\"linecolor\":\"white\",\"ticks\":\"\"}},\"coloraxis\":{\"colorbar\":{\"outlinewidth\":0,\"ticks\":\"\"}},\"colorscale\":{\"sequential\":[[0.0,\"#0d0887\"],[0.1111111111111111,\"#46039f\"],[0.2222222222222222,\"#7201a8\"],[0.3333333333333333,\"#9c179e\"],[0.4444444444444444,\"#bd3786\"],[0.5555555555555556,\"#d8576b\"],[0.6666666666666666,\"#ed7953\"],[0.7777777777777778,\"#fb9f3a\"],[0.8888888888888888,\"#fdca26\"],[1.0,\"#f0f921\"]],\"sequentialminus\":[[0.0,\"#0d0887\"],[0.1111111111111111,\"#46039f\"],[0.2222222222222222,\"#7201a8\"],[0.3333333333333333,\"#9c179e\"],[0.4444444444444444,\"#bd3786\"],[0.5555555555555556,\"#d8576b\"],[0.6666666666666666,\"#ed7953\"],[0.7777777777777778,\"#fb9f3a\"],[0.8888888888888888,\"#fdca26\"],[1.0,\"#f0f921\"]],\"diverging\":[[0,\"#8e0152\"],[0.1,\"#c51b7d\"],[0.2,\"#de77ae\"],[0.3,\"#f1b6da\"],[0.4,\"#fde0ef\"],[0.5,\"#f7f7f7\"],[0.6,\"#e6f5d0\"],[0.7,\"#b8e186\"],[0.8,\"#7fbc41\"],[0.9,\"#4d9221\"],[1,\"#276419\"]]},\"xaxis\":{\"gridcolor\":\"white\",\"linecolor\":\"white\",\"ticks\":\"\",\"title\":{\"standoff\":15},\"zerolinecolor\":\"white\",\"automargin\":true,\"zerolinewidth\":2},\"yaxis\":{\"gridcolor\":\"white\",\"linecolor\":\"white\",\"ticks\":\"\",\"title\":{\"standoff\":15},\"zerolinecolor\":\"white\",\"automargin\":true,\"zerolinewidth\":2},\"scene\":{\"xaxis\":{\"backgroundcolor\":\"#E5ECF6\",\"gridcolor\":\"white\",\"linecolor\":\"white\",\"showbackground\":true,\"ticks\":\"\",\"zerolinecolor\":\"white\",\"gridwidth\":2},\"yaxis\":{\"backgroundcolor\":\"#E5ECF6\",\"gridcolor\":\"white\",\"linecolor\":\"white\",\"showbackground\":true,\"ticks\":\"\",\"zerolinecolor\":\"white\",\"gridwidth\":2},\"zaxis\":{\"backgroundcolor\":\"#E5ECF6\",\"gridcolor\":\"white\",\"linecolor\":\"white\",\"showbackground\":true,\"ticks\":\"\",\"zerolinecolor\":\"white\",\"gridwidth\":2}},\"shapedefaults\":{\"line\":{\"color\":\"#2a3f5f\"}},\"annotationdefaults\":{\"arrowcolor\":\"#2a3f5f\",\"arrowhead\":0,\"arrowwidth\":1},\"geo\":{\"bgcolor\":\"white\",\"landcolor\":\"#E5ECF6\",\"subunitcolor\":\"white\",\"showland\":true,\"showlakes\":true,\"lakecolor\":\"white\"},\"title\":{\"x\":0.05},\"mapbox\":{\"style\":\"light\"}}},\"legend\":{\"tracegroupgap\":0},\"margin\":{\"t\":60}},                        {\"responsive\": true}                    ).then(function(){\n",
       "                            \n",
       "var gd = document.getElementById('249560a9-b411-44a3-98e8-94eeef5acc11');\n",
       "var x = new MutationObserver(function (mutations, observer) {{\n",
       "        var display = window.getComputedStyle(gd).display;\n",
       "        if (!display || display === 'none') {{\n",
       "            console.log([gd, 'removed!']);\n",
       "            Plotly.purge(gd);\n",
       "            observer.disconnect();\n",
       "        }}\n",
       "}});\n",
       "\n",
       "// Listen for the removal of the full notebook cells\n",
       "var notebookContainer = gd.closest('#notebook-container');\n",
       "if (notebookContainer) {{\n",
       "    x.observe(notebookContainer, {childList: true});\n",
       "}}\n",
       "\n",
       "// Listen for the clearing of the current output cell\n",
       "var outputEl = gd.closest('.output');\n",
       "if (outputEl) {{\n",
       "    x.observe(outputEl, {childList: true});\n",
       "}}\n",
       "\n",
       "                        })                };                });            </script>        </div>"
      ]
     },
     "metadata": {},
     "output_type": "display_data"
    }
   ],
   "source": [
    "px.pie(data,values=val,names=ind)"
   ]
  },
  {
   "cell_type": "markdown",
   "metadata": {},
   "source": [
    "__Analysis Avg price adr per night of various room type for all markrt segment__"
   ]
  },
  {
   "cell_type": "code",
   "execution_count": 116,
   "metadata": {},
   "outputs": [
    {
     "data": {
      "text/plain": [
       "0           0.00\n",
       "1           0.00\n",
       "2          75.00\n",
       "3          75.00\n",
       "4          98.00\n",
       "           ...  \n",
       "119385     96.14\n",
       "119386    225.43\n",
       "119387    157.71\n",
       "119388    104.40\n",
       "119389    151.20\n",
       "Name: adr, Length: 87230, dtype: float64"
      ]
     },
     "execution_count": 116,
     "metadata": {},
     "output_type": "execute_result"
    }
   ],
   "source": [
    "data.adr"
   ]
  },
  {
   "cell_type": "code",
   "execution_count": 117,
   "metadata": {},
   "outputs": [
    {
     "data": {
      "text/plain": [
       "0         C\n",
       "1         C\n",
       "2         C\n",
       "3         A\n",
       "4         A\n",
       "         ..\n",
       "119385    A\n",
       "119386    E\n",
       "119387    D\n",
       "119388    A\n",
       "119389    A\n",
       "Name: assigned_room_type, Length: 87230, dtype: object"
      ]
     },
     "execution_count": 117,
     "metadata": {},
     "output_type": "execute_result"
    }
   ],
   "source": [
    "data.assigned_room_type"
   ]
  },
  {
   "cell_type": "code",
   "execution_count": 118,
   "metadata": {},
   "outputs": [
    {
     "data": {
      "text/plain": [
       "0                Direct\n",
       "1                Direct\n",
       "2                Direct\n",
       "3             Corporate\n",
       "4             Online TA\n",
       "              ...      \n",
       "119385    Offline TA/TO\n",
       "119386        Online TA\n",
       "119387        Online TA\n",
       "119388        Online TA\n",
       "119389        Online TA\n",
       "Name: market_segment, Length: 87230, dtype: object"
      ]
     },
     "execution_count": 118,
     "metadata": {},
     "output_type": "execute_result"
    }
   ],
   "source": [
    "data.market_segment"
   ]
  },
  {
   "cell_type": "code",
   "execution_count": 122,
   "metadata": {},
   "outputs": [
    {
     "data": {
      "text/plain": [
       "market_segment  assigned_room_type\n",
       "Aviation        A                      118\n",
       "                B                        4\n",
       "                D                       95\n",
       "                E                        7\n",
       "                G                        1\n",
       "                                      ... \n",
       "Online TA       G                     1660\n",
       "                H                      474\n",
       "                I                      157\n",
       "                K                      106\n",
       "Undefined       B                        2\n",
       "Name: adr, Length: 68, dtype: int64"
      ]
     },
     "execution_count": 122,
     "metadata": {},
     "output_type": "execute_result"
    }
   ],
   "source": [
    "data.groupby([data.market_segment,data.assigned_room_type])['adr'].size()"
   ]
  },
  {
   "cell_type": "code",
   "execution_count": 130,
   "metadata": {},
   "outputs": [
    {
     "name": "stderr",
     "output_type": "stream",
     "text": [
      "C:\\Users\\tirth\\AppData\\Local\\Temp\\ipykernel_7464\\3120201997.py:2: FutureWarning:\n",
      "\n",
      "\n",
      "\n",
      "The `ci` parameter is deprecated. Use `errorbar=None` for the same effect.\n",
      "\n",
      "\n"
     ]
    },
    {
     "data": {
      "text/plain": [
       "<Axes: xlabel='market_segment', ylabel='adr'>"
      ]
     },
     "execution_count": 130,
     "metadata": {},
     "output_type": "execute_result"
    },
    {
     "data": {
      "image/png": "[encoded data removed]",
      "text/plain": [
       "<Figure size 2000x1000 with 1 Axes>"
      ]
     },
     "metadata": {},
     "output_type": "display_data"
    }
   ],
   "source": [
    "plt.figure(figsize=(20,10))\n",
    "sns.barplot(x='market_segment',y='adr',data=data,ci=None,hue='reserved_room_type')\n",
    "#default value of est is mean we can change to sum in seaborn "
   ]
  },
  {
   "cell_type": "markdown",
   "metadata": {},
   "source": [
    "__Total guest arrival in each day__"
   ]
  },
  {
   "cell_type": "code",
   "execution_count": 135,
   "metadata": {},
   "outputs": [
    {
     "data": {
      "text/plain": [
       "Index(['hotel', 'is_canceled', 'lead_time', 'arrival_date_year',\n",
       "       'arrival_date_month', 'arrival_date_week_number',\n",
       "       'arrival_date_day_of_month', 'stays_in_weekend_nights',\n",
       "       'stays_in_week_nights', 'adults', 'children', 'babies', 'meal',\n",
       "       'country', 'market_segment', 'distribution_channel',\n",
       "       'is_repeated_guest', 'previous_cancellations',\n",
       "       'previous_bookings_not_canceled', 'reserved_room_type',\n",
       "       'assigned_room_type', 'booking_changes', 'deposit_type', 'agent',\n",
       "       'company', 'days_in_waiting_list', 'customer_type', 'adr',\n",
       "       'required_car_parking_spaces', 'total_of_special_requests',\n",
       "       'reservation_status', 'reservation_status_date'],\n",
       "      dtype='object')"
      ]
     },
     "execution_count": 135,
     "metadata": {},
     "output_type": "execute_result"
    }
   ],
   "source": [
    "data.columns"
   ]
  },
  {
   "cell_type": "code",
   "execution_count": 136,
   "metadata": {},
   "outputs": [
    {
     "data": {
      "text/html": [
       "<div>\n",
       "<style scoped>\n",
       "    .dataframe tbody tr th:only-of-type {\n",
       "        vertical-align: middle;\n",
       "    }\n",
       "\n",
       "    .dataframe tbody tr th {\n",
       "        vertical-align: top;\n",
       "    }\n",
       "\n",
       "    .dataframe thead th {\n",
       "        text-align: right;\n",
       "    }\n",
       "</style>\n",
       "<table border=\"1\" class=\"dataframe\">\n",
       "  <thead>\n",
       "    <tr style=\"text-align: right;\">\n",
       "      <th></th>\n",
       "      <th>arrival_date_year</th>\n",
       "      <th>arrival_date_month</th>\n",
       "      <th>arrival_date_week_number</th>\n",
       "    </tr>\n",
       "  </thead>\n",
       "  <tbody>\n",
       "    <tr>\n",
       "      <th>0</th>\n",
       "      <td>2015</td>\n",
       "      <td>July</td>\n",
       "      <td>27</td>\n",
       "    </tr>\n",
       "    <tr>\n",
       "      <th>1</th>\n",
       "      <td>2015</td>\n",
       "      <td>July</td>\n",
       "      <td>27</td>\n",
       "    </tr>\n",
       "    <tr>\n",
       "      <th>2</th>\n",
       "      <td>2015</td>\n",
       "      <td>July</td>\n",
       "      <td>27</td>\n",
       "    </tr>\n",
       "    <tr>\n",
       "      <th>3</th>\n",
       "      <td>2015</td>\n",
       "      <td>July</td>\n",
       "      <td>27</td>\n",
       "    </tr>\n",
       "    <tr>\n",
       "      <th>4</th>\n",
       "      <td>2015</td>\n",
       "      <td>July</td>\n",
       "      <td>27</td>\n",
       "    </tr>\n",
       "    <tr>\n",
       "      <th>...</th>\n",
       "      <td>...</td>\n",
       "      <td>...</td>\n",
       "      <td>...</td>\n",
       "    </tr>\n",
       "    <tr>\n",
       "      <th>119385</th>\n",
       "      <td>2017</td>\n",
       "      <td>August</td>\n",
       "      <td>35</td>\n",
       "    </tr>\n",
       "    <tr>\n",
       "      <th>119386</th>\n",
       "      <td>2017</td>\n",
       "      <td>August</td>\n",
       "      <td>35</td>\n",
       "    </tr>\n",
       "    <tr>\n",
       "      <th>119387</th>\n",
       "      <td>2017</td>\n",
       "      <td>August</td>\n",
       "      <td>35</td>\n",
       "    </tr>\n",
       "    <tr>\n",
       "      <th>119388</th>\n",
       "      <td>2017</td>\n",
       "      <td>August</td>\n",
       "      <td>35</td>\n",
       "    </tr>\n",
       "    <tr>\n",
       "      <th>119389</th>\n",
       "      <td>2017</td>\n",
       "      <td>August</td>\n",
       "      <td>35</td>\n",
       "    </tr>\n",
       "  </tbody>\n",
       "</table>\n",
       "<p>87230 rows × 3 columns</p>\n",
       "</div>"
      ],
      "text/plain": [
       "        arrival_date_year arrival_date_month  arrival_date_week_number\n",
       "0                    2015               July                        27\n",
       "1                    2015               July                        27\n",
       "2                    2015               July                        27\n",
       "3                    2015               July                        27\n",
       "4                    2015               July                        27\n",
       "...                   ...                ...                       ...\n",
       "119385               2017             August                        35\n",
       "119386               2017             August                        35\n",
       "119387               2017             August                        35\n",
       "119388               2017             August                        35\n",
       "119389               2017             August                        35\n",
       "\n",
       "[87230 rows x 3 columns]"
      ]
     },
     "execution_count": 136,
     "metadata": {},
     "output_type": "execute_result"
    }
   ],
   "source": [
    "data[[ 'arrival_date_year','arrival_date_month', 'arrival_date_week_number']]"
   ]
  },
  {
   "cell_type": "code",
   "execution_count": 140,
   "metadata": {},
   "outputs": [
    {
     "data": {
      "text/plain": [
       "array(['July', 'August', 'September', 'October', 'November', 'December',\n",
       "       'January', 'February', 'March', 'April', 'May', 'June'],\n",
       "      dtype=object)"
      ]
     },
     "execution_count": 140,
     "metadata": {},
     "output_type": "execute_result"
    }
   ],
   "source": [
    "data.arrival_date_month.unique()"
   ]
  },
  {
   "cell_type": "code",
   "execution_count": 147,
   "metadata": {},
   "outputs": [],
   "source": [
    "data.arrival_date_month=data.arrival_date_month.map({'July':7, 'August':8, 'September':9, 'October':10, 'November':11, 'December':12,'January':1, 'February':2, 'March':3, 'April':4, 'May':5, 'June':6})"
   ]
  },
  {
   "cell_type": "code",
   "execution_count": 148,
   "metadata": {},
   "outputs": [
    {
     "data": {
      "text/plain": [
       "0         7\n",
       "1         7\n",
       "2         7\n",
       "3         7\n",
       "4         7\n",
       "         ..\n",
       "119385    8\n",
       "119386    8\n",
       "119387    8\n",
       "119388    8\n",
       "119389    8\n",
       "Name: arrival_date_month, Length: 87230, dtype: int64"
      ]
     },
     "execution_count": 148,
     "metadata": {},
     "output_type": "execute_result"
    }
   ],
   "source": [
    "data.arrival_date_month"
   ]
  },
  {
   "cell_type": "code",
   "execution_count": 149,
   "metadata": {},
   "outputs": [
    {
     "data": {
      "text/html": [
       "<div>\n",
       "<style scoped>\n",
       "    .dataframe tbody tr th:only-of-type {\n",
       "        vertical-align: middle;\n",
       "    }\n",
       "\n",
       "    .dataframe tbody tr th {\n",
       "        vertical-align: top;\n",
       "    }\n",
       "\n",
       "    .dataframe thead th {\n",
       "        text-align: right;\n",
       "    }\n",
       "</style>\n",
       "<table border=\"1\" class=\"dataframe\">\n",
       "  <thead>\n",
       "    <tr style=\"text-align: right;\">\n",
       "      <th></th>\n",
       "      <th>arrival_date_year</th>\n",
       "      <th>arrival_date_month</th>\n",
       "      <th>arrival_date_week_number</th>\n",
       "    </tr>\n",
       "  </thead>\n",
       "  <tbody>\n",
       "    <tr>\n",
       "      <th>0</th>\n",
       "      <td>2015</td>\n",
       "      <td>7</td>\n",
       "      <td>27</td>\n",
       "    </tr>\n",
       "    <tr>\n",
       "      <th>1</th>\n",
       "      <td>2015</td>\n",
       "      <td>7</td>\n",
       "      <td>27</td>\n",
       "    </tr>\n",
       "    <tr>\n",
       "      <th>2</th>\n",
       "      <td>2015</td>\n",
       "      <td>7</td>\n",
       "      <td>27</td>\n",
       "    </tr>\n",
       "    <tr>\n",
       "      <th>3</th>\n",
       "      <td>2015</td>\n",
       "      <td>7</td>\n",
       "      <td>27</td>\n",
       "    </tr>\n",
       "    <tr>\n",
       "      <th>4</th>\n",
       "      <td>2015</td>\n",
       "      <td>7</td>\n",
       "      <td>27</td>\n",
       "    </tr>\n",
       "    <tr>\n",
       "      <th>...</th>\n",
       "      <td>...</td>\n",
       "      <td>...</td>\n",
       "      <td>...</td>\n",
       "    </tr>\n",
       "    <tr>\n",
       "      <th>119385</th>\n",
       "      <td>2017</td>\n",
       "      <td>8</td>\n",
       "      <td>35</td>\n",
       "    </tr>\n",
       "    <tr>\n",
       "      <th>119386</th>\n",
       "      <td>2017</td>\n",
       "      <td>8</td>\n",
       "      <td>35</td>\n",
       "    </tr>\n",
       "    <tr>\n",
       "      <th>119387</th>\n",
       "      <td>2017</td>\n",
       "      <td>8</td>\n",
       "      <td>35</td>\n",
       "    </tr>\n",
       "    <tr>\n",
       "      <th>119388</th>\n",
       "      <td>2017</td>\n",
       "      <td>8</td>\n",
       "      <td>35</td>\n",
       "    </tr>\n",
       "    <tr>\n",
       "      <th>119389</th>\n",
       "      <td>2017</td>\n",
       "      <td>8</td>\n",
       "      <td>35</td>\n",
       "    </tr>\n",
       "  </tbody>\n",
       "</table>\n",
       "<p>87230 rows × 3 columns</p>\n",
       "</div>"
      ],
      "text/plain": [
       "        arrival_date_year  arrival_date_month  arrival_date_week_number\n",
       "0                    2015                   7                        27\n",
       "1                    2015                   7                        27\n",
       "2                    2015                   7                        27\n",
       "3                    2015                   7                        27\n",
       "4                    2015                   7                        27\n",
       "...                   ...                 ...                       ...\n",
       "119385               2017                   8                        35\n",
       "119386               2017                   8                        35\n",
       "119387               2017                   8                        35\n",
       "119388               2017                   8                        35\n",
       "119389               2017                   8                        35\n",
       "\n",
       "[87230 rows x 3 columns]"
      ]
     },
     "execution_count": 149,
     "metadata": {},
     "output_type": "execute_result"
    }
   ],
   "source": [
    "data[[ 'arrival_date_year','arrival_date_month', 'arrival_date_week_number']]"
   ]
  },
  {
   "cell_type": "code",
   "execution_count": 162,
   "metadata": {},
   "outputs": [],
   "source": [
    "data['ar_date']=data['arrival_date_year'].astype(str)+'-'+data['arrival_date_month'].astype(str)+'-'+data['arrival_date_day_of_month'].astype(str)"
   ]
  },
  {
   "cell_type": "code",
   "execution_count": 163,
   "metadata": {},
   "outputs": [
    {
     "data": {
      "text/plain": [
       "array(['2015-7-1', '2015-7-2', '2015-7-3', '2015-7-4', '2015-7-5',\n",
       "       '2015-7-6', '2015-7-7', '2015-7-8', '2015-7-9', '2015-7-10',\n",
       "       '2015-7-11', '2015-7-12', '2015-7-13', '2015-7-14', '2015-7-15',\n",
       "       '2015-7-16', '2015-7-17', '2015-7-18', '2015-7-19', '2015-7-20',\n",
       "       '2015-7-21', '2015-7-22', '2015-7-23', '2015-7-24', '2015-7-25',\n",
       "       '2015-7-26', '2015-7-27', '2015-7-28', '2015-7-29', '2015-7-30',\n",
       "       '2015-7-31', '2015-8-1', '2015-8-2', '2015-8-3', '2015-8-4',\n",
       "       '2015-8-5', '2015-8-6', '2015-8-7', '2015-8-8', '2015-8-9',\n",
       "       '2015-8-10', '2015-8-11', '2015-8-12', '2015-8-13', '2015-8-14',\n",
       "       '2015-8-15', '2015-8-16', '2015-8-17', '2015-8-18', '2015-8-19',\n",
       "       '2015-8-20', '2015-8-21', '2015-8-22', '2015-8-23', '2015-8-24',\n",
       "       '2015-8-25', '2015-8-26', '2015-8-27', '2015-8-28', '2015-8-29',\n",
       "       '2015-8-30', '2015-8-31', '2015-9-1', '2015-9-2', '2015-9-3',\n",
       "       '2015-9-4', '2015-9-5', '2015-9-6', '2015-9-7', '2015-9-8',\n",
       "       '2015-9-9', '2015-9-10', '2015-9-11', '2015-9-12', '2015-9-13',\n",
       "       '2015-9-14', '2015-9-15', '2015-9-16', '2015-9-17', '2015-9-18',\n",
       "       '2015-9-19', '2015-9-20', '2015-9-21', '2015-9-22', '2015-9-23',\n",
       "       '2015-9-24', '2015-9-25', '2015-9-26', '2015-9-27', '2015-9-28',\n",
       "       '2015-9-29', '2015-9-30', '2015-10-1', '2015-10-2', '2015-10-3',\n",
       "       '2015-10-4', '2015-10-5', '2015-10-6', '2015-10-7', '2015-10-8',\n",
       "       '2015-10-9', '2015-10-10', '2015-10-11', '2015-10-12',\n",
       "       '2015-10-13', '2015-10-14', '2015-10-15', '2015-10-16',\n",
       "       '2015-10-17', '2015-10-18', '2015-10-19', '2015-10-20',\n",
       "       '2015-10-21', '2015-10-22', '2015-10-23', '2015-10-24',\n",
       "       '2015-10-25', '2015-10-26', '2015-10-27', '2015-10-28',\n",
       "       '2015-10-29', '2015-10-30', '2015-10-31', '2015-11-1', '2015-11-2',\n",
       "       '2015-11-3', '2015-11-4', '2015-11-5', '2015-11-6', '2015-11-7',\n",
       "       '2015-11-8', '2015-11-9', '2015-11-10', '2015-11-11', '2015-11-12',\n",
       "       '2015-11-13', '2015-11-14', '2015-11-15', '2015-11-16',\n",
       "       '2015-11-17', '2015-11-18', '2015-11-19', '2015-11-20',\n",
       "       '2015-11-21', '2015-11-23', '2015-11-24', '2015-11-25',\n",
       "       '2015-11-26', '2015-11-27', '2015-11-28', '2015-11-29',\n",
       "       '2015-11-30', '2015-12-1', '2015-12-2', '2015-12-3', '2015-12-4',\n",
       "       '2015-12-5', '2015-12-6', '2015-12-7', '2015-12-8', '2015-12-10',\n",
       "       '2015-12-11', '2015-12-12', '2015-12-13', '2015-12-14',\n",
       "       '2015-12-15', '2015-12-17', '2015-12-18', '2015-12-19',\n",
       "       '2015-12-20', '2015-12-21', '2015-12-22', '2015-12-23',\n",
       "       '2015-12-24', '2015-12-25', '2015-12-26', '2015-12-27',\n",
       "       '2015-12-28', '2015-12-29', '2015-12-30', '2015-12-31', '2016-1-1',\n",
       "       '2016-1-2', '2016-1-3', '2016-1-4', '2016-1-5', '2016-1-6',\n",
       "       '2016-1-7', '2016-1-8', '2016-1-9', '2016-1-10', '2016-1-12',\n",
       "       '2016-1-13', '2016-1-14', '2016-1-15', '2016-1-16', '2016-1-17',\n",
       "       '2016-1-18', '2016-1-19', '2016-1-21', '2016-1-22', '2016-1-23',\n",
       "       '2016-1-25', '2016-1-26', '2016-1-27', '2016-1-28', '2016-1-29',\n",
       "       '2016-1-30', '2016-1-31', '2016-2-1', '2016-2-2', '2016-2-3',\n",
       "       '2016-2-4', '2016-2-5', '2016-2-6', '2016-2-7', '2016-2-8',\n",
       "       '2016-2-9', '2016-2-10', '2016-2-11', '2016-2-12', '2016-2-13',\n",
       "       '2016-2-14', '2016-2-15', '2016-2-16', '2016-2-17', '2016-2-18',\n",
       "       '2016-2-19', '2016-2-20', '2016-2-21', '2016-2-22', '2016-2-23',\n",
       "       '2016-2-24', '2016-2-25', '2016-2-26', '2016-2-27', '2016-2-28',\n",
       "       '2016-2-29', '2016-3-1', '2016-3-2', '2016-3-3', '2016-3-4',\n",
       "       '2016-3-5', '2016-3-7', '2016-3-8', '2016-3-9', '2016-3-10',\n",
       "       '2016-3-11', '2016-3-12', '2016-3-13', '2016-3-14', '2016-3-15',\n",
       "       '2016-3-16', '2016-3-17', '2016-3-18', '2016-3-19', '2016-3-20',\n",
       "       '2016-3-21', '2016-3-22', '2016-3-23', '2016-3-24', '2016-3-25',\n",
       "       '2016-3-26', '2016-3-27', '2016-3-28', '2016-3-29', '2016-3-30',\n",
       "       '2016-3-31', '2016-4-1', '2016-4-2', '2016-4-3', '2016-4-4',\n",
       "       '2016-4-5', '2016-4-6', '2016-4-7', '2016-4-8', '2016-4-9',\n",
       "       '2016-4-10', '2016-4-11', '2016-4-12', '2016-4-13', '2016-4-14',\n",
       "       '2016-4-15', '2016-4-16', '2016-4-17', '2016-4-18', '2016-4-19',\n",
       "       '2016-4-20', '2016-4-21', '2016-4-22', '2016-4-23', '2016-4-24',\n",
       "       '2016-4-25', '2016-4-26', '2016-4-27', '2016-4-28', '2016-4-29',\n",
       "       '2016-4-30', '2016-5-1', '2016-5-2', '2016-5-3', '2016-5-4',\n",
       "       '2016-5-5', '2016-5-6', '2016-5-7', '2016-5-8', '2016-5-9',\n",
       "       '2016-5-10', '2016-5-11', '2016-5-12', '2016-5-13', '2016-5-14',\n",
       "       '2016-5-15', '2016-5-16', '2016-5-17', '2016-5-18', '2016-5-19',\n",
       "       '2016-5-20', '2016-5-21', '2016-5-22', '2016-5-23', '2016-5-24',\n",
       "       '2016-5-25', '2016-5-26', '2016-5-27', '2016-5-28', '2016-5-29',\n",
       "       '2016-5-30', '2016-5-31', '2016-6-1', '2016-6-2', '2016-6-3',\n",
       "       '2016-6-4', '2016-6-5', '2016-6-6', '2016-6-7', '2016-6-8',\n",
       "       '2016-6-9', '2016-6-10', '2016-6-11', '2016-6-12', '2016-6-13',\n",
       "       '2016-6-14', '2016-6-15', '2016-6-16', '2016-6-17', '2016-6-18',\n",
       "       '2016-6-19', '2016-6-20', '2016-6-21', '2016-6-22', '2016-6-23',\n",
       "       '2016-6-24', '2016-6-25', '2016-6-26', '2016-6-27', '2016-6-28',\n",
       "       '2016-6-29', '2016-6-30', '2016-7-1', '2016-7-2', '2016-7-3',\n",
       "       '2016-7-4', '2016-7-5', '2016-7-6', '2016-7-7', '2016-7-8',\n",
       "       '2016-7-9', '2016-7-10', '2016-7-11', '2016-7-12', '2016-7-13',\n",
       "       '2016-7-14', '2016-7-15', '2016-7-16', '2016-7-17', '2016-7-18',\n",
       "       '2016-7-19', '2016-7-20', '2016-7-21', '2016-7-22', '2016-7-23',\n",
       "       '2016-7-24', '2016-7-25', '2016-7-26', '2016-7-27', '2016-7-28',\n",
       "       '2016-7-29', '2016-7-30', '2016-7-31', '2016-8-1', '2016-8-2',\n",
       "       '2016-8-3', '2016-8-4', '2016-8-5', '2016-8-6', '2016-8-7',\n",
       "       '2016-8-8', '2016-8-9', '2016-8-10', '2016-8-11', '2016-8-12',\n",
       "       '2016-8-13', '2016-8-14', '2016-8-15', '2016-8-16', '2016-8-17',\n",
       "       '2016-8-18', '2016-8-19', '2016-8-20', '2016-8-21', '2016-8-22',\n",
       "       '2016-8-23', '2016-8-24', '2016-8-25', '2016-8-26', '2016-8-27',\n",
       "       '2016-8-28', '2016-8-29', '2016-8-30', '2016-8-31', '2016-9-1',\n",
       "       '2016-9-2', '2016-9-3', '2016-9-4', '2016-9-5', '2016-9-6',\n",
       "       '2016-9-7', '2016-9-8', '2016-9-9', '2016-9-10', '2016-9-11',\n",
       "       '2016-9-12', '2016-9-13', '2016-9-14', '2016-9-15', '2016-9-16',\n",
       "       '2016-9-17', '2016-9-18', '2016-9-19', '2016-9-20', '2016-9-21',\n",
       "       '2016-9-22', '2016-9-23', '2016-9-24', '2016-9-25', '2016-9-26',\n",
       "       '2016-9-27', '2016-9-28', '2016-9-29', '2016-9-30', '2016-10-1',\n",
       "       '2016-10-2', '2016-10-3', '2016-10-4', '2016-10-5', '2016-10-6',\n",
       "       '2016-10-7', '2016-10-8', '2016-10-9', '2016-10-10', '2016-10-11',\n",
       "       '2016-10-12', '2016-10-13', '2016-10-14', '2016-10-15',\n",
       "       '2016-10-16', '2016-10-17', '2016-10-18', '2016-10-19',\n",
       "       '2016-10-20', '2016-10-21', '2016-10-22', '2016-10-23',\n",
       "       '2016-10-24', '2016-10-25', '2016-10-26', '2016-10-27',\n",
       "       '2016-10-28', '2016-10-29', '2016-10-30', '2016-10-31',\n",
       "       '2016-11-1', '2016-11-2', '2016-11-3', '2016-11-4', '2016-11-5',\n",
       "       '2016-11-6', '2016-11-7', '2016-11-8', '2016-11-9', '2016-11-10',\n",
       "       '2016-11-11', '2016-11-12', '2016-11-14', '2016-11-15',\n",
       "       '2016-11-16', '2016-11-17', '2016-11-18', '2016-11-19',\n",
       "       '2016-11-20', '2016-11-21', '2016-11-22', '2016-11-23',\n",
       "       '2016-11-24', '2016-11-25', '2016-11-26', '2016-11-27',\n",
       "       '2016-11-28', '2016-11-29', '2016-11-30', '2016-12-1', '2016-12-2',\n",
       "       '2016-12-3', '2016-12-4', '2016-12-5', '2016-12-6', '2016-12-7',\n",
       "       '2016-12-8', '2016-12-9', '2016-12-10', '2016-12-11', '2016-12-12',\n",
       "       '2016-12-13', '2016-12-14', '2016-12-15', '2016-12-16',\n",
       "       '2016-12-17', '2016-12-18', '2016-12-19', '2016-12-20',\n",
       "       '2016-12-21', '2016-12-22', '2016-12-23', '2016-12-24',\n",
       "       '2016-12-25', '2016-12-26', '2016-12-27', '2016-12-28',\n",
       "       '2016-12-29', '2016-12-30', '2016-12-31', '2017-1-1', '2017-1-2',\n",
       "       '2017-1-3', '2017-1-4', '2017-1-5', '2017-1-6', '2017-1-7',\n",
       "       '2017-1-8', '2017-1-9', '2017-1-10', '2017-1-11', '2017-1-12',\n",
       "       '2017-1-13', '2017-1-14', '2017-1-15', '2017-1-16', '2017-1-17',\n",
       "       '2017-1-18', '2017-1-19', '2017-1-20', '2017-1-21', '2017-1-22',\n",
       "       '2017-1-23', '2017-1-24', '2017-1-25', '2017-1-26', '2017-1-27',\n",
       "       '2017-1-28', '2017-1-29', '2017-1-30', '2017-1-31', '2017-2-1',\n",
       "       '2017-2-2', '2017-2-3', '2017-2-4', '2017-2-5', '2017-2-6',\n",
       "       '2017-2-7', '2017-2-8', '2017-2-9', '2017-2-10', '2017-2-11',\n",
       "       '2017-2-12', '2017-2-13', '2017-2-14', '2017-2-15', '2017-2-16',\n",
       "       '2017-2-17', '2017-2-18', '2017-2-19', '2017-2-20', '2017-2-21',\n",
       "       '2017-2-22', '2017-2-23', '2017-2-24', '2017-2-25', '2017-2-26',\n",
       "       '2017-2-27', '2017-2-28', '2017-3-1', '2017-3-2', '2017-3-3',\n",
       "       '2017-3-4', '2017-3-5', '2017-3-6', '2017-3-7', '2017-3-8',\n",
       "       '2017-3-9', '2017-3-10', '2017-3-11', '2017-3-12', '2017-3-13',\n",
       "       '2017-3-14', '2017-3-15', '2017-3-16', '2017-3-17', '2017-3-18',\n",
       "       '2017-3-19', '2017-3-20', '2017-3-22', '2017-3-23', '2017-3-24',\n",
       "       '2017-3-25', '2017-3-26', '2017-3-27', '2017-3-28', '2017-3-29',\n",
       "       '2017-3-30', '2017-3-31', '2017-4-1', '2017-4-2', '2017-4-3',\n",
       "       '2017-4-4', '2017-4-5', '2017-4-6', '2017-4-7', '2017-4-8',\n",
       "       '2017-4-9', '2017-4-10', '2017-4-11', '2017-4-12', '2017-4-13',\n",
       "       '2017-4-14', '2017-4-15', '2017-4-16', '2017-4-17', '2017-4-18',\n",
       "       '2017-4-19', '2017-4-20', '2017-4-21', '2017-4-22', '2017-4-23',\n",
       "       '2017-4-24', '2017-4-25', '2017-4-26', '2017-4-27', '2017-4-28',\n",
       "       '2017-4-29', '2017-4-30', '2017-5-1', '2017-5-2', '2017-5-3',\n",
       "       '2017-5-4', '2017-5-5', '2017-5-6', '2017-5-7', '2017-5-8',\n",
       "       '2017-5-9', '2017-5-10', '2017-5-11', '2017-5-12', '2017-5-13',\n",
       "       '2017-5-14', '2017-5-15', '2017-5-16', '2017-5-17', '2017-5-18',\n",
       "       '2017-5-19', '2017-5-20', '2017-5-21', '2017-5-22', '2017-5-23',\n",
       "       '2017-5-24', '2017-5-25', '2017-5-26', '2017-5-27', '2017-5-28',\n",
       "       '2017-5-29', '2017-5-30', '2017-5-31', '2017-6-1', '2017-6-2',\n",
       "       '2017-6-3', '2017-6-4', '2017-6-5', '2017-6-6', '2017-6-7',\n",
       "       '2017-6-8', '2017-6-9', '2017-6-10', '2017-6-11', '2017-6-12',\n",
       "       '2017-6-13', '2017-6-14', '2017-6-15', '2017-6-16', '2017-6-17',\n",
       "       '2017-6-18', '2017-6-19', '2017-6-20', '2017-6-21', '2017-6-22',\n",
       "       '2017-6-23', '2017-6-24', '2017-6-25', '2017-6-26', '2017-6-27',\n",
       "       '2017-6-28', '2017-6-29', '2017-6-30', '2017-7-1', '2017-7-2',\n",
       "       '2017-7-3', '2017-7-4', '2017-7-5', '2017-7-6', '2017-7-7',\n",
       "       '2017-7-8', '2017-7-9', '2017-7-10', '2017-7-11', '2017-7-12',\n",
       "       '2017-7-13', '2017-7-14', '2017-7-15', '2017-7-16', '2017-7-17',\n",
       "       '2017-7-18', '2017-7-19', '2017-7-20', '2017-7-21', '2017-7-22',\n",
       "       '2017-7-23', '2017-7-24', '2017-7-25', '2017-7-26', '2017-7-27',\n",
       "       '2017-7-28', '2017-7-29', '2017-7-30', '2017-7-31', '2017-8-1',\n",
       "       '2017-8-2', '2017-8-3', '2017-8-4', '2017-8-5', '2017-8-6',\n",
       "       '2017-8-7', '2017-8-8', '2017-8-9', '2017-8-10', '2017-8-11',\n",
       "       '2017-8-12', '2017-8-13', '2017-8-14', '2017-8-15', '2017-8-16',\n",
       "       '2017-8-17', '2017-8-18', '2017-8-19', '2017-8-20', '2017-8-21',\n",
       "       '2017-8-22', '2017-8-23', '2017-8-24', '2017-8-25', '2017-8-26',\n",
       "       '2017-8-27', '2017-8-28', '2017-8-29', '2017-8-30', '2017-8-31',\n",
       "       '2016-1-20', '2015-12-9', '2017-3-21', '2016-1-11', '2015-12-16',\n",
       "       '2015-11-22', '2016-1-24', '2016-3-6', '2016-11-13'], dtype=object)"
      ]
     },
     "execution_count": 163,
     "metadata": {},
     "output_type": "execute_result"
    }
   ],
   "source": [
    "data.ar_date.unique()"
   ]
  },
  {
   "cell_type": "code",
   "execution_count": 153,
   "metadata": {},
   "outputs": [
    {
     "data": {
      "text/plain": [
       "0         2015-7-27\n",
       "1         2015-7-27\n",
       "2         2015-7-27\n",
       "3         2015-7-27\n",
       "4         2015-7-27\n",
       "            ...    \n",
       "119385    2017-8-35\n",
       "119386    2017-8-35\n",
       "119387    2017-8-35\n",
       "119388    2017-8-35\n",
       "119389    2017-8-35\n",
       "Name: ar_date, Length: 87230, dtype: object"
      ]
     },
     "execution_count": 153,
     "metadata": {},
     "output_type": "execute_result"
    }
   ],
   "source": [
    "data.ar_date"
   ]
  },
  {
   "cell_type": "code",
   "execution_count": 154,
   "metadata": {},
   "outputs": [],
   "source": [
    "total_gt=data.children+data.adults+data.babies"
   ]
  },
  {
   "cell_type": "code",
   "execution_count": 155,
   "metadata": {},
   "outputs": [
    {
     "data": {
      "text/plain": [
       "0         2.0\n",
       "1         2.0\n",
       "2         1.0\n",
       "3         1.0\n",
       "4         2.0\n",
       "         ... \n",
       "119385    2.0\n",
       "119386    3.0\n",
       "119387    2.0\n",
       "119388    2.0\n",
       "119389    2.0\n",
       "Length: 87230, dtype: float64"
      ]
     },
     "execution_count": 155,
     "metadata": {},
     "output_type": "execute_result"
    }
   ],
   "source": [
    "total_gt"
   ]
  },
  {
   "cell_type": "code",
   "execution_count": 156,
   "metadata": {},
   "outputs": [],
   "source": [
    "data['t_g']=data.children+data.adults+data.babies"
   ]
  },
  {
   "cell_type": "code",
   "execution_count": 157,
   "metadata": {},
   "outputs": [
    {
     "data": {
      "text/plain": [
       "Index(['hotel', 'is_canceled', 'lead_time', 'arrival_date_year',\n",
       "       'arrival_date_month', 'arrival_date_week_number',\n",
       "       'arrival_date_day_of_month', 'stays_in_weekend_nights',\n",
       "       'stays_in_week_nights', 'adults', 'children', 'babies', 'meal',\n",
       "       'country', 'market_segment', 'distribution_channel',\n",
       "       'is_repeated_guest', 'previous_cancellations',\n",
       "       'previous_bookings_not_canceled', 'reserved_room_type',\n",
       "       'assigned_room_type', 'booking_changes', 'deposit_type', 'agent',\n",
       "       'company', 'days_in_waiting_list', 'customer_type', 'adr',\n",
       "       'required_car_parking_spaces', 'total_of_special_requests',\n",
       "       'reservation_status', 'reservation_status_date', 'ar_date', 't_g'],\n",
       "      dtype='object')"
      ]
     },
     "execution_count": 157,
     "metadata": {},
     "output_type": "execute_result"
    }
   ],
   "source": [
    "data.columns"
   ]
  },
  {
   "cell_type": "code",
   "execution_count": 171,
   "metadata": {},
   "outputs": [],
   "source": [
    "datanc=data[data['is_canceled']==0]"
   ]
  },
  {
   "cell_type": "code",
   "execution_count": 169,
   "metadata": {},
   "outputs": [
    {
     "data": {
      "text/plain": [
       "ar_date     t_g \n",
       "2017-4-29   2.0     186\n",
       "2017-5-5    2.0     160\n",
       "2016-10-29  2.0     160\n",
       "2016-6-26   2.0     159\n",
       "2016-5-21   2.0     148\n",
       "                   ... \n",
       "2016-10-1   5.0       1\n",
       "2015-9-4    4.0       1\n",
       "2016-11-29  4.0       1\n",
       "2015-10-6   20.0      1\n",
       "2015-9-3    40.0      1\n",
       "Name: count, Length: 3192, dtype: int64"
      ]
     },
     "execution_count": 169,
     "metadata": {},
     "output_type": "execute_result"
    }
   ],
   "source": [
    "data[['ar_date', 't_g']].value_counts()"
   ]
  },
  {
   "cell_type": "code",
   "execution_count": 173,
   "metadata": {},
   "outputs": [],
   "source": [
    "guest_arrival=datanc.groupby(['ar_date'])['t_g'].sum()"
   ]
  },
  {
   "cell_type": "code",
   "execution_count": 179,
   "metadata": {},
   "outputs": [
    {
     "data": {
      "text/plain": [
       "ar_date\n",
       "2015-10-1     149.0\n",
       "2015-10-10    167.0\n",
       "2015-10-11    123.0\n",
       "2015-10-12    186.0\n",
       "2015-10-13    115.0\n",
       "              ...  \n",
       "2017-8-5      205.0\n",
       "2017-8-6      199.0\n",
       "2017-8-7      287.0\n",
       "2017-8-8      191.0\n",
       "2017-8-9      185.0\n",
       "Name: t_g, Length: 793, dtype: float64"
      ]
     },
     "execution_count": 179,
     "metadata": {},
     "output_type": "execute_result"
    }
   ],
   "source": [
    "guest_arrival"
   ]
  },
  {
   "cell_type": "code",
   "execution_count": 178,
   "metadata": {},
   "outputs": [
    {
     "data": {
      "text/plain": [
       "<Axes: xlabel='ar_date'>"
      ]
     },
     "execution_count": 178,
     "metadata": {},
     "output_type": "execute_result"
    },
    {
     "data": {
      "image/png": "[encoded data removed]",
      "text/plain": [
       "<Figure size 2000x1000 with 1 Axes>"
      ]
     },
     "metadata": {},
     "output_type": "display_data"
    }
   ],
   "source": [
    "guest_arrival.plot(figsize=(20,10))"
   ]
  },
  {
   "cell_type": "markdown",
   "metadata": {},
   "source": [
    "__Guest arrival distribution__"
   ]
  },
  {
   "cell_type": "code",
   "execution_count": 181,
   "metadata": {},
   "outputs": [
    {
     "data": {
      "text/plain": [
       "array([149., 167., 123., 186., 115., 110., 197., 118.,  80., 172., 190.,\n",
       "       151., 145., 132., 133., 126.,  99.,  98.,  85.,  77.,  96.,  89.,\n",
       "        94., 111., 165., 157., 167., 148., 152., 121., 158.,  89.,  68.,\n",
       "        69.,  70.,  55.,  58.,  38.,  93.,  88., 107.,  73.,  92., 100.,\n",
       "       106.,  49., 138.,  81.,  52.,  64., 122.,  95.,  24.,  93.,  48.,\n",
       "        68.,  79., 113., 119.,  66.,  70.,  52.,  74.,  76.,  71.,  24.,\n",
       "        54.,  33.,  55.,  64.,  74., 107.,  68.,  55.,  65.,  94.,  99.,\n",
       "       131.,  77., 182., 161., 142., 158.,  87., 202., 174., 137., 323.,\n",
       "        77.,  42.,  38.,  80.,  79.,  99.,  83.,  86.,  79.,  48.,  53.,\n",
       "        80., 110.,  93.,  70.,  71., 109.,  62.,  59.,  80.,  92., 143.,\n",
       "        63., 131.,  61.,  70.,  67.,  81., 106.,  87.,  80.,  87.,  65.,\n",
       "        56.,  58., 111., 237., 171., 114., 113., 131., 168., 127., 176.,\n",
       "       137., 116.,  90., 114., 132., 156., 130., 134., 115., 109.,  88.,\n",
       "       122., 148., 143., 100., 124.,  74., 116.,  88., 125., 160., 149.,\n",
       "       167., 118., 148., 135., 102., 157., 124., 168., 174., 122., 180.,\n",
       "       115., 132., 172., 110., 142., 118., 167., 112.,  83., 102.,  84.,\n",
       "       164., 138., 175., 175., 144., 173., 123., 143.,  75.,  62.,  54.,\n",
       "        81.,  62.,  99., 130., 101.,  56.,  64., 126., 174.,  82.,  81.,\n",
       "        87., 115.,  54.,  91.,  80.,  90., 112., 123.,  87.,  87.,  52.,\n",
       "        96.,  58.,  73.,  66.,  86.,  77., 116., 195., 147., 188., 165.,\n",
       "       104., 112., 235., 189., 143., 143., 204., 221., 199., 136., 185.,\n",
       "       191., 217., 170., 162., 267., 287., 240., 238., 232., 177., 168.,\n",
       "       226., 197., 131., 217., 159., 178., 236., 170., 161., 181., 111.,\n",
       "       150., 164., 241., 188., 183., 100., 184.,  92., 109., 124., 229.,\n",
       "       156.,  83., 109., 108., 143.,  71., 186., 159., 126., 175., 112.,\n",
       "        98., 141., 145.,  45.,  80.,  95.,  86.,  78., 130., 143.,  92.,\n",
       "       117., 183.,  94., 113., 128., 154., 162., 112., 152., 255., 164.,\n",
       "       162., 197., 252., 107., 100., 141., 104., 131., 250., 122.,  69.,\n",
       "       109., 129., 269., 297., 152., 130., 104., 121., 118., 164.,  67.,\n",
       "       170., 102., 143.,  95., 118., 167., 231., 252., 106.,  83., 107.,\n",
       "       127., 190., 249., 155., 141.,  85., 136., 155., 210., 198., 143.,\n",
       "       154., 143., 145., 188., 190., 235., 166., 242., 243., 166., 190.,\n",
       "       313., 215., 128., 142., 251., 179., 144., 174., 219., 240., 169.,\n",
       "       108., 143., 142., 170., 142., 133., 234., 153., 183., 140., 177.,\n",
       "       206., 186., 211., 109., 122., 168., 172., 206., 229., 161., 174.,\n",
       "       193., 148., 217., 230., 135., 222., 198., 145., 156., 164., 219.,\n",
       "       198., 122., 126., 155., 220., 170., 152., 201., 217., 179., 146.,\n",
       "       254., 246., 158., 227., 204., 150., 141., 150., 193.,  98., 104.,\n",
       "       219.,  96., 236., 192., 155., 206., 163., 170., 180., 202., 153.,\n",
       "       193., 152., 196., 186., 117., 139., 149., 243., 163., 174., 215.,\n",
       "       221., 183., 114., 137., 117., 108., 315., 214., 188., 131., 198.,\n",
       "       208., 153., 102., 202., 105., 141., 183., 196., 196., 227., 187.,\n",
       "       210., 204., 210., 235., 188., 263., 161., 187., 180., 193., 155.,\n",
       "       319., 201., 239., 182., 183., 208., 190., 185., 224., 180., 215.,\n",
       "       188., 202., 164., 193., 208., 321., 177., 223., 238., 284., 209.,\n",
       "       255., 231., 201., 180., 203., 208., 286., 244., 269., 171., 195.,\n",
       "       180., 223., 177., 262., 227., 207., 192., 183., 237., 192., 230.,\n",
       "       209., 312., 182., 233., 180., 242., 213., 155., 136., 283., 195.,\n",
       "       140., 230., 225., 205., 195., 152., 168., 169., 127., 199., 218.,\n",
       "       152., 131., 157., 196., 170., 158., 239., 145., 120., 149., 192.,\n",
       "       128., 105.,  75., 129., 115., 156.,  82., 131.,  80., 118., 152.,\n",
       "       237., 102., 151., 105., 109.,  94., 123., 136., 194., 157.,  97.,\n",
       "       149., 132.,  87., 118., 117., 152., 126.,  96.,  96.,  73., 214.,\n",
       "       180., 205., 220., 185., 121., 156., 216., 199., 190., 141., 199.,\n",
       "       126., 144., 144., 171., 256., 253., 203., 128., 153., 203., 103.,\n",
       "       121., 101., 103., 182., 161., 184., 172., 108., 179., 158., 146.,\n",
       "       179., 188., 177., 182., 235., 151., 106., 103., 129., 129., 170.,\n",
       "       152., 138., 114., 217., 167., 198., 216., 117., 184., 152., 146.,\n",
       "       110., 170., 183., 249., 201., 173., 261., 221., 190., 168., 229.,\n",
       "       143., 136., 133., 136., 167., 160., 174., 147., 116., 117., 181.,\n",
       "       253., 303., 192., 167., 113., 223., 176., 171., 191., 277., 212.,\n",
       "       132., 188., 164., 193., 187., 196., 158., 170., 201., 156., 211.,\n",
       "       191., 188., 185., 187., 208., 326., 191., 111., 252., 212., 151.,\n",
       "       149., 144., 187., 229., 183., 151., 206., 201., 218., 185., 250.,\n",
       "       198., 152., 144., 224., 155., 191., 176., 203., 257., 184., 157.,\n",
       "       180., 164., 198., 136., 175., 185., 180., 189., 210., 236., 179.,\n",
       "       209., 157., 135., 217., 182., 211., 264., 230., 211., 182., 179.,\n",
       "       307., 222., 251., 208., 160., 202., 205., 214., 168., 206., 297.,\n",
       "       189., 161., 196., 172., 233., 231., 195., 250., 167., 127., 250.,\n",
       "       205., 215., 260., 222., 181., 155., 249., 209., 223., 208., 227.,\n",
       "       255., 235., 240., 193., 225., 228., 159., 180., 197., 189., 168.,\n",
       "       249., 189., 146., 218., 125., 160., 216., 205., 199., 287., 191.,\n",
       "       185.])"
      ]
     },
     "execution_count": 181,
     "metadata": {},
     "output_type": "execute_result"
    }
   ],
   "source": [
    "guest_arrival.values"
   ]
  },
  {
   "cell_type": "code",
   "execution_count": 185,
   "metadata": {},
   "outputs": [
    {
     "name": "stderr",
     "output_type": "stream",
     "text": [
      "c:\\Users\\tirth\\AppData\\Local\\Programs\\Python\\Python310\\lib\\site-packages\\seaborn\\axisgrid.py:118: UserWarning:\n",
      "\n",
      "The figure layout has changed to tight\n",
      "\n"
     ]
    },
    {
     "data": {
      "text/plain": [
       "<seaborn.axisgrid.FacetGrid at 0x21ab8c617e0>"
      ]
     },
     "execution_count": 185,
     "metadata": {},
     "output_type": "execute_result"
    },
    {
     "data": {
      "image/png": "[encoded data removed]",
      "text/plain": [
       "<Figure size 500x500 with 1 Axes>"
      ]
     },
     "metadata": {},
     "output_type": "display_data"
    }
   ],
   "source": [
    "sns.displot(guest_arrival)"
   ]
  },
  {
   "cell_type": "code",
   "execution_count": 184,
   "metadata": {},
   "outputs": [
    {
     "name": "stderr",
     "output_type": "stream",
     "text": [
      "c:\\Users\\tirth\\AppData\\Local\\Programs\\Python\\Python310\\lib\\site-packages\\seaborn\\axisgrid.py:118: UserWarning:\n",
      "\n",
      "The figure layout has changed to tight\n",
      "\n"
     ]
    },
    {
     "data": {
      "text/plain": [
       "<seaborn.axisgrid.FacetGrid at 0x21ab406b370>"
      ]
     },
     "execution_count": 184,
     "metadata": {},
     "output_type": "execute_result"
    },
    {
     "data": {
      "image/png": "[encoded data removed]",
      "text/plain": [
       "<Figure size 500x500 with 1 Axes>"
      ]
     },
     "metadata": {},
     "output_type": "display_data"
    }
   ],
   "source": [
    "sns.displot(guest_arrival,kind='kde')"
   ]
  },
  {
   "cell_type": "code",
   "execution_count": 186,
   "metadata": {},
   "outputs": [
    {
     "data": {
      "text/plain": [
       "157.92559899117276"
      ]
     },
     "execution_count": 186,
     "metadata": {},
     "output_type": "execute_result"
    }
   ],
   "source": [
    "np.mean(guest_arrival)"
   ]
  },
  {
   "cell_type": "code",
   "execution_count": 187,
   "metadata": {},
   "outputs": [
    {
     "data": {
      "text/plain": [
       "158.0"
      ]
     },
     "execution_count": 187,
     "metadata": {},
     "output_type": "execute_result"
    }
   ],
   "source": [
    "np.median(guest_arrival)"
   ]
  },
  {
   "cell_type": "code",
   "execution_count": 188,
   "metadata": {},
   "outputs": [
    {
     "data": {
      "text/plain": [
       "56.48263702610786"
      ]
     },
     "execution_count": 188,
     "metadata": {},
     "output_type": "execute_result"
    }
   ],
   "source": [
    "np.std(guest_arrival)"
   ]
  },
  {
   "cell_type": "code",
   "execution_count": null,
   "metadata": {},
   "outputs": [],
   "source": []
  }
 ],
 "metadata": {
  "kernelspec": {
   "display_name": "Python 3",
   "language": "python",
   "name": "python3"
  },
  "language_info": {
   "codemirror_mode": {
    "name": "ipython",
    "version": 3
   },
   "file_extension": ".py",
   "mimetype": "text/x-python",
   "name": "python",
   "nbconvert_exporter": "python",
   "pygments_lexer": "ipython3",
   "version": "3.10.2"
  }
 },
 "nbformat": 4,
 "nbformat_minor": 2
}
